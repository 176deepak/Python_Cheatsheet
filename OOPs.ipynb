{
 "cells": [
  {
   "cell_type": "markdown",
   "id": "f55425f0-a0cc-48d8-b150-2053e3fd6b0d",
   "metadata": {},
   "source": [
    "# OBJECT ORIENTED PROGRAMMING\n",
    "\n",
    "Object-Oriented Programming (OOP) is a programming paradigm that uses objects and classes to structure and organize code. Python is an object-oriented programming language that fully supports OOP principles. In OOP, code is organized into reusable and self-contained units called classes, and objects are instances of these classes. We declare class with class keyword. Here are the key concepts and features of OOP in Python:\n",
    "\n",
    "## Classes and Objects:\n",
    "\n",
    "`Class`: A class is a blueprint or template for creating objects. It defines the attributes (data members) and methods (functions) that objects of the class will have.\n",
    "\n",
    "`Object`: An object is an instance of a class. It represents a real-world entity or concept and contains data (attributes) and methods to work with that data. For example, suppose Bike is a class then we can create objects like bike1, bike2, etc from the class."
   ]
  },
  {
   "cell_type": "code",
   "execution_count": 2,
   "id": "6c51ada9-850b-467e-a56c-a4794df649d1",
   "metadata": {},
   "outputs": [
    {
     "name": "stdout",
     "output_type": "stream",
     "text": [
      "Name: Mountain Bike, Gears: 11 \n"
     ]
    }
   ],
   "source": [
    "# define a class\n",
    "class Bike:\n",
    "    name = \"\"\n",
    "    gear = 0\n",
    "\n",
    "# create object of class\n",
    "bike1 = Bike()\n",
    "\n",
    "# access attributes and assign new values\n",
    "bike1.gear = 11\n",
    "bike1.name = \"Mountain Bike\"\n",
    "\n",
    "print(f\"Name: {bike1.name}, Gears: {bike1.gear} \")"
   ]
  },
  {
   "cell_type": "markdown",
   "id": "3b22dd6c-e218-4fec-9f60-fa3a4ee5f380",
   "metadata": {},
   "source": [
    "## Attributes and Methods:\n",
    "\n",
    "`Attributes`: Attributes are data members or variables that store information about an object. They represent the characteristics or properties of the object.\n",
    "\n",
    "`Methods`: Methods are functions defined within a class that can perform actions on the object's attributes or perform other tasks related to the object."
   ]
  },
  {
   "cell_type": "code",
   "execution_count": 4,
   "id": "34c6a662-d2d9-4c6f-abb9-db8123704ef2",
   "metadata": {},
   "outputs": [
    {
     "name": "stdout",
     "output_type": "stream",
     "text": [
      "Toyota Fortuner 6's engine started.\n"
     ]
    }
   ],
   "source": [
    "class Car:\n",
    "    name = None\n",
    "    gear = None\n",
    "\n",
    "    def start_engine(self):\n",
    "        print(f\"{self.name} {self.gear}'s engine started.\")\n",
    "\n",
    "my_car = Car()\n",
    "my_car.name = \"Toyota Fortuner\"\n",
    "my_car.gear = \"6\"\n",
    "my_car.start_engine()  # Outputs: Toyota Camry's engine started."
   ]
  },
  {
   "cell_type": "markdown",
   "id": "e2da068f-9ddc-4be3-8e4f-83b47a465b2c",
   "metadata": {},
   "source": [
    "we have used `.` for accessing class variable, data members or class methods"
   ]
  },
  {
   "cell_type": "markdown",
   "id": "2813344a-1900-4181-8ea9-e93bc8e6b790",
   "metadata": {},
   "source": [
    "## Constructor (__init__):\n",
    "\n",
    "The __init__() method is a special method. It is automatically executed when an object of the class is created. It initializes the object's attributes. __init__() methods works as `constructer` for python classes. Using this we can define classes attributes."
   ]
  },
  {
   "cell_type": "code",
   "execution_count": 5,
   "id": "680f811b-2f48-493b-9db6-3857b93fa8f0",
   "metadata": {},
   "outputs": [
    {
     "name": "stdout",
     "output_type": "stream",
     "text": [
      "Hello! Alice, You are 30 old.\n"
     ]
    }
   ],
   "source": [
    "class Person:\n",
    "    def __init__(self, name, age):\n",
    "        self.name = name\n",
    "        self.age = age\n",
    "\n",
    "person1 = Person(\"Alice\", 30)\n",
    "\n",
    "print(f\"Hello! {person1.name}, You are {person1.age} old.\")"
   ]
  },
  {
   "cell_type": "markdown",
   "id": "ff379d45-4c5e-4d68-b632-e23aa894da8e",
   "metadata": {},
   "source": [
    "## The self\n",
    "\n",
    "In Python, `self` is a conventional name used to refer to the instance of a class within the class itself. It is the first parameter of methods defined within a class and is automatically passed when you call a method on an object. By convention, you should name this parameter `self`, although you could technically use any name.\r\n",
    "\r\n",
    "The `self` parameter is used to access and manipulate the object's attributes and call other methods within the class. It essentially represents the instance of the class on which the method is being calleork with its attributes and methods.\r\n",
    "\r\n",
    "In summary, `self` is a reference to the current instance of a class, and it allows you to interact with the object's data and behavior. It is a fundamental concept in object-oriented programming and ensures that the correct instance is operated on when you have multiple objects of the same class."
   ]
  },
  {
   "cell_type": "code",
   "execution_count": 6,
   "id": "cb303b76-a13c-4a71-8a8f-95d3cc19a7d7",
   "metadata": {},
   "outputs": [
    {
     "name": "stdout",
     "output_type": "stream",
     "text": [
      "42\n",
      "99\n"
     ]
    }
   ],
   "source": [
    "class MyClass:\n",
    "    def __init__(self, value):\n",
    "        self.value = value\n",
    "\n",
    "    def display(self):\n",
    "        print(self.value)\n",
    "\n",
    "    def update(self, new_value):\n",
    "        self.value = new_value\n",
    "\n",
    "# Creating an object of MyClass\n",
    "obj = MyClass(42)\n",
    "\n",
    "# Accessing an attribute using self\n",
    "obj.display()  # Prints 42\n",
    "\n",
    "# Modifying an attribute using self\n",
    "obj.update(99)\n",
    "obj.display()  # Prints 99"
   ]
  },
  {
   "cell_type": "markdown",
   "id": "8b461cd8-7a86-4fc0-a742-916d18faa5f3",
   "metadata": {},
   "source": [
    "## Public, Private and Protected attributes\n",
    "\n",
    "In Python, attributes in a class can have different levels of visibility and accessibility, which are often categorized as private, protected, and public attributes. These visibility levels determine how attributes can be accessed and modified from outside the class. Here's an explanation of these attribute visibility levels:"
   ]
  },
  {
   "cell_type": "markdown",
   "id": "46b3cc1a-b2fa-443f-8c79-cadcb7d31564",
   "metadata": {},
   "source": [
    "### Public Attributes (Public Members):\r\n",
    "\r\n",
    "Public attributes are accessible from outside the class without any restrictions. They are typically defined without any underscores as prefixes."
   ]
  },
  {
   "cell_type": "code",
   "execution_count": 7,
   "id": "771ef778-85fb-47a6-998b-b320f851f969",
   "metadata": {},
   "outputs": [
    {
     "name": "stdout",
     "output_type": "stream",
     "text": [
      "42\n"
     ]
    }
   ],
   "source": [
    "class MyClass:\n",
    "    def __init__(self):\n",
    "        self.public_var = 42  # 'public_var' is a public attribute\n",
    "\n",
    "obj = MyClass()\n",
    "print(obj.public_var)  # Accessing 'public_var' from outside the class is straightforward"
   ]
  },
  {
   "cell_type": "markdown",
   "id": "a224f851-0759-4b8d-b71d-0385fba27777",
   "metadata": {},
   "source": [
    "### Private Attributes (Private Members):\n",
    "\n",
    "Private attributes are intended to be accessed only from within the class where they are defined. They are denoted by prefixing the attribute name with `double underscores __`.\n",
    "While Python does not provide strict access control, using double underscores signals to developers that an attribute is intended for internal use and should not be accessed directly from outside the class."
   ]
  },
  {
   "cell_type": "code",
   "execution_count": 11,
   "id": "0a48017d-a4d6-47f1-9aa9-0394f65cb377",
   "metadata": {},
   "outputs": [
    {
     "name": "stdout",
     "output_type": "stream",
     "text": [
      "42\n"
     ]
    },
    {
     "ename": "AttributeError",
     "evalue": "'MyClass' object has no attribute '__private_var'",
     "output_type": "error",
     "traceback": [
      "\u001b[1;31m---------------------------------------------------------------------------\u001b[0m",
      "\u001b[1;31mAttributeError\u001b[0m                            Traceback (most recent call last)",
      "Cell \u001b[1;32mIn[11], line 11\u001b[0m\n\u001b[0;32m      9\u001b[0m \u001b[38;5;28mprint\u001b[39m(obj\u001b[38;5;241m.\u001b[39mget_private_var())  \u001b[38;5;66;03m# Accessing '__private_var' via a method\u001b[39;00m\n\u001b[0;32m     10\u001b[0m \u001b[38;5;66;03m# Direct access is discouraged but possible\u001b[39;00m\n\u001b[1;32m---> 11\u001b[0m \u001b[38;5;28mprint\u001b[39m(\u001b[43mobj\u001b[49m\u001b[38;5;241;43m.\u001b[39;49m\u001b[43m__private_var\u001b[49m)  \u001b[38;5;66;03m# Avoid doing this\u001b[39;00m\n",
      "\u001b[1;31mAttributeError\u001b[0m: 'MyClass' object has no attribute '__private_var'"
     ]
    }
   ],
   "source": [
    "class MyClass:\n",
    "    def __init__(self):\n",
    "        self.__private_var = 42  # '__private_var' is a private attribute\n",
    "\n",
    "    def get_private_var(self):\n",
    "        return self.__private_var\n",
    "\n",
    "obj = MyClass()\n",
    "print(obj.get_private_var())  # Accessing '__private_var' via a method\n",
    "# Direct access is discouraged but possible\n",
    "print(obj.__private_var)  # Avoid doing this"
   ]
  },
  {
   "cell_type": "markdown",
   "id": "5e15f7b0-3a7b-405d-b046-a7768f6658a0",
   "metadata": {},
   "source": [
    "### Protected Attributes (Protected Members):\r\n",
    "\r\n",
    "Protected attributes are intended to be accessed within the class and its subclasses (derived classes). They are denoted by prefixing the attribute name with a single underscore _. However, this is also a naming convention and not a strict access control mechanism."
   ]
  },
  {
   "cell_type": "code",
   "execution_count": 12,
   "id": "d56648a7-dcd3-45d8-9e8b-814240185197",
   "metadata": {},
   "outputs": [
    {
     "name": "stdout",
     "output_type": "stream",
     "text": [
      "42\n",
      "42\n"
     ]
    }
   ],
   "source": [
    "class MyClass:\n",
    "    def __init__(self):\n",
    "        self._protected_var = 42  # '_protected_var' is a protected attribute\n",
    "\n",
    "    def get_protected_var(self):\n",
    "        return self._protected_var\n",
    "\n",
    "class SubClass(MyClass):\n",
    "    def __init__(self):\n",
    "        super().__init__()\n",
    "\n",
    "    def access_protected_var(self):\n",
    "        return self._protected_var  # Accessing protected attribute in a subclass\n",
    "\n",
    "obj = SubClass()\n",
    "print(obj.get_protected_var())  # Accessing '_protected_var' via a method\n",
    "print(obj.access_protected_var())  # Accessing '_protected_var' in a subclass"
   ]
  },
  {
   "cell_type": "markdown",
   "id": "c75a00a4-2e24-416b-94ed-146cbb289e9f",
   "metadata": {},
   "source": [
    "## INHERITENCE\n",
    "\n",
    "Inheritance is a mechanism that allows you to create a new class (subclass or derived class) by inheriting attributes and methods from an existing class (superclass or base class). It promotes code reuse and hierarchy.\n",
    "\n",
    "The new class that is created is known as subclass (child or derived class) and the existing class from which the child class is derived is known as superclass (parent or base class)."
   ]
  },
  {
   "cell_type": "code",
   "execution_count": 13,
   "id": "2b9d378e-05a7-48a9-9b8e-7c5533f25c6e",
   "metadata": {},
   "outputs": [
    {
     "name": "stdout",
     "output_type": "stream",
     "text": [
      "Buddy says Woof!\n",
      "Whiskers says Meow!\n"
     ]
    }
   ],
   "source": [
    "class Animal:\n",
    "    def __init__(self, name):\n",
    "        self.name = name\n",
    "\n",
    "    def speak(self):\n",
    "        pass\n",
    "\n",
    "class Dog(Animal):                                    #inherited from animal class\n",
    "    def speak(self):\n",
    "        return f\"{self.name} says Woof!\"\n",
    "\n",
    "class Cat(Animal):                                      #inherited from animal class\n",
    "    def speak(self):\n",
    "        return f\"{self.name} says Meow!\"\n",
    "\n",
    "dog = Dog(\"Buddy\")\n",
    "cat = Cat(\"Whiskers\")\n",
    "\n",
    "print(dog.speak())  # Outputs: Buddy says Woof!\n",
    "print(cat.speak())  # Outputs: Whiskers says Meow!"
   ]
  },
  {
   "cell_type": "markdown",
   "id": "91f0c179-837a-418f-88f6-b59c549bb05c",
   "metadata": {},
   "source": [
    "# super().__init__()\n",
    "\n",
    "`super().__init__` is a way to call the constructor (the __init__ method) of a superclass (or parent class) from within the constructor of a subclass (or child class). This is typically used when you want to initialize the attributes of the superclass in addition to the attributes specific to the subclass."
   ]
  },
  {
   "cell_type": "code",
   "execution_count": 18,
   "id": "116853bc-d3b3-4768-831c-bdfbf2f73a0b",
   "metadata": {},
   "outputs": [
    {
     "name": "stdout",
     "output_type": "stream",
     "text": [
      "Alice\n",
      "30\n"
     ]
    }
   ],
   "source": [
    "class Parent:\n",
    "    def __init__(self, name):\n",
    "        self.name = name\n",
    "\n",
    "class Child(Parent):\n",
    "    def __init__(self, name, age):\n",
    "        super().__init__(name)  # Call the constructor of the Parent class\n",
    "        self.age = age\n",
    "\n",
    "child = Child(\"Alice\", 30)\n",
    "print(child.name)  # Outputs: Alice (attribute from the Parent class)\n",
    "print(child.age)   # Outputs: 30 (attribute from the Child class)"
   ]
  },
  {
   "cell_type": "markdown",
   "id": "44cf78ef-a453-43fa-9017-ebc886008e16",
   "metadata": {},
   "source": [
    "By calling `super().__init__(name)`, we ensure that the name attribute of the Parent class is initialized correctly when an object of the Child class is created. This allows us to reuse the initialization logic from the parent class while adding additional attributes and behavior specific to the child class."
   ]
  },
  {
   "cell_type": "markdown",
   "id": "575a6865-ebb3-4eba-9410-a11815b5347e",
   "metadata": {},
   "source": [
    "### Method Overriding\n",
    "\n",
    "Method overriding is a feature in object-oriented programming (OOP) that allows a subclass to provide a specific implementation of a method that is already defined in its superclass. When a subclass overrides a method, it provides its own version of that method with the same name and parameters, effectively replacing the implementation inherited from the superclass. Method overriding is used to customize or extend the behavior of methods in the subclass."
   ]
  },
  {
   "cell_type": "code",
   "execution_count": 19,
   "id": "05f119e7-e196-4765-91b1-476b8e7b6e82",
   "metadata": {},
   "outputs": [
    {
     "name": "stdout",
     "output_type": "stream",
     "text": [
      "I like to eat bones\n"
     ]
    }
   ],
   "source": [
    "class Animal:\n",
    "\n",
    "    # attributes and method of the parent class\n",
    "    name = \"\"\n",
    "    \n",
    "    def eat(self):\n",
    "        print(\"I can eat\")\n",
    "\n",
    "# inherit from Animal\n",
    "class Dog(Animal):\n",
    "\n",
    "    # override eat() method\n",
    "    def eat(self):\n",
    "        print(\"I like to eat bones\")\n",
    "\n",
    "# create an object of the subclass\n",
    "labrador = Dog()\n",
    "\n",
    "# call the eat() method on the labrador object\n",
    "labrador.eat()"
   ]
  },
  {
   "cell_type": "markdown",
   "id": "ee05db83-0aaf-4833-b1d0-e06f972a2239",
   "metadata": {},
   "source": [
    "### The super() method\n",
    "\n",
    "`super()` method is used for accessing superclass methods from subclass. For example,"
   ]
  },
  {
   "cell_type": "code",
   "execution_count": 20,
   "id": "036330a5-428f-4790-aa70-28e19db0e886",
   "metadata": {},
   "outputs": [
    {
     "name": "stdout",
     "output_type": "stream",
     "text": [
      "I can eat\n",
      "I like to eat bones\n"
     ]
    }
   ],
   "source": [
    "class Animal:\n",
    "\n",
    "    name = \"\"\n",
    "    \n",
    "    def eat(self):\n",
    "        print(\"I can eat\")\n",
    "\n",
    "# inherit from Animal\n",
    "class Dog(Animal):\n",
    "    \n",
    "    # override eat() method\n",
    "    def eat(self):\n",
    "        \n",
    "        # call the eat() method of the superclass using super()\n",
    "        super().eat()\n",
    "        \n",
    "        print(\"I like to eat bones\")\n",
    "\n",
    "# create an object of the subclass\n",
    "labrador = Dog()\n",
    "\n",
    "labrador.eat()"
   ]
  },
  {
   "cell_type": "markdown",
   "id": "3fe2032c-18df-4e34-bb99-74e2aec6b11f",
   "metadata": {},
   "source": [
    "### Multiple Inheritence\n",
    "\n",
    "A class can be derived from more than one superclass in Python. This is called multiple inheritance.\r\n",
    "\r\n",
    "For example, A class Bat is derived from superclasses Mammal and WingedAnimal. It makes sense because bat is a mammal as well as a winged animal."
   ]
  },
  {
   "cell_type": "code",
   "execution_count": 22,
   "id": "5b66ab7b-2346-4ee6-bc99-28e05be6d505",
   "metadata": {},
   "outputs": [
    {
     "name": "stdout",
     "output_type": "stream",
     "text": [
      "Mammals can give direct birth.\n",
      "Winged animals can flap.\n"
     ]
    }
   ],
   "source": [
    "class Mammal:\n",
    "    def mammal_info(self):\n",
    "        print(\"Mammals can give direct birth.\")\n",
    "\n",
    "class WingedAnimal:\n",
    "    def winged_animal_info(self):\n",
    "        print(\"Winged animals can flap.\")\n",
    "\n",
    "class Bat(Mammal, WingedAnimal):\n",
    "    pass\n",
    "\n",
    "# create an object of Bat class\n",
    "b1 = Bat()\n",
    "\n",
    "b1.mammal_info()\n",
    "b1.winged_animal_info()"
   ]
  },
  {
   "cell_type": "markdown",
   "id": "405ce942-5794-454c-ba72-75ea6d6a485e",
   "metadata": {},
   "source": [
    "### Multilevel Inheritence\n",
    "\n",
    "n Python, not only can we derive a class from the superclass but you can also derive a class from the derived class. This form of inheritance is known as multilevel inheritance.\n",
    "\n",
    "Here's the syntax of the multilevel inheritance,\r",
    "```python\n",
    "\r\n",
    "class SuperClass:\r\n",
    "    # Super class code here\r\n",
    "\r\n",
    "class DerivedClass1(SuperClass):\r\n",
    "    # Derived class 1 code here\r\n",
    "\r\n",
    "class DerivedClass2(DerivedC    1):\r\n",
    "    # Derived class 2 code here"
   ]
  },
  {
   "cell_type": "code",
   "execution_count": 23,
   "id": "d327824a-c15e-4055-879a-e7629368286b",
   "metadata": {},
   "outputs": [
    {
     "name": "stdout",
     "output_type": "stream",
     "text": [
      "Super Class method called\n",
      "Derived class 1 method called\n",
      "Derived class 2 method called\n"
     ]
    }
   ],
   "source": [
    "class SuperClass:\n",
    "\n",
    "    def super_method(self):\n",
    "        print(\"Super Class method called\")\n",
    "\n",
    "# define class that derive from SuperClass\n",
    "class DerivedClass1(SuperClass):\n",
    "    def derived1_method(self):\n",
    "        print(\"Derived class 1 method called\")\n",
    "\n",
    "# define class that derive from DerivedClass1\n",
    "class DerivedClass2(DerivedClass1):\n",
    "\n",
    "    def derived2_method(self):\n",
    "        print(\"Derived class 2 method called\")\n",
    "\n",
    "# create an object of DerivedClass2\n",
    "d2 = DerivedClass2()\n",
    "\n",
    "d2.super_method()  # Output: \"Super Class method called\"\n",
    "\n",
    "d2.derived1_method()  # Output: \"Derived class 1 method called\"\n",
    "\n",
    "d2.derived2_method()  # Output: \"Derived class 2 method called\""
   ]
  },
  {
   "cell_type": "markdown",
   "id": "7127a436-98e4-42a8-bb23-b6411f4b87e3",
   "metadata": {},
   "source": [
    "## Method Resolution Order (MRO)\n",
    "\n",
    "The MRO specifies that methods should be inherited from the leftmost superclass first in multiple inheritence case."
   ]
  },
  {
   "cell_type": "code",
   "execution_count": 24,
   "id": "54c1ea3b-49c7-42b7-82fd-5b0ccd0b61d1",
   "metadata": {},
   "outputs": [
    {
     "name": "stdout",
     "output_type": "stream",
     "text": [
      "Super Class 1 method called\n"
     ]
    }
   ],
   "source": [
    "class SuperClass1:\n",
    "    def info(self):\n",
    "        print(\"Super Class 1 method called\")\n",
    "\n",
    "class SuperClass2:\n",
    "    def info(self):\n",
    "        print(\"Super Class 2 method called\")\n",
    "\n",
    "class Derived(SuperClass1, SuperClass2):\n",
    "    pass\n",
    "\n",
    "d1 = Derived()\n",
    "d1.info()  \n",
    "\n",
    "# Output: \"Super Class 1 method called\", becuase super class 1 is at left most or inherited first"
   ]
  },
  {
   "cell_type": "markdown",
   "id": "2327fe0b-d707-45d0-bbfc-31fb31fa5363",
   "metadata": {},
   "source": [
    "## Operator Overloading\n",
    "\n",
    "Operator overloading is a feature in object-oriented programming that allows you to define how operators (e.g., +, -, *, /) should behave when applied to objects of a custom class. In other words, you can give new meanings to existing operators for your user-defined data types. This feature enables you to make your classes more intuitive and user-friendly by providing natural and meaningful operations for the objects of those classes.\n",
    "\n",
    "In Python, operator overloading is achieved by defining special methods with double underscores (e.g., __add__, __sub__, __mul__, __div__, etc.) in class. These special methods are also known as \"magic methods\" or \"dunder methods\" (short for \"double underscore\")."
   ]
  },
  {
   "cell_type": "code",
   "execution_count": 25,
   "id": "73e42955-f53a-439e-b928-baec48a6e2c3",
   "metadata": {},
   "outputs": [
    {
     "name": "stdout",
     "output_type": "stream",
     "text": [
      "(3,5)\n"
     ]
    }
   ],
   "source": [
    "class Point:\n",
    "    def __init__(self, x=0, y=0):\n",
    "        self.x = x\n",
    "        self.y = y\n",
    "\n",
    "    def __str__(self):\n",
    "        return \"({0},{1})\".format(self.x, self.y)\n",
    "\n",
    "    def __add__(self, other):\n",
    "        x = self.x + other.x\n",
    "        y = self.y + other.y\n",
    "        return Point(x, y)\n",
    "\n",
    "\n",
    "p1 = Point(1, 2)\n",
    "p2 = Point(2, 3)\n",
    "\n",
    "print(p1+p2)\n",
    "\n",
    "# Output: (3,5)"
   ]
  },
  {
   "cell_type": "markdown",
   "id": "59d67e17-0eee-4f3c-9538-0e28bb4010a5",
   "metadata": {},
   "source": [
    "In the above example, what actually happens is that, when we use p1 + p2, Python calls p1.__add__(p2) which in turn is Point.__add__(p1,p2). After this, the addition operation is carried out the way we specified."
   ]
  },
  {
   "cell_type": "markdown",
   "id": "9c90b028-e449-4016-8de4-71aabc3afbc6",
   "metadata": {},
   "source": [
    "## Encapsulation\r\n",
    "\n",
    "Encapsulation is one of the key features of object-oriented programming. Encapsulation refers to the bundling of attributes and methods inside a single class.\r\n",
    "\r\n",
    "It prevents outer classes from accessing and changing attributes and methods of a class. This also helps to achieve data hidig.\r\n",
    "\r\n",
    "In Python, we denote private attributes using underscore as the prefix` i.e single _ or doub`le __. For example,"
   ]
  },
  {
   "cell_type": "code",
   "execution_count": 26,
   "id": "75ad8f57-18ed-4cf0-ae82-5382ecd52022",
   "metadata": {},
   "outputs": [
    {
     "name": "stdout",
     "output_type": "stream",
     "text": [
      "Selling Price: 900\n",
      "Selling Price: 900\n",
      "Selling Price: 1000\n"
     ]
    }
   ],
   "source": [
    "class Computer:\n",
    "\n",
    "    def __init__(self):\n",
    "        self.__maxprice = 900\n",
    "\n",
    "    def sell(self):\n",
    "        print(\"Selling Price: {}\".format(self.__maxprice))\n",
    "\n",
    "    def setMaxPrice(self, price):\n",
    "        self.__maxprice = price\n",
    "\n",
    "c = Computer()\n",
    "c.sell()\n",
    "\n",
    "# change the price\n",
    "c.__maxprice = 1000\n",
    "c.sell()\n",
    "\n",
    "# using setter function\n",
    "c.setMaxPrice(1000)\n",
    "c.sell()"
   ]
  },
  {
   "cell_type": "markdown",
   "id": "f7ddf0d3-a2f9-4910-9354-f6e56d63b728",
   "metadata": {},
   "source": [
    "here, we have tried to modify the value of __maxprice outside of the class. However, since __maxprice is a private variable, this modification is not seen on the output."
   ]
  },
  {
   "cell_type": "markdown",
   "id": "aa95d05b-0f47-4e74-8c32-e1b2e81a2b94",
   "metadata": {},
   "source": [
    "## Polymorphism\r\n",
    "\n",
    "Polymorphism is another important concept of object-oriented programming. It simply means more than one form\r\n",
    "\r\n",
    "That is, the same entity (method or operator or object) can perform different operations in different scenarios."
   ]
  },
  {
   "cell_type": "code",
   "execution_count": 27,
   "id": "ffec683c-1757-4b1e-8a48-c56d4f9766e4",
   "metadata": {},
   "outputs": [
    {
     "name": "stdout",
     "output_type": "stream",
     "text": [
      "Rendering Square...\n",
      "Rendering Circle...\n"
     ]
    }
   ],
   "source": [
    "class Polygon:\n",
    "    # method to render a shape\n",
    "    def render(self):\n",
    "        print(\"Rendering Polygon...\")\n",
    "\n",
    "class Square(Polygon):\n",
    "    # renders Square\n",
    "    def render(self):\n",
    "        print(\"Rendering Square...\")\n",
    "\n",
    "class Circle(Polygon):\n",
    "    # renders circle\n",
    "    def render(self):\n",
    "        print(\"Rendering Circle...\")\n",
    "    \n",
    "# create an object of Square\n",
    "s1 = Square()\n",
    "s1.render()\n",
    "\n",
    "# create an object of Circle\n",
    "c1 = Circle()\n",
    "c1.render()"
   ]
  },
  {
   "cell_type": "markdown",
   "id": "6d4fddfd-3123-4b15-a2a6-43d2d3ca98a1",
   "metadata": {},
   "source": [
    "In the above example, we have created a superclass: Polygon and two subclasses: Square and Circle. Notice the use of the render() method."
   ]
  },
  {
   "cell_type": "code",
   "execution_count": null,
   "id": "db2d6335-201f-4d22-9dd8-e453bd7e60a9",
   "metadata": {},
   "outputs": [],
   "source": []
  }
 ],
 "metadata": {
  "kernelspec": {
   "display_name": "Python 3 (ipykernel)",
   "language": "python",
   "name": "python3"
  },
  "language_info": {
   "codemirror_mode": {
    "name": "ipython",
    "version": 3
   },
   "file_extension": ".py",
   "mimetype": "text/x-python",
   "name": "python",
   "nbconvert_exporter": "python",
   "pygments_lexer": "ipython3",
   "version": "3.11.5"
  }
 },
 "nbformat": 4,
 "nbformat_minor": 5
}
