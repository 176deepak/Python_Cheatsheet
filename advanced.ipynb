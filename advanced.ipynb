{
 "cells": [
  {
   "cell_type": "markdown",
   "id": "97a4a7fc-7729-4b86-b5a7-394e178db827",
   "metadata": {},
   "source": [
    "# ITERATORS\n",
    "\n",
    "In Python, an iterator is an object that represents a stream of data. Iterators are used to traverse through elements of a collection, such as a list, tuple, dictionary, or any other iterable object, one item at a time. Iterators provide a way to loop over elements without having to access them all at once, which can be memory-efficient and useful for working with large datasets.\n",
    "\n",
    "To work with iterators in Python, you typically use two main methods: `iter()` and `next()`, and you can also create your custom iterators by defining classes that implement the `__iter__()` and `__next__()` methods."
   ]
  },
  {
   "cell_type": "markdown",
   "id": "c635c6ae-14a4-4435-a268-cf815f2a9ada",
   "metadata": {},
   "source": [
    "### Using Built-in Iterators\n",
    "\n",
    "`iter()`: The iter() function is used to create an iterator from an iterable object.\n",
    "\n",
    "`next()`: The next() function is used to retrieve the next element from the iterator. It raises a StopIteration exception when there are no more elements."
   ]
  },
  {
   "cell_type": "code",
   "execution_count": 4,
   "id": "88dcd64b-4f4f-486c-a87e-1428cf96e6f2",
   "metadata": {},
   "outputs": [
    {
     "name": "stdout",
     "output_type": "stream",
     "text": [
      "1\n",
      "2\n",
      "3\n",
      "4\n",
      "5\n"
     ]
    },
    {
     "ename": "StopIteration",
     "evalue": "",
     "output_type": "error",
     "traceback": [
      "\u001b[1;31m---------------------------------------------------------------------------\u001b[0m",
      "\u001b[1;31mStopIteration\u001b[0m                             Traceback (most recent call last)",
      "Cell \u001b[1;32mIn[4], line 9\u001b[0m\n\u001b[0;32m      7\u001b[0m \u001b[38;5;28mprint\u001b[39m(\u001b[38;5;28mnext\u001b[39m(my_iterator))\n\u001b[0;32m      8\u001b[0m \u001b[38;5;28mprint\u001b[39m(\u001b[38;5;28mnext\u001b[39m(my_iterator))\n\u001b[1;32m----> 9\u001b[0m \u001b[38;5;28mprint\u001b[39m(\u001b[38;5;28;43mnext\u001b[39;49m\u001b[43m(\u001b[49m\u001b[43mmy_iterator\u001b[49m\u001b[43m)\u001b[49m)\n",
      "\u001b[1;31mStopIteration\u001b[0m: "
     ]
    }
   ],
   "source": [
    "my_list = [1, 2, 3, 4, 5]\n",
    "my_iterator = iter(my_list)\n",
    "\n",
    "print(next(my_iterator))\n",
    "print(next(my_iterator))\n",
    "print(next(my_iterator))\n",
    "print(next(my_iterator))\n",
    "print(next(my_iterator))\n",
    "print(next(my_iterator))"
   ]
  },
  {
   "cell_type": "markdown",
   "id": "a39aa97c-1fb1-4117-a990-ae207252e12b",
   "metadata": {},
   "source": [
    "### Creating Custom Iterators\n",
    "\n",
    "We can create your own iterators by defining classes that implement the __iter__() and __next__() methods.</br>\n",
    "`__iter__()`: returns the iterator object itself. If required, some initialization can be performed.</br>\n",
    "`__next__()`: must return the next item in the sequence. On reaching the end, and in subsequent calls, it must raise StopIteration"
   ]
  },
  {
   "cell_type": "code",
   "execution_count": 6,
   "id": "049c09f8-3ed9-462d-9c1b-de80ff80eb9d",
   "metadata": {},
   "outputs": [
    {
     "name": "stdout",
     "output_type": "stream",
     "text": [
      "1\n",
      "2\n",
      "3\n",
      "4\n"
     ]
    }
   ],
   "source": [
    "class MyRange:\n",
    "    def __init__(self, start, end):\n",
    "        self.current = start\n",
    "        self.end = end\n",
    "\n",
    "    def __iter__(self):\n",
    "        return self\n",
    "\n",
    "    def __next__(self):\n",
    "        if self.current >= self.end:\n",
    "            raise StopIteration\n",
    "        value = self.current\n",
    "        self.current += 1\n",
    "        return value\n",
    "\n",
    "my_range = MyRange(1, 5)\n",
    "for num in my_range:\n",
    "    print(num)"
   ]
  },
  {
   "cell_type": "markdown",
   "id": "9806a7c7-1532-4ce0-ba62-b136ecd6103a",
   "metadata": {},
   "source": [
    "________________________________________"
   ]
  },
  {
   "cell_type": "markdown",
   "id": "e3407a15-e9b8-4304-af7c-0a1632e387c1",
   "metadata": {},
   "source": [
    "# GENERATORS\n",
    "\n",
    "Generators are a type of iterable in Python that allow you to iterate over a potentially large sequence of items without storing them all in memory at once. They are a memory-efficient way to work with sequences of data, especially when dealing with large datasets or infinite sequences. \n",
    "\n",
    "In Python, similar to defining a normal function, we can define a generator function using the def keyword, but `instead of the return statement we use the yield` statement.\n",
    "\n",
    "- **Working**\n",
    "1. The yield statement is used within a function to indicate that it's a generator. When the function is called, it doesn't execute immediately but returns a generator object.\n",
    "\n",
    "2. Each time the yield statement is encountered, the function's state is saved, and the yielded value is returned. Execution of the function is paused at that point.\n",
    "\n",
    "3. The next time you request a value from the generator (using next() or within a for loop), execution resumes from where it left off, continuing until the next yield or until the function exits."
   ]
  },
  {
   "cell_type": "code",
   "execution_count": 11,
   "id": "de953319-bfa6-4390-bb81-4b6b9b54b6a3",
   "metadata": {},
   "outputs": [
    {
     "name": "stdout",
     "output_type": "stream",
     "text": [
      "1\n",
      "2\n",
      "3\n",
      "4\n",
      "5\n",
      "6\n"
     ]
    }
   ],
   "source": [
    "def count_up_to(n):\n",
    "    i = 1\n",
    "    while i <= n:\n",
    "        yield i\n",
    "        i += 1\n",
    "\n",
    "count = count_up_to(10)\n",
    "print(next(count))\n",
    "print(next(count))\n",
    "print(next(count))\n",
    "print(next(count))\n",
    "print(next(count))\n",
    "print(next(count))"
   ]
  },
  {
   "cell_type": "markdown",
   "id": "a538147e-ca5b-48bd-a97d-5141ea703c47",
   "metadata": {},
   "source": [
    "### Generator Expression\n",
    "\n",
    "Generator expressions are similar to list comprehensions, but they use parentheses instead of square brackets. They create generator objects on the fly."
   ]
  },
  {
   "cell_type": "code",
   "execution_count": 14,
   "id": "ce83c425-9428-4e00-95f4-4839df5c9f93",
   "metadata": {},
   "outputs": [
    {
     "name": "stdout",
     "output_type": "stream",
     "text": [
      "0\n",
      "1\n",
      "4\n",
      "9\n",
      "16\n"
     ]
    }
   ],
   "source": [
    "# create the generator object\n",
    "squares_generator = (i * i for i in range(5))\n",
    "\n",
    "# iterate over the generator and print the values\n",
    "for i in squares_generator:\n",
    "    print(i)"
   ]
  },
  {
   "cell_type": "markdown",
   "id": "5497c1cd-3bfb-49ce-a2e8-0a9c9e9342da",
   "metadata": {},
   "source": [
    "### Closing Generators:\r\n",
    "We u can manually close a generator using the generator.close() method. This is useful for freeing up resources or cleaning up when you're done with a generator."
   ]
  },
  {
   "cell_type": "code",
   "execution_count": 15,
   "id": "46f150c6-b49f-4790-bba1-62246fd8dc49",
   "metadata": {},
   "outputs": [],
   "source": [
    "count.close()"
   ]
  },
  {
   "cell_type": "markdown",
   "id": "92346e36-57fd-4cb2-9bbe-711932ef0d43",
   "metadata": {},
   "source": [
    "___________________________________"
   ]
  },
  {
   "cell_type": "markdown",
   "id": "a7c170d1-795f-4bf3-a884-e648ea784436",
   "metadata": {},
   "source": [
    "# CLOSURES \n",
    "\n",
    "Python closure is a nested function that allows us to access variables of the outer function even after the outer function is closed."
   ]
  },
  {
   "cell_type": "code",
   "execution_count": 17,
   "id": "96372f57-96d8-4b7d-96dd-b386646d3078",
   "metadata": {},
   "outputs": [
    {
     "name": "stdout",
     "output_type": "stream",
     "text": [
      "15\n"
     ]
    }
   ],
   "source": [
    "def outer_function(x):\n",
    "    def inner_function(y):\n",
    "        return x + y\n",
    "    return inner_function\n",
    "\n",
    "closure = outer_function(10)  # The outer function returns the inner function\n",
    "result = closure(5)           # Calling the inner function\n",
    "print(result)                 # Outputs: 15"
   ]
  },
  {
   "cell_type": "markdown",
   "id": "272e1c68-abde-4357-897b-cc9b92004dbe",
   "metadata": {},
   "source": [
    "**In this example:**\n",
    "\n",
    "1. outer_function is a function that takes an argument x.</br>\n",
    "2. Inside outer_function, there's an inner_function defined, which takes an argument y.</br>\n",
    "3. outer_function returns inner_function as its result.</br>\n",
    "4. When we call outer_function(10), it returns the inner_function, and we store this returned function in the variable closure. Now, closure holds a reference to the inner_function and \"closes over\" the variable x from its enclosing scope (outer_function).</br>\n",
    "\n",
    "When we later call closure(5), it adds 5 to the value of x (which is 10), resulting in 15. The inner_function still remembers the value of x, even though outer_function has finished executing."
   ]
  },
  {
   "cell_type": "markdown",
   "id": "96ee2a5a-42a4-430f-b1a7-ede5a2b079b5",
   "metadata": {},
   "source": [
    "**Key points about closures in Python:**\n",
    "</br>\n",
    "1. Closures allow functions to maintain access to variables from their enclosing scope, even after the outer function has completed execution.</br>\n",
    "2. Closures are created when a nested function references a variable from the outer function.</br>\n",
    "3. Closures are often used for encapsulation and data hiding, creating functions that store and manage internal state.</br>\n",
    "4. Closures are used in Python decorators, which modify or enhance the behavior of functions."
   ]
  },
  {
   "cell_type": "markdown",
   "id": "fdc768ce-8c78-4beb-81bd-f8dd14939d47",
   "metadata": {},
   "source": [
    "All function objects have a __closure__ attribute that returns a tuple of cell objects if it is a closure function."
   ]
  },
  {
   "cell_type": "code",
   "execution_count": 19,
   "id": "13c81dfa-e0fb-4513-922e-3f4413a11242",
   "metadata": {},
   "outputs": [
    {
     "data": {
      "text/plain": [
       "(<cell at 0x000001532505DE10: int object at 0x00007FFF34429448>,)"
      ]
     },
     "execution_count": 19,
     "metadata": {},
     "output_type": "execute_result"
    }
   ],
   "source": [
    "# like\n",
    "closure.__closure__"
   ]
  },
  {
   "cell_type": "markdown",
   "id": "dd5950a6-0fae-4a35-9531-11d722020812",
   "metadata": {},
   "source": [
    "___________________________________________"
   ]
  },
  {
   "cell_type": "markdown",
   "id": "83da3d79-60ef-4823-ba1d-f7c3cdf36456",
   "metadata": {},
   "source": [
    "# DECORATERS\n",
    "\n",
    "In Python, a decorator is a design pattern that allows you to modify the functionality of a function by wrapping it in another function.\r\n",
    "\r\n",
    "The outer function is called the decorator, which takes the original function as an argument and returns a modified version of i\n",
    "In fact, any object which implements the special __call__() method is termed callable. So, in the most basic sense, a decorator is a callable that returns a callable.\n",
    "\n",
    "Decorators are often used for tasks such as logging, access control, memoization, and more. They are implemented using functions and the `@` symbol followed by the decorator function's name.\r\n",
    "t."
   ]
  },
  {
   "cell_type": "code",
   "execution_count": 20,
   "id": "89b07e89-16ee-41e7-9b57-3719609dbe02",
   "metadata": {},
   "outputs": [
    {
     "name": "stdout",
     "output_type": "stream",
     "text": [
      "I got decorated\n",
      "I am ordinary\n"
     ]
    }
   ],
   "source": [
    "# decorater without using @ \n",
    "\n",
    "def make_pretty(func):\n",
    "    # define the inner function \n",
    "    def inner():\n",
    "        # add some additional behavior to decorated function\n",
    "        print(\"I got decorated\")\n",
    "\n",
    "        # call original function\n",
    "        func()\n",
    "    # return the inner function\n",
    "    return inner\n",
    "\n",
    "# define ordinary function\n",
    "def ordinary():\n",
    "    print(\"I am ordinary\")\n",
    "    \n",
    "# decorate the ordinary function\n",
    "decorated_func = make_pretty(ordinary)\n",
    "\n",
    "# call the decorated function\n",
    "decorated_func()"
   ]
  },
  {
   "cell_type": "code",
   "execution_count": 21,
   "id": "835d93d9-402d-4cf7-a89e-6b0cda49c930",
   "metadata": {},
   "outputs": [
    {
     "name": "stdout",
     "output_type": "stream",
     "text": [
      "I got decorated\n",
      "I am ordinary\n"
     ]
    }
   ],
   "source": [
    "# using @ \n",
    "\n",
    "def make_pretty(func):\n",
    "\n",
    "    def inner():\n",
    "        print(\"I got decorated\")\n",
    "        func()\n",
    "    return inner\n",
    "\n",
    "@make_pretty\n",
    "def ordinary():\n",
    "    print(\"I am ordinary\")\n",
    "\n",
    "ordinary()  "
   ]
  },
  {
   "cell_type": "markdown",
   "id": "5cd5174c-49a6-443e-9e55-aea8309766c6",
   "metadata": {},
   "source": [
    "### Chaining Decorators\n",
    "\n",
    "Multiple decorators can be chained in Python.\r\n",
    "\r\n",
    "To chain decorators in Python, we can apply multiple decorators to a single function by placing them one after the other, with the most inner decorator being applied first."
   ]
  },
  {
   "cell_type": "code",
   "execution_count": 22,
   "id": "b35ad978-db62-43f7-8b03-4b01098abbe9",
   "metadata": {},
   "outputs": [
    {
     "name": "stdout",
     "output_type": "stream",
     "text": [
      "***************\n",
      "%%%%%%%%%%%%%%%\n",
      "Hello\n",
      "%%%%%%%%%%%%%%%\n",
      "***************\n"
     ]
    }
   ],
   "source": [
    "def star(func):\n",
    "    def inner(*args, **kwargs):\n",
    "        print(\"*\" * 15)\n",
    "        func(*args, **kwargs)\n",
    "        print(\"*\" * 15)\n",
    "    return inner\n",
    "\n",
    "\n",
    "def percent(func):\n",
    "    def inner(*args, **kwargs):\n",
    "        print(\"%\" * 15)\n",
    "        func(*args, **kwargs)\n",
    "        print(\"%\" * 15)\n",
    "    return inner\n",
    "\n",
    "\n",
    "@star\n",
    "@percent\n",
    "def printer(msg):\n",
    "    print(msg)\n",
    "\n",
    "printer(\"Hello\")"
   ]
  },
  {
   "cell_type": "code",
   "execution_count": 26,
   "id": "cc478981-eb7a-42f9-99c9-081eb3b45891",
   "metadata": {},
   "outputs": [],
   "source": [
    "def repeat(n):\n",
    "    def decorator(func):\n",
    "        def wrapper(*args, **kwargs):\n",
    "            for _ in range(n):\n",
    "                func(*args, **kwargs)\n",
    "        return wrapper\n",
    "    return decorator\n",
    "\n",
    "# @repeat(3)\n",
    "def say_hello():\n",
    "    print(\"Hello!\")\n",
    "\n",
    "# say_hello()\n",
    "\n",
    "i = repeat(3)"
   ]
  },
  {
   "cell_type": "markdown",
   "id": "cdc90012-7be9-431b-9e43-9f464347f244",
   "metadata": {},
   "source": [
    "____________________________________"
   ]
  },
  {
   "cell_type": "markdown",
   "id": "66788e61-0dd9-4161-bacc-69557b0198e6",
   "metadata": {},
   "source": [
    "# GETTER & SETTER\n",
    "\n",
    "Getter and setter methods are used in object-oriented programming to control access to an object's attributes (variables) by providing a layer of abstraction and encapsulation. They allow you to define how attribute values are retrieved (getter) and modified (setter) while maintaining control over the internal state of an object. In Python, getter and setter methods are often implemented using property methods and decorators.\n",
    "\n",
    "Here's how getter and setter methods work in Python:()."
   ]
  },
  {
   "cell_type": "markdown",
   "id": "a3268035-c15b-44bc-9d89-05dd0575661d",
   "metadata": {},
   "source": [
    "`Getter Method`\n",
    "A getter method (also known as a \"getter\") is a method that allows you to retrieve the value of a private or protected attribute. It is used to provide controlled read access to an attribute. Getter methods typically have a name in the form `get_attribute()`."
   ]
  },
  {
   "cell_type": "code",
   "execution_count": 34,
   "id": "ce424128-793a-42f2-bcda-dcd1d2bf6719",
   "metadata": {},
   "outputs": [
    {
     "name": "stdout",
     "output_type": "stream",
     "text": [
      "Alice\n"
     ]
    }
   ],
   "source": [
    "class Person:\n",
    "    def __init__(self, name):\n",
    "        self._name = name  # Private attribute with an underscore prefix\n",
    "\n",
    "    def get_name(self):\n",
    "        return self._name\n",
    "\n",
    "# Create an instance of the Person class\n",
    "person = Person(\"Alice\")\n",
    "\n",
    "# Use the getter method to retrieve the name attribute\n",
    "name = person.get_name()\n",
    "print(name)  # Outputs: Alice"
   ]
  },
  {
   "cell_type": "markdown",
   "id": "df67f91c-cc74-4100-8418-6c72a4d75feb",
   "metadata": {},
   "source": [
    "`Setter Method`\r\n",
    "A setter method (also known as a \"setter\") is a method that allows you to modify the value of a private or protected attribute. It is used to provide controlled write access to an attribute. Setter methods typically have a name in the form` set_attribute(`)."
   ]
  },
  {
   "cell_type": "code",
   "execution_count": 39,
   "id": "2ae694ac-ae34-4c40-84a4-0112345ddf51",
   "metadata": {},
   "outputs": [
    {
     "name": "stdout",
     "output_type": "stream",
     "text": [
      "Alice\n",
      "Bob\n"
     ]
    }
   ],
   "source": [
    "class Person:\n",
    "    def __init__(self, name):\n",
    "        self._name = name  # Private attribute with an underscore prefix\n",
    "\n",
    "    def get_name(self):\n",
    "        return self._name\n",
    "    \n",
    "    def set_name(self, new_name):\n",
    "        if len(new_name) > 0:\n",
    "            self._name = new_name\n",
    "\n",
    "# Create an instance of the Person class\n",
    "person = Person(\"Alice\")\n",
    "print(person.get_name())\n",
    "# Use the setter method to change the name attribute\n",
    "person.set_name(\"Bob\")\n",
    "\n",
    "# Use the getter method to retrieve the updated name attribute\n",
    "name = person.get_name()\n",
    "print(name)  # Outputs: Bob"
   ]
  },
  {
   "cell_type": "markdown",
   "id": "b08335aa-cda5-4726-a4d5-e2b37c66a691",
   "metadata": {},
   "source": [
    "__________________________________________________"
   ]
  },
  {
   "cell_type": "markdown",
   "id": "9ad1b884-b707-4499-9fc4-cf21df1b7bfd",
   "metadata": {},
   "source": [
    "# REGULAR EXPRESSIONS - RegEx\n",
    "\n",
    "Regular expressions, often referred to as \"regex\" or \"regexp,\" are a powerful tool for pattern matching and text manipulation in Python and many other programming languages. They allow you to define search patterns using a formal syntax and then search, extract, replace, or manipulate text based on those patterns. Python provides the re module, which allows you to work with regular expressions."
   ]
  },
  {
   "cell_type": "code",
   "execution_count": 40,
   "id": "711f5572-5a79-484f-89db-f10cec8cd4da",
   "metadata": {},
   "outputs": [],
   "source": [
    "import re"
   ]
  },
  {
   "cell_type": "code",
   "execution_count": 41,
   "id": "a5d258f8-7661-4a3e-9392-4a16d775c9c6",
   "metadata": {},
   "outputs": [
    {
     "name": "stdout",
     "output_type": "stream",
     "text": [
      "Search successful.\n"
     ]
    }
   ],
   "source": [
    "import re\n",
    "\n",
    "pattern = '^a...s$'\n",
    "test_string = 'abyss'\n",
    "result = re.match(pattern, test_string)\n",
    "\n",
    "if result:\n",
    "  print(\"Search successful.\")\n",
    "else:\n",
    "  print(\"Search unsuccessful.\")\t"
   ]
  },
  {
   "cell_type": "markdown",
   "id": "29f8094a-1881-4f50-8db5-997a5013dfd2",
   "metadata": {},
   "source": [
    "The above code defines a RegEx pattern. The pattern is: any five letter string starting with a and ending with s."
   ]
  },
  {
   "cell_type": "markdown",
   "id": "24d6da3e-bba1-4598-8b69-0b287a76bbab",
   "metadata": {},
   "source": [
    "To specify regular expressions, metacharacters are used. In the above example, ^ and $ are metacharacters.\n",
    "\n",
    "`MetaCharacters`\r\n",
    "Metacharacters are characters that are interpreted in a special way by a RegEx engine. Here's a list of metacharacters:\r\n",
    "\r\n",
    "[] . ^ $ * + ? {} ()  \\ |\n",
    "\n",
    "`Special Sequences`\r\n",
    "\r\n",
    "Special sequences make commonly used patterns easier to write.\\ |"
   ]
  },
  {
   "cell_type": "markdown",
   "id": "ae53e3ad-fa25-4e8a-9230-e9efc2ba67f7",
   "metadata": {},
   "source": [
    "Here's a list of some commonly used metacharacters and special sequences:\r\n",
    "\r\n",
    "### Metacharacters:\r\n",
    "\r\n",
    "1. `.`: Matches any character except a newline.\r\n",
    "2. `*`: Matches zero or more occurrences of the preceding character or group.\r\n",
    "3. `+`: Matches one or more occurrences of the preceding character or group.\r\n",
    "4. `?`: Matches zero or one occurrence of the preceding character or group.\r\n",
    "5. `|`: Represents an OR operator.\r\n",
    "6. `[]`: Defines a character class; matches any single character inside the brackets.\r\n",
    "7. `()`: Defines a capturing group for extracting matched text or applying quantifiers.\r\n",
    "8. `{}`: Specifies a specific number of occurrences or a range (e.g., `{3}` matches exactly 3 occurrences).\r\n",
    "9. `^`: Matches the start of a string (or the start of a line if `re.MULTILINE` is used).\r\n",
    "10. `$`: Matches the end of a string (or the end of a line if `re.MULTILINE` is used).\r\n",
    "11. `\\`: Escapes a metacharacter, making it match the literal character.\r\n",
    "\r\n",
    "### Special Sequences:\r\n",
    "\r\n",
    "1. `\\d`: Matches any digit (equivalent to `[0-9]`).\r\n",
    "2. `\\D`: Matches any non-digit character (equivalent to `[^0-9]`).\r\n",
    "3. `\\w`: Matches any word character (letters, digits, or underscores).\r\n",
    "4. `\\W`: Matches any non-word character.\r\n",
    "5. `\\s`: Matches any whitespace character (spaces, tabs, newlines).\r\n",
    "6. `\\S`: Matches any non-whitespace character.\r\n",
    "7. `\\b`: Matches a word boundary (position between a word character and a non-word character).\r\n",
    "8. `\\B`: Matches a non-word boundary.\r\n",
    "9. `\\A`: Matches the start of the string (similar to `^`, but doesn't respect `re.MULTILINE`).\r\n",
    "10. `\\Z`: Matches the end of the string (similar to `$`, but doesn't respect `re.MULTILINE`).\r\n",
    "11. `\\n`: Where `n` is a digit, it matches the `n`-th capturing group.\r\n",
    "\r\n",
    "These metacharacters and special sequences can be combined to create complex regular expressions for pattern matching, text extraction, and replacement. It's essential to understand their meanings and use cases when working with regular expressions in Python. Additionally, Python's `re` module provides flags like `re.IGNORECASE` and `re.MULTILINE` that can modify the behavior of some of these metacharacters and sequences."
   ]
  },
  {
   "cell_type": "code",
   "execution_count": 44,
   "id": "caadac24-a4d4-4b27-af92-a7f53ffe5c8c",
   "metadata": {},
   "outputs": [
    {
     "name": "stdout",
     "output_type": "stream",
     "text": [
      "['12', '89', '34']\n"
     ]
    }
   ],
   "source": [
    "# re.findall(): The re.findall() method returns a list of strings containing all matches.\n",
    "\n",
    "# Program to extract numbers from a string\n",
    "\n",
    "import re\n",
    "\n",
    "string = 'hello 12 hi 89. Howdy 34'\n",
    "pattern = '\\d+'\n",
    "\n",
    "result = re.findall(pattern, string) \n",
    "print(result)\n",
    "\n",
    "# Output: ['12', '89', '34']"
   ]
  },
  {
   "cell_type": "code",
   "execution_count": 45,
   "id": "7ce24149-ea57-4987-bf28-ad435029a841",
   "metadata": {},
   "outputs": [
    {
     "name": "stdout",
     "output_type": "stream",
     "text": [
      "['Twelve:', ' Eighty nine:', '.']\n"
     ]
    }
   ],
   "source": [
    "#re.split(): The re.split method splits the string where there is a match and returns a list of strings where the splits have occurred.\n",
    "\n",
    "\n",
    "import re\n",
    "\n",
    "string = 'Twelve:12 Eighty nine:89.'\n",
    "pattern = '\\d+'\n",
    "\n",
    "result = re.split(pattern, string) \n",
    "print(result)\n",
    "\n",
    "# Output: ['Twelve:', ' Eighty nine:', '.']\n"
   ]
  },
  {
   "cell_type": "code",
   "execution_count": 46,
   "id": "a7f82eba-b10a-44c3-9b00-d863af452f03",
   "metadata": {},
   "outputs": [
    {
     "name": "stdout",
     "output_type": "stream",
     "text": [
      "abc12de23f456\n"
     ]
    }
   ],
   "source": [
    "#re.sub(): The method returns a string where matched occurrences are replaced with the content of replace variable.\n",
    "\n",
    "\n",
    "# Program to remove all whitespaces\n",
    "import re\n",
    "\n",
    "# multiline string\n",
    "string = 'abc 12\\\n",
    "de 23 \\n f45 6'\n",
    "\n",
    "# matches all whitespace characters\n",
    "pattern = '\\s+'\n",
    "\n",
    "# empty string\n",
    "replace = ''\n",
    "\n",
    "new_string = re.sub(pattern, replace, string) \n",
    "print(new_string)\n",
    "\n",
    "# Output: abc12de23f456"
   ]
  },
  {
   "cell_type": "code",
   "execution_count": 47,
   "id": "558198bc-29cd-4e33-a82b-48e5abfa13bd",
   "metadata": {},
   "outputs": [
    {
     "name": "stdout",
     "output_type": "stream",
     "text": [
      "pattern found inside the string\n"
     ]
    },
    {
     "data": {
      "text/plain": [
       "<re.Match object; span=(0, 6), match='Python'>"
      ]
     },
     "execution_count": 47,
     "metadata": {},
     "output_type": "execute_result"
    }
   ],
   "source": [
    "#re.search(): The re.search() method takes two arguments: a pattern and a string. The method looks for the first location where the RegEx pattern produces a match with the string.\n",
    "#If the search is successful, re.search() returns a match object; if not, it returns None.\n",
    "\n",
    "\n",
    "\n",
    "import re\n",
    "\n",
    "string = \"Python is fun\"\n",
    "\n",
    "# check if 'Python' is at the beginning\n",
    "match = re.search('\\APython', string)\n",
    "\n",
    "if match:\n",
    "  print(\"pattern found inside the string\")\n",
    "else:\n",
    "  print(\"pattern not found\")  \n",
    "\n",
    "# Output: pattern found inside the string\n",
    "\n",
    "match"
   ]
  },
  {
   "cell_type": "markdown",
   "id": "431788f7-d20d-4211-b90c-11174699d257",
   "metadata": {},
   "source": [
    "`Using r prefix before RegEx`</br>\r\n",
    "When r or R prefix is used before a regular expression, it means raw string. For example, '\\n' is a new line whereas r'\\n' means two characters: a backslash \\ followed by n.\r\n",
    "\r\n",
    "Backlash \\ is used to escape various characters including all metacharacters. However, using r prefix makes \\ treat as a normal character."
   ]
  },
  {
   "cell_type": "code",
   "execution_count": 48,
   "id": "a58ed9c3-b680-468a-a33d-05cc24acdc7a",
   "metadata": {},
   "outputs": [
    {
     "name": "stdout",
     "output_type": "stream",
     "text": [
      "['\\n', '\\r']\n"
     ]
    }
   ],
   "source": [
    "import re\n",
    "\n",
    "string = '\\n and \\r are escape sequences.'\n",
    "\n",
    "result = re.findall(r'[\\n\\r]', string) \n",
    "print(result)\n",
    "\n",
    "# Output: ['\\n', '\\r']"
   ]
  },
  {
   "cell_type": "code",
   "execution_count": null,
   "id": "3a919430-6b4c-455d-a7cd-ab411e8f6c7a",
   "metadata": {},
   "outputs": [],
   "source": []
  }
 ],
 "metadata": {
  "kernelspec": {
   "display_name": "Python 3 (ipykernel)",
   "language": "python",
   "name": "python3"
  },
  "language_info": {
   "codemirror_mode": {
    "name": "ipython",
    "version": 3
   },
   "file_extension": ".py",
   "mimetype": "text/x-python",
   "name": "python",
   "nbconvert_exporter": "python",
   "pygments_lexer": "ipython3",
   "version": "3.11.5"
  }
 },
 "nbformat": 4,
 "nbformat_minor": 5
}
