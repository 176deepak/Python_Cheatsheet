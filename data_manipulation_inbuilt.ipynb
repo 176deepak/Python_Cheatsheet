{
 "cells": [
  {
   "cell_type": "markdown",
   "id": "db0a224e-a38d-4db3-9538-21926eb345ca",
   "metadata": {},
   "source": [
    "# DATA MANIPULATION - FILTER, MAP, REDUCE, SORTED etc."
   ]
  },
  {
   "cell_type": "markdown",
   "id": "7095b4f8-52f2-48f6-8c4e-26453b713af6",
   "metadata": {},
   "source": [
    "In Python, there are several built-in functions and methods that are commonly used for data manipulation and transformation. Two commonly used functions are `filter()` and `map()`, which allow you to work with iterables (e.g., lists) in a functional programming style. "
   ]
  },
  {
   "cell_type": "markdown",
   "id": "0d06e3d4-f9bf-421a-b256-c9eb5fb8e889",
   "metadata": {},
   "source": [
    "## filter() method\n",
    "\n",
    "The filter() function filters elements from an iterable based on a given function (usually a lambda function) that returns either True or False.\n",
    "It returns an iterator containing only the elements for which the function evaluates to True.\n",
    "```python\n",
    "filtered_items = filter(function, iterable)\n",
    "```"
   ]
  },
  {
   "cell_type": "code",
   "execution_count": 7,
   "id": "ced59bf6-5e2d-4b06-bd07-eefe82472e7a",
   "metadata": {},
   "outputs": [],
   "source": [
    "numbers = [1, 2, 3, 4, 5, 6, 7, 8, 9]\n",
    "\n",
    "def is_odd(num):\n",
    "    if num % 2 != 0:\n",
    "        return num\n",
    "\n",
    "odd_numbers = list(filter(is_odd, numbers))\n",
    "\n",
    "print(odd_numbers)"
   ]
  },
  {
   "cell_type": "markdown",
   "id": "1a941d31-8cac-4279-aba4-abc6611cccf2",
   "metadata": {},
   "source": [
    "## map():\n",
    "\n",
    "The map() function applies a given function to each item in an iterable and returns an iterator containing the results.\n",
    "It's commonly used to transform or modify elements in the iterable.\n",
    "\n",
    "```python\n",
    "transformed_items = map(function, iterable)\n",
    "```"
   ]
  },
  {
   "cell_type": "code",
   "execution_count": 13,
   "id": "0e45334b-cca1-42c4-aec6-a372210ecc2f",
   "metadata": {},
   "outputs": [
    {
     "name": "stdout",
     "output_type": "stream",
     "text": [
      "[1, None, 9, None, 25]\n"
     ]
    }
   ],
   "source": [
    "numbers = [1, 2, 3, 4, 5]\n",
    "\n",
    "def square(x):\n",
    "    if x % 2 != 0:                             # specifying a condition\n",
    "        return x ** 2\n",
    "    \n",
    "squared_numbers = list(map(square, numbers)) \n",
    "print(squared_numbers)                               # map function return None, if applied function not give any value"
   ]
  },
  {
   "cell_type": "code",
   "execution_count": 14,
   "id": "d723a26a-49b3-4f40-8632-d12197f2a08a",
   "metadata": {},
   "outputs": [
    {
     "name": "stdout",
     "output_type": "stream",
     "text": [
      "[1, 4, 9, 16, 25]\n"
     ]
    }
   ],
   "source": [
    "numbers = [1, 2, 3, 4, 5]\n",
    "\n",
    "def square(x):\n",
    "    return x ** 2\n",
    "\n",
    "squared_numbers = list(map(square, numbers))\n",
    "print(squared_numbers)"
   ]
  },
  {
   "cell_type": "markdown",
   "id": "1c6cec96-39e9-4ad7-91f1-05386f47615a",
   "metadata": {},
   "source": [
    "## reduce()\n",
    "\n",
    "The reduce() function is used to perform a cumulative operation on the items of an iterable, reducing them to a single result.\n",
    "It requires a binary function (a function that takes two arguments) and an optional initializer.\n",
    "\n",
    "```python\n",
    "from functools import reduce\n",
    "result = reduce(function, iterable[, initializer])\n",
    "```"
   ]
  },
  {
   "cell_type": "code",
   "execution_count": 15,
   "id": "c0a130c7-72b2-4ce9-b1e1-7db3f2585913",
   "metadata": {},
   "outputs": [
    {
     "name": "stdout",
     "output_type": "stream",
     "text": [
      "15\n"
     ]
    }
   ],
   "source": [
    "from functools import reduce\n",
    "\n",
    "numbers = [1, 2, 3, 4, 5]\n",
    "\n",
    "def add(x, y):\n",
    "    return x + y\n",
    "\n",
    "sum_of_numbers = reduce(add, numbers)\n",
    "print(sum_of_numbers)"
   ]
  },
  {
   "cell_type": "markdown",
   "id": "b0bb9252-363f-4953-a669-45adbb4a3641",
   "metadata": {},
   "source": [
    "## sorted()\n",
    "1. The sorted() function returns a new sorted list from the elements of any iterable.</br>\r",
    "2. \n",
    "You can specify a key function to customize the sorting order, and reverse to reverse the sorting order\n",
    "\n",
    "```python\n",
    "sorted_list = sorted(iterable[, key][, reverse])\r",
    "```\n",
    "."
   ]
  },
  {
   "cell_type": "code",
   "execution_count": 17,
   "id": "f1a63c3e-93bc-4e68-ac42-0fe19795bd28",
   "metadata": {},
   "outputs": [
    {
     "name": "stdout",
     "output_type": "stream",
     "text": [
      "['Bob', 'Alice', 'David', 'Charlie']\n"
     ]
    }
   ],
   "source": [
    "names = [\"Alice\", \"Bob\", \"Charlie\", \"David\"]\n",
    "\n",
    "sorted_names = sorted(names, key=lambda name: len(name))\n",
    "print(sorted_names)"
   ]
  },
  {
   "cell_type": "code",
   "execution_count": null,
   "id": "401fd839-bedf-4871-ad7c-9c5f74bc7d00",
   "metadata": {},
   "outputs": [],
   "source": []
  }
 ],
 "metadata": {
  "kernelspec": {
   "display_name": "Python 3 (ipykernel)",
   "language": "python",
   "name": "python3"
  },
  "language_info": {
   "codemirror_mode": {
    "name": "ipython",
    "version": 3
   },
   "file_extension": ".py",
   "mimetype": "text/x-python",
   "name": "python",
   "nbconvert_exporter": "python",
   "pygments_lexer": "ipython3",
   "version": "3.11.5"
  }
 },
 "nbformat": 4,
 "nbformat_minor": 5
}
