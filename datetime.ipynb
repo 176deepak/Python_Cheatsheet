{
 "cells": [
  {
   "cell_type": "markdown",
   "id": "293eef18-a89d-4d4d-add0-dc0573d5ab18",
   "metadata": {},
   "source": [
    "# DATE & TIME\n",
    "\n",
    "Python has a module named datetime to work with dates and times.\r\n",
    "\r\n",
    "It provides a variety of classes for representing and manipulating dates and times, as well as for formatting and parsing dates and times in a variety of formats."
   ]
  },
  {
   "cell_type": "code",
   "execution_count": 3,
   "id": "cdfc01f6-1637-4a2e-b8be-cafceeff1b66",
   "metadata": {},
   "outputs": [],
   "source": [
    "import datetime"
   ]
  },
  {
   "cell_type": "code",
   "execution_count": 5,
   "id": "f09ef182-3da5-416a-a51d-6b8ce7b5124b",
   "metadata": {},
   "outputs": [
    {
     "name": "stdout",
     "output_type": "stream",
     "text": [
      "2023-09-23 14:28:25.549640\n"
     ]
    }
   ],
   "source": [
    "# display current date and time\n",
    "\n",
    "date_time = datetime.datetime.now()                        # datetime class have now() method which return current date and time\n",
    "print(date_time)"
   ]
  },
  {
   "cell_type": "code",
   "execution_count": 7,
   "id": "9e6f2937-25e2-475c-8ee2-f76a2ad9fffe",
   "metadata": {},
   "outputs": [
    {
     "name": "stdout",
     "output_type": "stream",
     "text": [
      "Today Date:  2023-09-23\n"
     ]
    }
   ],
   "source": [
    "# current date\n",
    "\n",
    "date = datetime.date.today()\n",
    "print(\"Today Date: \", date)"
   ]
  },
  {
   "cell_type": "code",
   "execution_count": 9,
   "id": "ee029800-1ad1-4930-90ad-f8cace3b53cc",
   "metadata": {},
   "outputs": [
    {
     "name": "stdout",
     "output_type": "stream",
     "text": [
      "['MAXYEAR', 'MINYEAR', 'UTC', '__all__', '__builtins__', '__cached__', '__doc__', '__file__', '__loader__', '__name__', '__package__', '__spec__', 'date', 'datetime', 'datetime_CAPI', 'sys', 'time', 'timedelta', 'timezone', 'tzinfo']\n"
     ]
    }
   ],
   "source": [
    "# attributes and methods of datetime \n",
    "print(dir(datetime))"
   ]
  },
  {
   "cell_type": "code",
   "execution_count": 10,
   "id": "4a6993ea-d916-47fb-a69b-29815484d507",
   "metadata": {},
   "outputs": [
    {
     "name": "stdout",
     "output_type": "stream",
     "text": [
      "2022-12-25\n"
     ]
    }
   ],
   "source": [
    "# we can represent date object as datetime\n",
    "\n",
    "# date object: (year, month and day)\n",
    "\n",
    "date = datetime.date(2022, 12, 25)\n",
    "print(date)"
   ]
  },
  {
   "cell_type": "code",
   "execution_count": 11,
   "id": "bb487f9d-a1aa-438f-b88a-3917938ccada",
   "metadata": {},
   "outputs": [
    {
     "name": "stdout",
     "output_type": "stream",
     "text": [
      "Date = 2012-01-11\n"
     ]
    }
   ],
   "source": [
    "# date from timestamp\n",
    "\n",
    "# timestamp: A Unix timestamp is the number of seconds between a particular date and January 1, 1970 at UTC. \n",
    "\n",
    "timestamp = datetime.date.fromtimestamp(1326244364)\n",
    "print(\"Date =\", timestamp)"
   ]
  },
  {
   "cell_type": "code",
   "execution_count": 12,
   "id": "01c5c10c-0268-40d5-94b2-93dc4fa18446",
   "metadata": {},
   "outputs": [
    {
     "name": "stdout",
     "output_type": "stream",
     "text": [
      "t3 = 201 days, 0:00:00\n",
      "t6 = -333 days, 1:14:20\n",
      "Type of t3 = <class 'datetime.timedelta'>\n",
      "Type of t6 = <class 'datetime.timedelta'>\n"
     ]
    }
   ],
   "source": [
    "# timedelta: A timedelta object represents the difference between two dates or times.\n",
    "\n",
    "from datetime import datetime, date\n",
    "\n",
    "# using date()\n",
    "t1 = date(year = 2018, month = 7, day = 12)\n",
    "t2 = date(year = 2017, month = 12, day = 23)\n",
    "\n",
    "t3 = t1 - t2\n",
    "\n",
    "print(\"t3 =\", t3)\n",
    "\n",
    "# using datetime()\n",
    "t4 = datetime(year = 2018, month = 7, day = 12, hour = 7, minute = 9, second = 33)\n",
    "t5 = datetime(year = 2019, month = 6, day = 10, hour = 5, minute = 55, second = 13)\n",
    "t6 = t4 - t5\n",
    "print(\"t6 =\", t6)\n",
    "\n",
    "print(\"Type of t3 =\", type(t3)) \n",
    "print(\"Type of t6 =\", type(t6))  "
   ]
  },
  {
   "cell_type": "code",
   "execution_count": 13,
   "id": "3cf4cdcd-4b32-430a-9c09-8d940bcdf4aa",
   "metadata": {},
   "outputs": [
    {
     "name": "stdout",
     "output_type": "stream",
     "text": [
      "Time: 14:40:25\n",
      "s1: 09/23/2023, 14:40:25\n",
      "s2: 23/09/2023, 14:40:25\n"
     ]
    }
   ],
   "source": [
    "# datetime formating using strftime()\n",
    "\n",
    "#The strftime() method is defined under classes date, datetime and time. The method creates a formatted string from a given date, datetime or time object.\n",
    "\n",
    "from datetime import datetime\n",
    "\n",
    "# current date and time\n",
    "now = datetime.now()\n",
    "\n",
    "t = now.strftime(\"%H:%M:%S\")\n",
    "print(\"Time:\", t)\n",
    "\n",
    "s1 = now.strftime(\"%m/%d/%Y, %H:%M:%S\")\n",
    "# mm/dd/YY H:M:S format\n",
    "print(\"s1:\", s1)\n",
    "\n",
    "s2 = now.strftime(\"%d/%m/%Y, %H:%M:%S\")\n",
    "# dd/mm/YY H:M:S format\n",
    "print(\"s2:\", s2)"
   ]
  },
  {
   "cell_type": "code",
   "execution_count": 14,
   "id": "00bc08e3-84b7-4808-981f-03d2bd72e5e3",
   "metadata": {},
   "outputs": [
    {
     "name": "stdout",
     "output_type": "stream",
     "text": [
      "date_string = 25 December, 2022\n",
      "date_object = 2022-12-25 00:00:00\n"
     ]
    }
   ],
   "source": [
    "# strptime() Method\n",
    "# The strptime() method creates a datetime object from a given string (representing date and time). \n",
    "\n",
    "from datetime import datetime\n",
    "\n",
    "date_string = \"25 December, 2022\"\n",
    "print(\"date_string =\", date_string)\n",
    "\n",
    "# use strptime() to create date object\n",
    "date_object = datetime.strptime(date_string, \"%d %B, %Y\")\n",
    "\n",
    "print(\"date_object =\", date_object)"
   ]
  },
  {
   "cell_type": "code",
   "execution_count": null,
   "id": "3b8a44c0-b335-49e3-a91e-b47ad158bc84",
   "metadata": {},
   "outputs": [],
   "source": []
  }
 ],
 "metadata": {
  "kernelspec": {
   "display_name": "Python 3 (ipykernel)",
   "language": "python",
   "name": "python3"
  },
  "language_info": {
   "codemirror_mode": {
    "name": "ipython",
    "version": 3
   },
   "file_extension": ".py",
   "mimetype": "text/x-python",
   "name": "python",
   "nbconvert_exporter": "python",
   "pygments_lexer": "ipython3",
   "version": "3.11.5"
  }
 },
 "nbformat": 4,
 "nbformat_minor": 5
}
