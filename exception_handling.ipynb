{
 "cells": [
  {
   "cell_type": "markdown",
   "id": "e954e2a2-2efd-430f-b278-dea8c8d550d0",
   "metadata": {},
   "source": [
    "# EXCEPTION HANDLING"
   ]
  },
  {
   "cell_type": "markdown",
   "id": "ceb88b17-b9c3-4668-964f-29384f382374",
   "metadata": {},
   "source": [
    "`Exception`: An exception is an unexpected event that occurs during program execution. \n",
    "\n",
    "Exception handling is a crucial aspect of Python programming that allows you to gracefully handle errors and exceptions that may occur during the execution of your code. By handling exceptions, you can prevent your program from crashing and provide informative error messages to users or log errors for debugging purposes. Python provides a built-in mechanism for exception handling using `try`, `except`, `finally`, and `else` blocks."
   ]
  },
  {
   "cell_type": "markdown",
   "id": "075a4484-ced8-4996-b967-a1458e9becb5",
   "metadata": {},
   "source": [
    "## try, except, finally & else Blocks:\n",
    "\n",
    "`try`: The try block is used to enclose the code that might raise an exception. </br>\n",
    "`except`: If an exception occurs within the try block, the program immediately jumps to the except block, where you can handle the exception gracefully.</br>\n",
    "`finally`: The finally block is used to specify code that should be executed regardless of whether an exception occurs or not. It's commonly used for cleanup operations, such as closing files or releasing resources.<br>\n",
    "`else`: The else block is executed if no exceptions occur in the try block. It is often used for code that should run only when the try block executes successfully.<br>"
   ]
  },
  {
   "cell_type": "code",
   "execution_count": 1,
   "id": "072da162-8e6f-4094-aa85-031e45b67efd",
   "metadata": {},
   "outputs": [
    {
     "name": "stdout",
     "output_type": "stream",
     "text": [
      "Division by zero is not allowed.\n"
     ]
    }
   ],
   "source": [
    "# try and except block\n",
    "\n",
    "try:\n",
    "    # Code that might raise an exception\n",
    "    result = 10 / 0\n",
    "except ZeroDivisionError:\n",
    "    # Handle the specific exception (ZeroDivisionError)\n",
    "    print(\"Division by zero is not allowed.\")"
   ]
  },
  {
   "cell_type": "code",
   "execution_count": 4,
   "id": "b77a90df-6ae0-4acb-bc1c-2d949182fd31",
   "metadata": {},
   "outputs": [
    {
     "name": "stdin",
     "output_type": "stream",
     "text": [
      "Enter a number:  2\n"
     ]
    }
   ],
   "source": [
    "# multiple exceptions\n",
    "\n",
    "try:\n",
    "    num = int(input(\"Enter a number: \"))\n",
    "    result = 10 / num\n",
    "except ZeroDivisionError:\n",
    "    print(\"Division by zero is not allowed.\")\n",
    "except ValueError:\n",
    "    print(\"Invalid input. Please enter a valid number.\")"
   ]
  },
  {
   "cell_type": "code",
   "execution_count": 6,
   "id": "782c36da-ec47-4594-9f9d-d6d8ce3fb373",
   "metadata": {},
   "outputs": [
    {
     "name": "stdin",
     "output_type": "stream",
     "text": [
      "Enter a number:  2\n"
     ]
    },
    {
     "name": "stdout",
     "output_type": "stream",
     "text": [
      "Division result: 5.0\n"
     ]
    }
   ],
   "source": [
    "# else block\n",
    "\n",
    "try:\n",
    "    num = int(input(\"Enter a number: \"))\n",
    "    result = 10 / num\n",
    "except ZeroDivisionError:\n",
    "    print(\"Division by zero is not allowed.\")\n",
    "except ValueError:\n",
    "    print(\"Invalid input. Please enter a valid number.\")\n",
    "else:\n",
    "    print(\"Division result:\", result)"
   ]
  },
  {
   "cell_type": "code",
   "execution_count": 9,
   "id": "5e578165-c5a0-4135-84a1-26fba4b8a4c1",
   "metadata": {},
   "outputs": [
    {
     "name": "stdout",
     "output_type": "stream",
     "text": [
      "File not found.\n",
      "finall block\n"
     ]
    }
   ],
   "source": [
    "# finally block\n",
    "\n",
    "try:\n",
    "    file = open(\"example.txt\", \"r\")\n",
    "    # Perform file operations\n",
    "except FileNotFoundError:\n",
    "    print(\"File not found.\")\n",
    "finally:\n",
    "    print(\"finall block\")  # Ensure the file is always closed, even if an exception occurs"
   ]
  },
  {
   "cell_type": "markdown",
   "id": "59c7d4f3-0832-4989-8f8c-70b0fab205b0",
   "metadata": {},
   "source": [
    "## Raising Exceptions:\r",
    "Weu can raiseourr own exceptions using the raise statement. This is useful when you want to signal an error or exception explicitly."
   ]
  },
  {
   "cell_type": "code",
   "execution_count": 15,
   "id": "882af1f0-43fc-4261-af5a-d0794f4480d1",
   "metadata": {},
   "outputs": [
    {
     "name": "stdout",
     "output_type": "stream",
     "text": [
      "B must be greater than 0\n",
      "code completed\n"
     ]
    }
   ],
   "source": [
    "def divide(a, b):\n",
    "    if b == 0:\n",
    "        raise ValueError(\"B must be greater than 0\")\n",
    "    return a / b\n",
    "\n",
    "try:\n",
    "    result = divide(10, 0)\n",
    "except ValueError as e:\n",
    "    print(e)\n",
    "else:\n",
    "    print(\"result: \", result)\n",
    "finally:\n",
    "    print(\"code completed\")"
   ]
  },
  {
   "cell_type": "markdown",
   "id": "b449fe15-b7cb-45d7-9b94-d4381a390d5b",
   "metadata": {},
   "source": [
    "## Different Types of Exceptions\n",
    "\n",
    "There many types of exceptions in python, some of them are:\n",
    "\n",
    "<table>\n",
    "        <tr>\n",
    "            <td>ArithmeticError</td>\n",
    "            <td>AssertionError</td>\n",
    "            <td>AttributeError</td>\n",
    "            <td>BaseException</td>\n",
    "            <td>BaseExceptionGroup</td>\n",
    "            <td>BlockingIOError</td>\n",
    "            <td>BrokenPipeError</td>\n",
    "            <td>BufferError</td>\n",
    "            <td>BytesWarning</td>\n",
    "            <td>BytesWarning</td>\n",
    "        </tr>\n",
    "        <tr>\n",
    "            <td>ChildProcessError</td>\n",
    "            <td>ChildProcessError</td>\n",
    "            <td>ConnectionAbortedError</td>\n",
    "            <td>ConnectionError</td>\n",
    "            <td>ConnectionRefusedError</td>\n",
    "            <td>ConnectionResetError</td>\n",
    "            <td>DeprecationWarning</td>\n",
    "            <td>EOFError</td>\n",
    "            <td>Ellipsis</td>\n",
    "            <td>EncodingWarning</td>\n",
    "        </tr>\n",
    "        <tr>\n",
    "            <td>EnvironmentError</td>\n",
    "            <td>Exception</td>\n",
    "            <td>ExceptionGroup</td>\n",
    "            <td>False</td>\n",
    "            <td>FileExistsError</td>\n",
    "            <td>FileNotFoundError</td>\n",
    "            <td>FloatingPointError</td>\n",
    "            <td>FutureWarning</td>\n",
    "            <td>GeneratorExit</td>\n",
    "            <td>IOError</td>\n",
    "        </tr>\n",
    "        <tr>\n",
    "            <td>ImportError</td>\n",
    "            <td>ImportWarning</td>\n",
    "            <td>IndentationError</td>\n",
    "            <td>IndexError</td>\n",
    "            <td>InterruptedError</td>\n",
    "            <td>IsADirectoryError</td>\n",
    "            <td>KeyError</td>\n",
    "            <td>KeyboardInterrupt</td>\n",
    "            <td>LookupError</td>\n",
    "            <td>MemoryError</td>\n",
    "        </tr>\n",
    "        <tr>\n",
    "            <td>ModuleNotFoundError</td>\n",
    "            <td>NameError</td>\n",
    "            <td>None</td>\n",
    "            <td>NotADirectoryError</td>\n",
    "            <td>NotImplemented</td>\n",
    "            <td>NotImplementedError</td>\n",
    "            <td>OSError</td>\n",
    "            <td>OverflowError</td>\n",
    "            <td>PendingDeprecationWarning</td>\n",
    "            <td>PermissionError</td>\n",
    "        </tr>\n",
    "        <tr>\n",
    "            <td>ProcessLookupError</td>\n",
    "            <td>RecursionError</td>\n",
    "            <td>ReferenceError</td>\n",
    "            <td>ResourceWarning</td>\n",
    "            <td>RuntimeError</td>\n",
    "            <td>RuntimeWarning</td>\n",
    "            <td>StopAsyncIteration</td>\n",
    "            <td>StopIteration</td>\n",
    "            <td>SyntaxError</td>\n",
    "            <td>SyntaxWarning</td>\n",
    "        </tr>\n",
    "        <tr>\n",
    "            <td>SystemError</td>\n",
    "            <td>SystemExit</td>\n",
    "            <td>TabError</td>\n",
    "            <td>TimeoutError</td>\n",
    "            <td>True</td>\n",
    "            <td>TypeError</td>\n",
    "            <td>UnboundLocalError</td>\n",
    "            <td>UnicodeDecodeError</td>\n",
    "            <td>UnicodeEncodeError</td>\n",
    "            <td>UnicodeError</td>\n",
    "        </tr>\n",
    "        <tr>\n",
    "            <td>UnicodeTranslateError</td>\n",
    "            <td>UnicodeWarning</td>\n",
    "            <td>UserWarning</td>\n",
    "            <td>ValueError</td>\n",
    "            <td>Warning</td>\n",
    "            <td>WindowsError</td>\n",
    "            <td>ZeroDivisionError</td>\n",
    "            <td>__IPYTHON__</td>\n",
    "            <td>__build_class__</td>\n",
    "            <td>__debug__</td>\n",
    "        </tr>\n",
    "        <tr>\n",
    "            <td>__doc__</td>\n",
    "            <td>__import__</td>\n",
    "            <td>__loader__</td>\n",
    "            <td>__name__</td>\n",
    "            <td>__package__</td>\n",
    "            <td>__spec__</td>\n",
    "            <td>abs</td>\n",
    "            <td>aiter</td>\n",
    "            <td>all</td>\n",
    "            <td>anext</td>\n",
    "        </tr>\n",
    "        <tr>\n",
    "            <td>any</td>\n",
    "            <td>ascii</td>\n",
    "            <td>bin</td>\n",
    "            <td>bool</td>\n",
    "            <td>breakpoint</td>\n",
    "            <td>bytearray</td>\n",
    "            <td>bytes</td>\n",
    "            <td>callable</td>\n",
    "            <td>chr</td>\n",
    "            <td>classmethod</td>\n",
    "        </tr>\n",
    "        <tr>\n",
    "            <td>compile</td>\n",
    "            <td>complex</td>\n",
    "            <td>copyright</td>\n",
    "            <td>credits</td>\n",
    "            <td>delattr</td>\n",
    "            <td>dict</td>\n",
    "            <td>dir</td>\n",
    "            <td>display</td>\n",
    "            <td>divmod</td>\n",
    "            <td>enumerate</td>\n",
    "        </tr>\n",
    "        <tr>\n",
    "            <td>eval</td>\n",
    "            <td>exec</td>\n",
    "            <td>execfile</td>\n",
    "            <td>filter</td>\n",
    "            <td>float</td>\n",
    "            <td>format</td>\n",
    "            <td>frozenset</td>\n",
    "            <td>get_ipython</td>\n",
    "            <td>getattr</td>\n",
    "            <td>globals</td>\n",
    "        </tr>\n",
    "        <tr>\n",
    "            <td>hasattr</td>\n",
    "            <td>hash</td>\n",
    "            <td>help</td>\n",
    "            <td>hex</td>\n",
    "            <td>id</td>\n",
    "            <td>input</td>\n",
    "            <td>int</td>\n",
    "            <td>isinstance</td>\n",
    "            <td>issubclass</td>\n",
    "            <td>iter</td>\n",
    "        </tr>\n",
    "        <tr>\n",
    "            <td>len</td>\n",
    "            <td>license</td>\n",
    "            <td>list</td>\n",
    "            <td>locals</td>\n",
    "            <td>map</td>\n",
    "            <td>max</td>\n",
    "            <td>memoryview</td>\n",
    "            <td>min</td>\n",
    "            <td>next</td>\n",
    "            <td>object</td>\n",
    "        </tr>\n",
    "        <tr>\n",
    "            <td>oct</td>\n",
    "            <td>open</td>\n",
    "            <td>ord</td>\n",
    "            <td>pow</td>\n",
    "            <td>print</td>\n",
    "            <td>property</td>\n",
    "            <td>range</td>\n",
    "            <td>repr</td>\n",
    "            <td>reversed</td>\n",
    "            <td>round</td>\n",
    "        </tr>\n",
    "        <tr>\n",
    "            <td>runfile</td>\n",
    "            <td>set</td>\n",
    "            <td>setattr</td>\n",
    "            <td>slice</td>\n",
    "            <td>sorted</td>\n",
    "            <td>staticmethod</td>\n",
    "            <td>str</td>\n",
    "            <td>sum</td>\n",
    "            <td>super</td>\n",
    "            <td>tuple</td>\n",
    "        </tr>\n",
    "        <tr>\n",
    "            <td>type</td>\n",
    "            <td>vars</td>\n",
    "            <td>zip</td>\n",
    "        </tr>\n",
    "</table>"
   ]
  },
  {
   "cell_type": "code",
   "execution_count": 19,
   "id": "011962fa-dd6c-40cd-8207-7f6fd7d25ed5",
   "metadata": {},
   "outputs": [
    {
     "name": "stdout",
     "output_type": "stream",
     "text": [
      "['ArithmeticError', 'AssertionError', 'AttributeError', 'BaseException', 'BaseExceptionGroup', 'BlockingIOError', 'BrokenPipeError', 'BufferError', 'BytesWarning', 'ChildProcessError', 'ConnectionAbortedError', 'ConnectionError', 'ConnectionRefusedError', 'ConnectionResetError', 'DeprecationWarning', 'EOFError', 'Ellipsis', 'EncodingWarning', 'EnvironmentError', 'Exception', 'ExceptionGroup', 'False', 'FileExistsError', 'FileNotFoundError', 'FloatingPointError', 'FutureWarning', 'GeneratorExit', 'IOError', 'ImportError', 'ImportWarning', 'IndentationError', 'IndexError', 'InterruptedError', 'IsADirectoryError', 'KeyError', 'KeyboardInterrupt', 'LookupError', 'MemoryError', 'ModuleNotFoundError', 'NameError', 'None', 'NotADirectoryError', 'NotImplemented', 'NotImplementedError', 'OSError', 'OverflowError', 'PendingDeprecationWarning', 'PermissionError', 'ProcessLookupError', 'RecursionError', 'ReferenceError', 'ResourceWarning', 'RuntimeError', 'RuntimeWarning', 'StopAsyncIteration', 'StopIteration', 'SyntaxError', 'SyntaxWarning', 'SystemError', 'SystemExit', 'TabError', 'TimeoutError', 'True', 'TypeError', 'UnboundLocalError', 'UnicodeDecodeError', 'UnicodeEncodeError', 'UnicodeError', 'UnicodeTranslateError', 'UnicodeWarning', 'UserWarning', 'ValueError', 'Warning', 'WindowsError', 'ZeroDivisionError', '__IPYTHON__', '__build_class__', '__debug__', '__doc__', '__import__', '__loader__', '__name__', '__package__', '__spec__', 'abs', 'aiter', 'all', 'anext', 'any', 'ascii', 'bin', 'bool', 'breakpoint', 'bytearray', 'bytes', 'callable', 'chr', 'classmethod', 'compile', 'complex', 'copyright', 'credits', 'delattr', 'dict', 'dir', 'display', 'divmod', 'enumerate', 'eval', 'exec', 'execfile', 'filter', 'float', 'format', 'frozenset', 'get_ipython', 'getattr', 'globals', 'hasattr', 'hash', 'help', 'hex', 'id', 'input', 'int', 'isinstance', 'issubclass', 'iter', 'len', 'license', 'list', 'locals', 'map', 'max', 'memoryview', 'min', 'next', 'object', 'oct', 'open', 'ord', 'pow', 'print', 'property', 'range', 'repr', 'reversed', 'round', 'runfile', 'set', 'setattr', 'slice', 'sorted', 'staticmethod', 'str', 'sum', 'super', 'tuple', 'type', 'vars', 'zip']\n"
     ]
    }
   ],
   "source": [
    "print(dir(locals()['__builtins__']))"
   ]
  }
 ],
 "metadata": {
  "kernelspec": {
   "display_name": "Python 3 (ipykernel)",
   "language": "python",
   "name": "python3"
  },
  "language_info": {
   "codemirror_mode": {
    "name": "ipython",
    "version": 3
   },
   "file_extension": ".py",
   "mimetype": "text/x-python",
   "name": "python",
   "nbconvert_exporter": "python",
   "pygments_lexer": "ipython3",
   "version": "3.11.5"
  }
 },
 "nbformat": 4,
 "nbformat_minor": 5
}
