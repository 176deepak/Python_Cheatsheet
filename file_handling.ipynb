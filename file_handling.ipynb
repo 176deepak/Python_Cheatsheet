{
 "cells": [
  {
   "cell_type": "markdown",
   "id": "17679cc1-e312-4189-bec8-e141dbf9cafe",
   "metadata": {},
   "source": [
    "# FILE HANDLING\n",
    "\n",
    "File handling in Python refers to the ability to work with files on your computer's filesystem. Python provides a rich set of tools and modules to interact with files, allowing you to perform various operations such as reading, writing, appending, and manipulating files.\n",
    "\n",
    "Hence, in Python, a file operation takes place in the following order:\n",
    "\n",
    "1. Open a file\n",
    "2. Perform operation on file(read, write etc.)\n",
    "3. Close the file"
   ]
  },
  {
   "cell_type": "markdown",
   "id": "48d86355-a4f3-4bf4-a5a2-dd87deab8b24",
   "metadata": {},
   "source": [
    "## Open a File\n",
    "\n",
    "In Python, we use the `open()` method to open files, specifying the file's path and the mode in which you want to open it.\n",
    "\n",
    "```python\n",
    "open('path\\to\\file', 'opening mode') \n",
    "```\n",
    "Here, in `open()` first parameter is `file location` or file name and second parameters is `file mode`, in which we want to open a file?\n",
    "\n",
    "There are many filemodes is python, some of them are:\n",
    "\n",
    "<table>\n",
    "    <tr>\n",
    "        <th>Mode</th>\n",
    "        <th>Description</th>\n",
    "    </tr>\n",
    "    <tr>\n",
    "        <td>r</td>\n",
    "        <td>Open a file for reading. (default)</td>\n",
    "    </tr>\n",
    "    <tr>\n",
    "        <td>w</td>\n",
    "        <td>Open a file for writing. Creates a new file if it does not exist or truncates the file if it exists.</td>\n",
    "    </tr>\n",
    "    <tr>\n",
    "        <td>x</td>\n",
    "        <td>Open a file for exclusive creation. If the file already exists, the operation fails.</td>\n",
    "    </tr>\n",
    "    <tr>\n",
    "        <td>a</td>\n",
    "        <td>Open a file for appending at the end of the file without truncating it. Creates a new file if it does not exist.</td>\n",
    "    </tr>\n",
    "    <tr>\n",
    "        <td>t</td>\n",
    "        <td>Open in text mode. (default)</td>\n",
    "    </tr>\n",
    "    <tr>\n",
    "        <td>b</td>\n",
    "        <td>Open in binary mode.</td>\n",
    "    </tr>\n",
    "    <tr>\n",
    "        <td>+</td>\n",
    "        <td>Open a file for updating (reading and writing)</td>\n",
    "    </tr>\n",
    "</table>"
   ]
  },
  {
   "cell_type": "code",
   "execution_count": 3,
   "id": "5299c947-8f5c-4818-b000-11ade6e58f96",
   "metadata": {},
   "outputs": [],
   "source": [
    "# file opening\n",
    "\n",
    "file = open('test.txt')"
   ]
  },
  {
   "cell_type": "code",
   "execution_count": 7,
   "id": "ef1efbb0-02e7-4722-8c94-79ade75659f0",
   "metadata": {},
   "outputs": [],
   "source": [
    "# file opening with different modes\n",
    "\n",
    "file = open('test.txt', 'r')\n",
    "file = open('test.txt', 'w')\n",
    "file = open('test.txt', 'rb')"
   ]
  },
  {
   "cell_type": "markdown",
   "id": "76d097bb-d977-430f-8152-0dcc534d7a0e",
   "metadata": {},
   "source": [
    "## File Reading \n",
    "\n",
    "In python, we have many builtin methods for reading a file. Like `read()`, `readline()`, `readlines()`\n",
    "\n",
    "We can read files after opening of file using open() method."
   ]
  },
  {
   "cell_type": "code",
   "execution_count": 15,
   "id": "1350dcc7-ff42-4a51-89a6-8e22bbb7a300",
   "metadata": {},
   "outputs": [],
   "source": [
    "# file opening\n",
    "file = open('test.txt')\n",
    "\n",
    "# file reading\n",
    "text = file.read()\n",
    "print(text)"
   ]
  },
  {
   "cell_type": "code",
   "execution_count": 16,
   "id": "1b015730-4738-4a3a-ae88-7015d6ebea19",
   "metadata": {},
   "outputs": [
    {
     "name": "stdout",
     "output_type": "stream",
     "text": [
      "Lorem Ipsum is simply dummy text of the printing and typesetting industry. Lorem Ipsum has been the industry's standard dummy text ever since the 1500s, when an unknown printer took a galley of \n",
      "\n"
     ]
    }
   ],
   "source": [
    "# reading only first single line\n",
    "line = file.readline()\n",
    "print(line)"
   ]
  },
  {
   "cell_type": "code",
   "execution_count": 17,
   "id": "9db081dc-198a-481d-8f7e-fd9beb72c5ab",
   "metadata": {},
   "outputs": [
    {
     "name": "stdout",
     "output_type": "stream",
     "text": [
      "['type and scrambled it to make a type specimen book. It has su\\n', 'rvived not only five centuries, but also the leap into electronic typesetting, remaining essentially unchanged. It was popularised in the 1960s with the release of Letraset sheets containing Lorem Ipsum passages, and more recently with desktop publishing software like Aldus PageMaker including versions of Lorem Ipsum.']\n"
     ]
    }
   ],
   "source": [
    "# reading all lines from file\n",
    "lines = file.readlines()\n",
    "print(lines)"
   ]
  },
  {
   "cell_type": "markdown",
   "id": "40f90f86-8090-4c47-bc46-b0b5935492b3",
   "metadata": {},
   "source": [
    "## Closing Files\n",
    "\n",
    "It's essential to close files when you're done with them to release system resources. We can use the close() method for this purpose."
   ]
  },
  {
   "cell_type": "code",
   "execution_count": 19,
   "id": "9e65af60-255a-4474-8aa7-691a35e43741",
   "metadata": {},
   "outputs": [
    {
     "name": "stdout",
     "output_type": "stream",
     "text": [
      "Lorem Ipsum is simply dummy text of the printing and typesetting industry. Lorem Ipsum has been the industry's standard dummy text ever since the 1500s, when an unknown printer took a galley of \n",
      "type and scrambled it to make a type specimen book. It has su\n",
      "rvived not only five centuries, but also the leap into electronic typesetting, remaining essentially unchanged. It was popularised in the 1960s with the release of Letraset sheets containing Lorem Ipsum passages, and more recently with desktop publishing software like Aldus PageMaker including versions of Lorem Ipsum.\n"
     ]
    }
   ],
   "source": [
    "# opening\n",
    "file = open('test.txt', 'r')\n",
    "\n",
    "# reading\n",
    "text = file.read()\n",
    "print(text)\n",
    "\n",
    "#closing \n",
    "file.close()"
   ]
  },
  {
   "cell_type": "markdown",
   "id": "f22bc7a8-13bc-4db4-9eb2-caa6f166b220",
   "metadata": {},
   "source": [
    "## Writing to Files\n",
    "\n",
    "We can write data to a file using the write() method in write or append mode.\n",
    "\n",
    "There are two things we need to remember while writing to a file.\n",
    "\n",
    "1. If we try to open a file that doesn't exist, a new file is created.\n",
    "2. If a file already exists, its content is erased, and new content is added to the file."
   ]
  },
  {
   "cell_type": "code",
   "execution_count": 22,
   "id": "28e47797-e599-4d8d-85cf-450feaf67eca",
   "metadata": {},
   "outputs": [],
   "source": [
    "file1 = open('test.txt', 'r')\n",
    "\n",
    "text = file1.read()\n",
    "\n",
    "file2 = open('test2.txt', 'w')\n",
    "file2.write(text)\n",
    "\n",
    "file2.close()\n",
    "file1.close()"
   ]
  },
  {
   "cell_type": "markdown",
   "id": "6943af55-d347-40a5-b46a-1642fd4264ae",
   "metadata": {},
   "source": [
    "## Context Managers (with Statement)\n",
    "\n",
    "Python provides a safer way to open and close files using the with statement. `When you use a with statement, the file is automatically closed when you exit the block`."
   ]
  },
  {
   "cell_type": "code",
   "execution_count": 23,
   "id": "510c410f-d6a5-4666-a00b-0bdac07bd0e6",
   "metadata": {},
   "outputs": [
    {
     "name": "stdout",
     "output_type": "stream",
     "text": [
      "Lorem Ipsum is simply dummy text of the printing and typesetting industry. Lorem Ipsum has been the industry's standard dummy text ever since the 1500s, when an unknown printer took a galley of \n",
      "type and scrambled it to make a type specimen book. It has su\n",
      "rvived not only five centuries, but also the leap into electronic typesetting, remaining essentially unchanged. It was popularised in the 1960s with the release of Letraset sheets containing Lorem Ipsum passages, and more recently with desktop publishing software like Aldus PageMaker including versions of Lorem Ipsum.\n"
     ]
    }
   ],
   "source": [
    "with open('test.txt', 'r') as file:\n",
    "    content = file.read()\n",
    "    print(content)"
   ]
  },
  {
   "cell_type": "markdown",
   "id": "f3b64194-3cb8-4db6-a61a-3fbad5429231",
   "metadata": {},
   "source": [
    "## Python File Methods\n",
    "There are various methods available with the file object. Some of them have been used in the above examples.\n",
    "Here is the complete list of methods in text mode with a brief description:\n",
    "\n",
    "<table>\n",
    "    <tr>\n",
    "        <th>Method</th>\n",
    "        <th>Description</th>\n",
    "    </tr>\n",
    "    <tr>\n",
    "        <td>close()</td>\n",
    "        <td>Closes an opened file. It has no effect if the file is already closed.</td>\n",
    "    </tr>\n",
    "    <tr>\n",
    "        <td>detach()</td>\n",
    "        <td>Separates the underlaying binary buffer from the `TextIOBase` and returns it.</td>\n",
    "    </tr>\n",
    "    <tr>\n",
    "        <td>fileno()</td>\n",
    "        <td>Returns an integer number(file descriptor) of the file.</td>\n",
    "    </tr>\n",
    "    <tr>\n",
    "        <td>flush()</td>\n",
    "        <td>Flushes the write buffer of the file stream.</td>\n",
    "    </tr>\n",
    "    <tr>\n",
    "        <td>isatty()</td>\n",
    "        <td>Returns True if the file stream is interactive.</td>\n",
    "    </tr>\n",
    "    <tr>\n",
    "        <td>read(n)</td>\n",
    "        <td>Reads till end of file if it is negative or None.</td>\n",
    "    </tr>\n",
    "    <tr>\n",
    "        <td>readable()</td>\n",
    "        <td>Returns True if the file stream can be read from.</td>\n",
    "    </tr>\n",
    "    <tr>\n",
    "        <td>readline(n=-1)</td>\n",
    "        <td>Reads and returns one line from the file. Reads in at most n bytes if specified.</td>\n",
    "    </tr>\n",
    "    <tr>\n",
    "        <td>readlines(n=-1)</td>\n",
    "        <td>Reads and returns a list of lines from the file. Reads in at most n bytes/characters if specified.</td>\n",
    "    </tr>\n",
    "    <tr>\n",
    "        <td>seek(offset,from=SEEK_SET)</td>\n",
    "        <td>Changes the file position to offset bytes, in reference to from (start, current, end).</td>\n",
    "    </tr>\n",
    "    <tr>\n",
    "        <td>seekable()</td>\n",
    "        <td>Returns True if the file stream supports random access.</td>\n",
    "    </tr>\n",
    "    <tr>\n",
    "        <td>tell()</td>\n",
    "        <td>Returns an integer that represents the current position of the file's object.</td>\n",
    "    </tr>\n",
    "    <tr>\n",
    "        <td>truncate(size=None)</td>\n",
    "        <td>Resizes the file stream to size bytes. If size is not specified, resizes to current location.</td>\n",
    "    </tr>\n",
    "    <tr>\n",
    "        <td>writable()</td>\n",
    "        <td>Returns True if the file stream can be written to.</td>\n",
    "    </tr>\n",
    "    <tr>\n",
    "        <td>write(s)</td>\n",
    "        <td>Writes the string s to the file and returns the number of characters written.</td>\n",
    "    </tr>\n",
    "    <tr>\n",
    "        <td>writelines(lines)</td>\n",
    "        <td>Writes a list of lines to the file.</td>\n",
    "    </tr> \n",
    "</table>"
   ]
  },
  {
   "cell_type": "code",
   "execution_count": null,
   "id": "832a6c27-b6c6-45e4-b210-e4d2ce6547db",
   "metadata": {},
   "outputs": [],
   "source": []
  }
 ],
 "metadata": {
  "kernelspec": {
   "display_name": "Python 3 (ipykernel)",
   "language": "python",
   "name": "python3"
  },
  "language_info": {
   "codemirror_mode": {
    "name": "ipython",
    "version": 3
   },
   "file_extension": ".py",
   "mimetype": "text/x-python",
   "name": "python",
   "nbconvert_exporter": "python",
   "pygments_lexer": "ipython3",
   "version": "3.11.5"
  }
 },
 "nbformat": 4,
 "nbformat_minor": 5
}
