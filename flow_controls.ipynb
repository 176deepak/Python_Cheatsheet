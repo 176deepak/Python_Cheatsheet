{
 "cells": [
  {
   "cell_type": "markdown",
   "id": "043c87a5-f1b4-4be5-bfa3-8309639af507",
   "metadata": {},
   "source": [
    "# PYTHON - FLOW CONTROLS\n",
    "\n",
    "Flow control in Python refers to the structures and statements used to control the order of execution of code. It allows you to make decisions, create loops, and define blocks of code that execute conditionally or repeatedly. Python provides several flow control structures:"
   ]
  },
  {
   "cell_type": "markdown",
   "id": "e016324b-636a-410f-8990-8ca659124a7a",
   "metadata": {},
   "source": [
    "***********************************"
   ]
  },
  {
   "cell_type": "markdown",
   "id": "e011936e-f225-4802-90b9-2b0b0b6f2809",
   "metadata": {},
   "source": [
    "## 1. Conditional Statements\n",
    "\n",
    "Conditional statements allow you to execute different code blocks based on conditions. The primary conditional statements in Python are:\n",
    "\n",
    "1. if: Executes a block of code if a specified condition is true.\n",
    "2. if-else: Executes one block of code if a condition is true and another block if it's false.\n",
    "3. if-elif-else: Allows you to check multiple conditions and execute different code blocks based on the first true condition."
   ]
  },
  {
   "cell_type": "code",
   "execution_count": null,
   "id": "3b44171a-9672-4edf-9594-c554c5c8ae4e",
   "metadata": {},
   "outputs": [],
   "source": [
    "# if: \n",
    "\n",
    "age = int(input(\"Enter your age: \"))\n",
    "\n",
    "if age > 18:\n",
    "    print(\"You are eligible for voting.\")"
   ]
  },
  {
   "cell_type": "code",
   "execution_count": null,
   "id": "678f07d3-668c-44de-871b-9386ddbcd666",
   "metadata": {},
   "outputs": [],
   "source": [
    "# if-else:\n",
    "\n",
    "age = int(input(\"Enter your age: \"))\n",
    "\n",
    "if age >= 21:\n",
    "    print(\"You are eligible for marriage as per Govt. Law.\")\n",
    "else:\n",
    "    print(\"Not eligible for marriage! You are Teenager.\")"
   ]
  },
  {
   "cell_type": "code",
   "execution_count": null,
   "id": "329f0137-e31a-434e-b7d8-f6889965813d",
   "metadata": {},
   "outputs": [],
   "source": [
    "# if-elif-else\n",
    "\n",
    "number = int(input(\"Enter any number: \"))\n",
    "\n",
    "if number < 0:\n",
    "    print(\"You entered a negative number\")\n",
    "elif number > 0:\n",
    "    print(\"You entered a positive number\")\n",
    "else:\n",
    "    print(\"You entered 0\")\n",
    "    "
   ]
  },
  {
   "cell_type": "markdown",
   "id": "e084c588-7aeb-48aa-8e8a-0fe9fbb1c1cd",
   "metadata": {},
   "source": [
    "***************************"
   ]
  },
  {
   "cell_type": "markdown",
   "id": "8395828f-601e-4161-aa0d-3eb5f29ff554",
   "metadata": {},
   "source": [
    "## 2. Loops"
   ]
  },
  {
   "cell_type": "markdown",
   "id": "344f8913-d746-4df3-9613-e7fbb6fa7084",
   "metadata": {},
   "source": [
    "Looping statements allow you to execute a block of code repeatedly. The primary looping statements in Python are:\n",
    "\n",
    "1. for: Iterates over a sequence (e.g., list, tuple, string) or any iterable. The for loop is usually used when the number of iterations is known.\n",
    "2. while: Repeats a block of code as long as a specified condition is true. The while loop is usually used when the number of iterations is not known."
   ]
  },
  {
   "cell_type": "code",
   "execution_count": null,
   "id": "34b68f62-8ace-4ccf-829a-0924bcacc563",
   "metadata": {},
   "outputs": [],
   "source": [
    "# for loop\n",
    "\n",
    "counts = [1, 2, 3, 4, 5, 6, 7, 8, 9, 10]\n",
    "\n",
    "for count in counts:\n",
    "    print(\"2 x \", count, \" = \", 2*count)"
   ]
  },
  {
   "cell_type": "code",
   "execution_count": null,
   "id": "16b3d84c-28a4-45ef-a151-125817bc1a47",
   "metadata": {},
   "outputs": [],
   "source": [
    "fruits = ('apple', 'mango', 'banana')\n",
    "\n",
    "for fruit in fruits:\n",
    "    print(fruit, end=' ')"
   ]
  },
  {
   "cell_type": "code",
   "execution_count": null,
   "id": "0ac58cee-f65e-42bd-a582-57bf41b0b802",
   "metadata": {},
   "outputs": [],
   "source": [
    "# for loop with else: else statement executed when for loop completed iteratation over all elements\n",
    "\n",
    "digits = [0, 1, 5]\n",
    "\n",
    "for i in digits:\n",
    "    print(i)\n",
    "else:\n",
    "    print(\"No items left.\")"
   ]
  },
  {
   "cell_type": "code",
   "execution_count": null,
   "id": "19bbf1c4-1ebd-4885-a479-356c18e36a14",
   "metadata": {},
   "outputs": [],
   "source": [
    "# while loop:\n",
    "\n",
    "barrier = 10\n",
    "i = 1\n",
    "\n",
    "while i <= barrier:\n",
    "    print(\"2 x \", i, \" = \", 2*i)\n",
    "    i += 1"
   ]
  },
  {
   "cell_type": "code",
   "execution_count": null,
   "id": "24902a62-2d94-4dc3-aaee-885c455f284f",
   "metadata": {},
   "outputs": [],
   "source": [
    "# infinite loop\n",
    "\n",
    "age = int(input(\"Enter your age: \"))\n",
    "\n",
    "while age > 18:\n",
    "    print(\"You can vote\")"
   ]
  },
  {
   "cell_type": "code",
   "execution_count": null,
   "id": "d128fd5a-84c0-444b-a773-102903bc9585",
   "metadata": {},
   "outputs": [],
   "source": [
    "# While loop with else: else statement will be executed when while loop's condition not satisfied\n",
    "\n",
    "counter = 0\n",
    "\n",
    "while counter < 3:\n",
    "    print('Inside loop')\n",
    "    counter = counter + 1\n",
    "else:\n",
    "    print('Inside else')"
   ]
  },
  {
   "cell_type": "markdown",
   "id": "2171c75a-d47a-4e0a-8cbb-32d2b1b62cb2",
   "metadata": {},
   "source": [
    "*****************************"
   ]
  },
  {
   "cell_type": "markdown",
   "id": "1b3d298a-a732-41a8-9f9b-29021550dd99",
   "metadata": {},
   "source": [
    "## 3. Control Statements\n",
    "\n",
    "Control statements are used to change the flow of execution in loops and conditional statements.\n",
    "1. break: Exits the current loop prematurely.\n",
    "2. continue: Skips the current iteration of a loop and moves to the next one.\n",
    "3. pass: In Python programming, the pass statement is a null statement which can be used as a placeholder for future code."
   ]
  },
  {
   "cell_type": "code",
   "execution_count": null,
   "id": "197be15a-b7fc-4e39-ab31-bb9bde4f3908",
   "metadata": {},
   "outputs": [],
   "source": [
    "# break\n",
    "\n",
    "fruits = ['apple', 'banana', 'mango', 'orange', 'litchi']\n",
    "\n",
    "for fruit in fruits:\n",
    "    if fruit == 'mango':\n",
    "        break\n",
    "    print(fruit)"
   ]
  },
  {
   "cell_type": "code",
   "execution_count": null,
   "id": "27a7319d-63f2-47ee-b71e-a8e3f1423b1b",
   "metadata": {},
   "outputs": [],
   "source": [
    "# break can control infinite loop\n",
    "\n",
    "i = 1\n",
    "\n",
    "while i:\n",
    "    if i > 10:\n",
    "        break\n",
    "    print(\"2 x \", i, \" = \", 2*i)\n",
    "    i += 1"
   ]
  },
  {
   "cell_type": "code",
   "execution_count": null,
   "id": "64623464-fdf2-485d-8557-e828bff05fc5",
   "metadata": {},
   "outputs": [],
   "source": [
    "# continue\n",
    "\n",
    "fruits = ['apple', 'banana', 'mango', 'orange', 'litchi']\n",
    "\n",
    "for fruit in fruits:\n",
    "    if fruit == 'mango':\n",
    "        continue\n",
    "    print(fruit)"
   ]
  },
  {
   "cell_type": "code",
   "execution_count": 1,
   "id": "4b9edbe9-69fc-42b4-b54a-03f0ddc6fe42",
   "metadata": {},
   "outputs": [
    {
     "name": "stdout",
     "output_type": "stream",
     "text": [
      "1\n",
      "3\n",
      "5\n",
      "7\n",
      "9\n"
     ]
    }
   ],
   "source": [
    "num = 0\n",
    "\n",
    "while num < 10:\n",
    "    num += 1\n",
    "    \n",
    "    if (num % 2) == 0:\n",
    "        continue\n",
    "\n",
    "    print(num)"
   ]
  },
  {
   "cell_type": "code",
   "execution_count": 3,
   "id": "d2bf0f25-404e-40c2-97df-81cd26ce31ab",
   "metadata": {},
   "outputs": [
    {
     "name": "stdout",
     "output_type": "stream",
     "text": [
      "Hello\n"
     ]
    }
   ],
   "source": [
    "# pass statement\n",
    "\n",
    "n = 10\n",
    "\n",
    "if n > 10:\n",
    "    # write code later\n",
    "    pass\n",
    "\n",
    "print('Hello')"
   ]
  },
  {
   "cell_type": "code",
   "execution_count": null,
   "id": "0849adbd-9994-4b20-af10-9fe09ddf4cfe",
   "metadata": {},
   "outputs": [],
   "source": []
  }
 ],
 "metadata": {
  "kernelspec": {
   "display_name": "Python 3 (ipykernel)",
   "language": "python",
   "name": "python3"
  },
  "language_info": {
   "codemirror_mode": {
    "name": "ipython",
    "version": 3
   },
   "file_extension": ".py",
   "mimetype": "text/x-python",
   "name": "python",
   "nbconvert_exporter": "python",
   "pygments_lexer": "ipython3",
   "version": "3.11.5"
  }
 },
 "nbformat": 4,
 "nbformat_minor": 5
}
