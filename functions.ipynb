{
 "cells": [
  {
   "cell_type": "markdown",
   "id": "129c3f05-5a80-4d40-80de-5273a7e0f836",
   "metadata": {},
   "source": [
    "# FUNCTIONS\n",
    "\n",
    "In Python, a function is a block of organized, reusable code that performs a specific task or set of tasks. They allow you to encapsulate a sequence of instructions into a named entity that can be called multiple times with different inputs. \n",
    "\n",
    "<h3 style=\"text-align:center; color: blue\">def <span style=\"color:red\">function_name</span>:</h3>\n",
    "<h4 style=\"text-align:center\">code.......</h4>"
   ]
  },
  {
   "cell_type": "markdown",
   "id": "c3e26db7-7937-4c2b-8efc-c138727ff97f",
   "metadata": {},
   "source": [
    "______________________________________"
   ]
  },
  {
   "cell_type": "markdown",
   "id": "cf1774cc-5fc0-467a-ac41-c94389702fc8",
   "metadata": {},
   "source": [
    "**Function Definition:** To create a function, you define it using the def keyword, followed by the function name, a pair of parentheses (), and a colon :. The function body, consisting of one or more indented statements, follows the colon.\n",
    "\n",
    "**Function Call:** To execute a function, you call it by its name followed by parentheses."
   ]
  },
  {
   "cell_type": "code",
   "execution_count": 54,
   "id": "27d21de8-3eb5-4530-8468-bd24f82bc6d9",
   "metadata": {},
   "outputs": [],
   "source": [
    "def my_function():\n",
    "    # Function body\n",
    "    print(\"Hello, World!\")"
   ]
  },
  {
   "cell_type": "code",
   "execution_count": 56,
   "id": "a4d079ad-a789-47ee-8133-d44251e17045",
   "metadata": {},
   "outputs": [
    {
     "name": "stdout",
     "output_type": "stream",
     "text": [
      "Hello, World!\n"
     ]
    }
   ],
   "source": [
    "my_function()"
   ]
  },
  {
   "cell_type": "markdown",
   "id": "76acd691-f817-4d7c-978c-586357be1632",
   "metadata": {},
   "source": [
    "***************************************"
   ]
  },
  {
   "cell_type": "markdown",
   "id": "05768ae2-2323-4872-9082-ee28bdf92fc0",
   "metadata": {},
   "source": [
    "## Types of Functions\n",
    "There are two types of function in Python programming:\n",
    "\n",
    "**1. Standard library functions** - These are built-in functions in Python that are available to use.<br/>\n",
    "**2. User-defined functions** - We can create our own functions based on our requirements."
   ]
  },
  {
   "cell_type": "markdown",
   "id": "c9c6a932-a76f-4790-9759-2ae09fdfa1e9",
   "metadata": {},
   "source": [
    "*********************"
   ]
  },
  {
   "cell_type": "markdown",
   "id": "8c92f4cf-e07b-448f-a311-ca0ac7364933",
   "metadata": {},
   "source": [
    "## Arguments and Parameters\n",
    "We can pass the values to a functions. There are 2 terms comes in action: `Parameters` and `Arguments`  \n",
    "\n",
    "**Parameters**: When we create a function and that time if we give input varaibles to a function, than these input variables are known as function's parameters.\n",
    "\n",
    "**Arguments**: At the time of function calling, when we pass input variables values, than input variables are known as function's argument.\n",
    "\n",
    "We can pass as many parameters as we want in fuction."
   ]
  },
  {
   "cell_type": "code",
   "execution_count": 57,
   "id": "e155bb24-71ae-4430-979b-03bebd7617e4",
   "metadata": {},
   "outputs": [],
   "source": [
    "# single parameter\n",
    "\n",
    "def greet(name):\n",
    "    print(f\"Hello, {name}!\")"
   ]
  },
  {
   "cell_type": "code",
   "execution_count": 58,
   "id": "8ebaacd1-2448-452f-bdc8-443e73dc743b",
   "metadata": {},
   "outputs": [
    {
     "name": "stdin",
     "output_type": "stream",
     "text": [
      "Enter your name:  Deepak \n"
     ]
    },
    {
     "name": "stdout",
     "output_type": "stream",
     "text": [
      "Hello, Deepak !\n"
     ]
    }
   ],
   "source": [
    "greet(input(\"Enter your name: \"))"
   ]
  },
  {
   "cell_type": "code",
   "execution_count": 60,
   "id": "db98e58b-896f-44b6-80af-9de60f7f1de9",
   "metadata": {},
   "outputs": [
    {
     "name": "stdin",
     "output_type": "stream",
     "text": [
      "Enter your name:  Deepak\n",
      "Enter your age:  21\n",
      "Enter experience in years:  2\n"
     ]
    },
    {
     "name": "stdout",
     "output_type": "stream",
     "text": [
      "Your name: Deepak \n",
      "Your age: 21 \n",
      "You have experience of 2 years\n"
     ]
    }
   ],
   "source": [
    "# here we pass 3 parameters during function creation\n",
    "\n",
    "def show_info(name, age, exp):\n",
    "    print(f\"Your name: {name} \\nYour age: {age} \\nYou have experience of {exp} years\")\n",
    "\n",
    "name = input(\"Enter your name: \")\n",
    "age = input(\"Enter your age: \")\n",
    "experience = input(\"Enter experience in years: \")\n",
    "\n",
    "show_info(name, age, experience)"
   ]
  },
  {
   "cell_type": "markdown",
   "id": "5e37b6ec-8b4b-4e8f-a074-0e27a785c69c",
   "metadata": {},
   "source": [
    "### passing arguments without thier name\n",
    "**show_info(name, age, experience)**\n",
    "\n",
    "when we give arguments without thier name, than sequence of passed arguments metters. That means if we pass arguments in wrong order, than we may get wrong result or we may also get error. "
   ]
  },
  {
   "cell_type": "code",
   "execution_count": 61,
   "id": "3aff5abc-dc6f-4b45-8a2e-640017b621d1",
   "metadata": {},
   "outputs": [
    {
     "name": "stdout",
     "output_type": "stream",
     "text": [
      "Your name: 21 \n",
      "Your age: 2 \n",
      "You have experience of Deepak years\n"
     ]
    }
   ],
   "source": [
    "show_info(age, experience, name)                    # like this "
   ]
  },
  {
   "cell_type": "markdown",
   "id": "b23cad9d-124c-4c10-bbba-c0eafb9bb375",
   "metadata": {},
   "source": [
    "### Passing arguments with their names as keyword argument\n",
    "**Keyword arguments formating**</br>\n",
    "\n",
    "**show_info(name = name, age = age, exp = experience)**\n",
    "\n",
    "when we pass arguments with thier name like above, in this ordering of arguments doesn't matters. We can pass arguments with any sequence. Like</br>\n",
    "***show_info(age = age, name = name, exp = experience)***</br>\n",
    "***show_info(exp = experience, age = age, name = name)***"
   ]
  },
  {
   "cell_type": "code",
   "execution_count": 62,
   "id": "e3632a67-7d01-4bd7-b2e8-1034efcfb34a",
   "metadata": {},
   "outputs": [
    {
     "name": "stdout",
     "output_type": "stream",
     "text": [
      "Your name: Deepak \n",
      "Your age: 21 \n",
      "You have experience of 2 years\n",
      "Your name: Deepak \n",
      "Your age: 21 \n",
      "You have experience of 2 years\n"
     ]
    }
   ],
   "source": [
    "show_info(age = age, name = name, exp = experience)                      # like this\n",
    "show_info(exp = experience, age = age, name = name)    "
   ]
  },
  {
   "cell_type": "markdown",
   "id": "e645643c-b5bb-4cf9-a0dd-6973bc7e77fa",
   "metadata": {},
   "source": [
    "### Arguments with default values\n",
    "\n",
    "We can pass parameters for a function with default values."
   ]
  },
  {
   "cell_type": "code",
   "execution_count": 63,
   "id": "1361848e-ab70-400d-8d96-505a6ddff44d",
   "metadata": {},
   "outputs": [
    {
     "name": "stdin",
     "output_type": "stream",
     "text": [
      "Enter your name:  Deepak\n",
      "Enter your age:  21\n"
     ]
    },
    {
     "name": "stdout",
     "output_type": "stream",
     "text": [
      "Your name: Deepak \n",
      "Your age: 21 \n",
      "You have experience of 0 years\n"
     ]
    }
   ],
   "source": [
    "#below we give a defualt value \"0\" to exp parameter\n",
    "\n",
    "def show_info(name, age, exp = 0):\n",
    "    print(f\"Your name: {name} \\nYour age: {age} \\nYou have experience of {exp} years\")\n",
    "\n",
    "name = input(\"Enter your name: \")\n",
    "age = input(\"Enter your age: \")\n",
    "# experience = input(\"Enter experience in years: \")\n",
    "\n",
    "show_info(name, age)"
   ]
  },
  {
   "cell_type": "markdown",
   "id": "01ad6e70-62b2-49a6-af25-fa39531e411a",
   "metadata": {},
   "source": [
    "______________________________________________"
   ]
  },
  {
   "cell_type": "markdown",
   "id": "6fd27a4e-ef33-4713-b818-c24a319a98f9",
   "metadata": {},
   "source": [
    "## Return Value: \n",
    "Functions can optionally return a value using the return statement. If there is no return statement or if it doesn't specify a value, the function returns None by default."
   ]
  },
  {
   "cell_type": "code",
   "execution_count": 64,
   "id": "5472646d-0c4e-4516-bcb5-6288ba2be5e8",
   "metadata": {},
   "outputs": [],
   "source": [
    "def add(a, b):\n",
    "    # returns the sum of a and b\n",
    "    return a + b"
   ]
  },
  {
   "cell_type": "code",
   "execution_count": 66,
   "id": "8e40db1f-0a6f-4637-9a88-ad2d38a47d12",
   "metadata": {},
   "outputs": [
    {
     "name": "stdin",
     "output_type": "stream",
     "text": [
      "Enter a: 10\n",
      "Enter b: 20\n"
     ]
    },
    {
     "data": {
      "text/plain": [
       "30"
      ]
     },
     "execution_count": 66,
     "metadata": {},
     "output_type": "execute_result"
    }
   ],
   "source": [
    "a = int(input(\"Enter a:\"))\n",
    "b = int(input(\"Enter b:\"))\n",
    "\n",
    "add(a = a, b = b)"
   ]
  },
  {
   "cell_type": "markdown",
   "id": "97d42408-8f29-40c8-a76c-f09ca693ec3d",
   "metadata": {},
   "source": [
    "_________________________________________"
   ]
  },
  {
   "cell_type": "markdown",
   "id": "67c57c8f-979c-4e0f-96a4-bd20d063aa59",
   "metadata": {},
   "source": [
    "## *args and **kwargs\n",
    "\n",
    "`*args` and `**kwargs` are two special keyword that can be used in Python functions to accept a variable number of arguments.\r\n",
    "\r\n",
    "`*args` accepts a variable number of positional arguments, which are stored in a tuple. `**kwargs` accepts a variable number of keyword arguments, which are stored in a dictionary.\r\n",
    "\r\n",
    "Here is an example of a function that uses `*args` and `**kwargle. I encourage you to learn more about them and see how you can use them in your own projects."
   ]
  },
  {
   "cell_type": "code",
   "execution_count": 67,
   "id": "efdec3de-4251-416b-ae1a-462be5880865",
   "metadata": {},
   "outputs": [
    {
     "name": "stdout",
     "output_type": "stream",
     "text": [
      "Positional arguments: (1, 2, 3)\n",
      "Keyword arguments: {'a': 4, 'b': 5}\n"
     ]
    }
   ],
   "source": [
    "def my_function(*args, **kwargs):\n",
    "  \"\"\"This function takes a variable number of arguments and keyword arguments.\n",
    "\n",
    "  Args:\n",
    "    *args: A variable number of positional arguments.\n",
    "    **kwargs: A variable number of keyword arguments.\n",
    "\n",
    "  Returns:\n",
    "    A string containing the positional and keyword arguments.\n",
    "  \"\"\"\n",
    "\n",
    "  return f\"Positional arguments: {args}\\nKeyword arguments: {kwargs}\"\n",
    "\n",
    "\n",
    "print(my_function(1, 2, 3, a=4, b=5))"
   ]
  },
  {
   "cell_type": "markdown",
   "id": "ce66b153-0b4c-4978-a92f-0a27902a516e",
   "metadata": {},
   "source": [
    "`*args` and `**kwargs` can be used to make functions more flexible and reusable. For example, you could write a function that takes a variable number of arguments and prints them all out, or a function that takes a variable number of keyword arguments and creates a new object from them.\n",
    "\n",
    "Here is an example of a function that uses `*args` to print all of its arguments:"
   ]
  },
  {
   "cell_type": "code",
   "execution_count": 68,
   "id": "17b5a522-ae50-4203-9bdd-cd977f8efe14",
   "metadata": {},
   "outputs": [
    {
     "name": "stdout",
     "output_type": "stream",
     "text": [
      "1\n",
      "2\n",
      "3\n",
      "hello\n",
      "world!\n"
     ]
    }
   ],
   "source": [
    "def print_all(*args):\n",
    "  \"\"\"This function prints all of its arguments to the console.\n",
    "\n",
    "  Args:\n",
    "    *args: A variable number of arguments.\n",
    "  \"\"\"\n",
    "\n",
    "  for arg in args:\n",
    "    print(arg)\n",
    "\n",
    "\n",
    "print_all(1, 2, 3, \"hello\", \"world!\")"
   ]
  },
  {
   "cell_type": "markdown",
   "id": "27ef08e9-dbe2-4872-ab63-c03d3875a6ec",
   "metadata": {},
   "source": [
    "`*args` and `**kwargs` are powerful tools that can make your Python code more flexible and reusable. I encourage you to learn more about them and see how you can use them in your own projects."
   ]
  },
  {
   "cell_type": "markdown",
   "id": "71ab2648-5659-4395-92ac-2a53a01622c7",
   "metadata": {},
   "source": [
    "____________________________"
   ]
  },
  {
   "cell_type": "markdown",
   "id": "c468e15b-ee73-4eff-84d4-7fb2aec7c1a2",
   "metadata": {},
   "source": [
    "## Docstrings\n",
    "\n",
    "Functions can include documentation strings (docstrings) enclosed in triple quotes. Docstrings provide information about the function's purpose, parameters, and return values."
   ]
  },
  {
   "cell_type": "code",
   "execution_count": 69,
   "id": "76850158-9d58-4487-a999-50a39aa94d4e",
   "metadata": {},
   "outputs": [],
   "source": [
    "def greet(name):\n",
    "    \"\"\"\n",
    "    This function greets the user by name.\n",
    "    \n",
    "    Parameters:\n",
    "    name (str): The name of the user.\n",
    "\n",
    "    Returns:\n",
    "    None\n",
    "    \"\"\"\n",
    "    print(f\"Hello, {name}!\")"
   ]
  },
  {
   "cell_type": "code",
   "execution_count": 70,
   "id": "b63ab137-6048-4e81-a7a8-e9c33efb830d",
   "metadata": {},
   "outputs": [
    {
     "name": "stdout",
     "output_type": "stream",
     "text": [
      "\n",
      "    This function greets the user by name.\n",
      "    \n",
      "    Parameters:\n",
      "    name (str): The name of the user.\n",
      "\n",
      "    Returns:\n",
      "    None\n",
      "    \n"
     ]
    }
   ],
   "source": [
    "print(greet.__doc__)"
   ]
  },
  {
   "cell_type": "markdown",
   "id": "a1cf00ac-4f9e-4e36-8eed-5828133ea621",
   "metadata": {},
   "source": [
    "____________________________________"
   ]
  },
  {
   "cell_type": "markdown",
   "id": "58da8014-926e-489d-82e5-7e322fa6886e",
   "metadata": {},
   "source": [
    "## Function Composition\n",
    "\n",
    "Functions can call other functions or even itself, allowing you to break down complex tasks into smaller, reusable components."
   ]
  },
  {
   "cell_type": "code",
   "execution_count": 72,
   "id": "6e3bacc4-311f-4431-8d78-c8dad9dc6996",
   "metadata": {},
   "outputs": [
    {
     "data": {
      "text/plain": [
       "(20, 100)"
      ]
     },
     "execution_count": 72,
     "metadata": {},
     "output_type": "execute_result"
    }
   ],
   "source": [
    "def double(x):\n",
    "    return x * 2\n",
    "\n",
    "def square(x):\n",
    "    return x ** 2\n",
    "\n",
    "def double_and_square(x):\n",
    "    doubled = double(x)\n",
    "    squared = square(x)\n",
    "    return doubled, squared\n",
    "\n",
    "double_and_square(10)"
   ]
  },
  {
   "cell_type": "markdown",
   "id": "09fb8b31-6d28-4076-aa60-ee99c4865e29",
   "metadata": {},
   "source": [
    "______________________________________________"
   ]
  },
  {
   "cell_type": "markdown",
   "id": "a1d0a704-9923-4279-8541-201fbefec778",
   "metadata": {},
   "source": [
    "# Lambda Function - Anonymous Function\n",
    "\n",
    "A lambda function, also known as an anonymous function or a lambda expression, is a concise way to create small, nameless functions with a single expression. Lambda functions are often used for short, simple operations where a full function definition would be unnecessarily verbose. Lambda functions are defined using the lambda keyword, followed by one or more arguments, a colon :, and an expression. The syntax is as follows:\n",
    "\n",
    "<h4 style=\"text-align: center; color: blue\">lambda arguments: expression</h4>\n",
    "\n",
    "Here's a breakdown of the components of a lambda function:\n",
    "\n",
    "1. lambda: This is the keyword used to define a lambda function.</br>\n",
    "2. arguments: These are the input parameters or arguments that the lambda function takes. You can have zero or more arguments, and they are separated by commas.</br>\n",
    "3. : (colon): It separates the arguments from the expression.</br>\n",
    "4. expression: This is a single expression that the lambda function evaluates and returns as its result. It can be any valid Python expression.</br>\n",
    "\n",
    "Lambda functions are typically used in situations where a small, throwaway function is needed, often for operations like sorting, filtering, or mapping. They are especially useful when you don't want to define a full-fledged named function using def for such simple tasks."
   ]
  },
  {
   "cell_type": "code",
   "execution_count": 73,
   "id": "93449c20-af6e-4699-b4d6-af9057ae96ce",
   "metadata": {},
   "outputs": [
    {
     "data": {
      "text/plain": [
       "8"
      ]
     },
     "execution_count": 73,
     "metadata": {},
     "output_type": "execute_result"
    }
   ],
   "source": [
    "#Simple lambda function:\n",
    "\n",
    "add = lambda x, y: x + y\n",
    "result = add(3, 5)  \n",
    "\n",
    "result"
   ]
  },
  {
   "cell_type": "markdown",
   "id": "a1e01edc-9da2-4761-9bd2-d3d32da96abf",
   "metadata": {},
   "source": [
    "__________________________________________"
   ]
  },
  {
   "cell_type": "markdown",
   "id": "90e2180a-842b-45b4-8366-fe06c5d35b32",
   "metadata": {},
   "source": [
    "# Variable Scope\n",
    "\n",
    "Variable scope in Python refers to the region or context within which a variable is visible and can be accessed. Python follows a set of rules to determine where a variable can be used, and it distinguishes between two main scopes: local scope and global scope.\n",
    "\n",
    "1. Local Scope: Variables defined inside a function have local scope, which means they are only accessible within that function. Local scope is limited to the block of code where the variable is defined. Nested functions can have their own local scopes, which are distinct from the outer scopes.\n",
    "2. Enclosing Scope (Closure) or Non Local: Variables defined in an enclosing function (outer function) are accessible within an inner function. This is known as closure, and it allows inner functions to \"capture\" variables from their containing functions.\n",
    "3. Global Scope: Variables defined outside of all functions have global scope, which means they can be accessed from anywhere in the program, including inside functions."
   ]
  },
  {
   "cell_type": "code",
   "execution_count": 77,
   "id": "063bc319-3921-496c-95cb-418b732324d1",
   "metadata": {},
   "outputs": [
    {
     "name": "stdout",
     "output_type": "stream",
     "text": [
      "10\n",
      "20\n"
     ]
    }
   ],
   "source": [
    "# local Scope \n",
    "def my_function():\n",
    "    x = 10  # 'x' has local scope within my_function\n",
    "    print(x)\n",
    "\n",
    "my_function()  # Prints 10\n",
    "print(x)  # Raises a NameError, 'x' is not defined outside the function"
   ]
  },
  {
   "cell_type": "code",
   "execution_count": 78,
   "id": "137de72e-fd0e-4060-9c8d-ed4631fcf9be",
   "metadata": {},
   "outputs": [
    {
     "name": "stdout",
     "output_type": "stream",
     "text": [
      "5\n"
     ]
    }
   ],
   "source": [
    "# Non Local Scope\n",
    "\n",
    "def outer_function():\n",
    "    x = 5  # 'x' has local scope within outer_function\n",
    "\n",
    "    def inner_function():\n",
    "        print(x)  # 'x' is accessible here, captured from the outer function\n",
    "\n",
    "    return inner_function\n",
    "\n",
    "my_function = outer_function()\n",
    "my_function()  # Prints 5"
   ]
  },
  {
   "cell_type": "code",
   "execution_count": 79,
   "id": "2a8d18d9-fde3-4165-83fa-fdd226f4157b",
   "metadata": {},
   "outputs": [
    {
     "name": "stdout",
     "output_type": "stream",
     "text": [
      "20\n"
     ]
    }
   ],
   "source": [
    "# Global Scope\n",
    "\n",
    "y = 20  # 'y' has global scope\n",
    "\n",
    "def my_function():\n",
    "    print(y)  # 'y' is accessible inside the function\n",
    "\n",
    "my_function()  # Prints 20"
   ]
  },
  {
   "cell_type": "markdown",
   "id": "ec58dff7-3a41-48f9-b222-7dce654350de",
   "metadata": {},
   "source": [
    "_____________________________________________"
   ]
  },
  {
   "cell_type": "markdown",
   "id": "29c70eb2-71f6-4b09-ac71-ba339875fe9c",
   "metadata": {},
   "source": [
    "# Global Keyword\n",
    "\n",
    "In Python, the `global` keyword is used to indicate that a variable declared within a function has a global scope. By default, variables declared inside a function have local scope, meaning they are only accessible within that function. However, if you want to modify a global variable from within a function or explicitly declare a variable as global, you use the `global` keyword.\n",
    "\n",
    "1. **Modifying a Global Variable:**\n",
    "\n",
    "   If you want to modify the value of a global variable from within a function, you need to use the `global` keyword to indicate that you are working with the global variable, not creating a new local variable with the same name.\n",
    "\n",
    "2. **Declaring a Global Variable:**\n",
    "\n",
    "   If you want to declare a new global variable from within a function, you can also use the `global` keyword.\n",
    "\n",
    "Rules of global Keyword: The basic rules for global keyword in Python are:\n",
    "</br>\n",
    "1. When we create a variable inside a function, it is local by default.</br>\n",
    "2. When we define a variable outside of a function, it is global by default. You don't have to use the global keyword.</br>\n",
    "3. We use the global keyword to read and write a global variable inside a function.</br>\n",
    "4. Use of the global keyword outside a function has no effect.</br>\n",
    "\n",
    "\n",
    "\n",
    "It's important to use the `global` keyword judiciously because modifying global variables from within functions can make code harder to understand and maintain. It's generally recommended to limit the use of global variables and, when possible, pass data as arguments to functions and return results instead of relying on global state. This helps improve code readability and maintainability.ode readability and maintainability."
   ]
  },
  {
   "cell_type": "code",
   "execution_count": 80,
   "id": "b39a2db1-4d16-495b-93a9-37e6786f0d23",
   "metadata": {},
   "outputs": [
    {
     "name": "stdout",
     "output_type": "stream",
     "text": [
      "20\n"
     ]
    }
   ],
   "source": [
    "x = 10  # This is a global variable\n",
    "\n",
    "def modify_global_variable():\n",
    "    global x  # Indicates that 'x' is a global variable\n",
    "    x = 20\n",
    "\n",
    "modify_global_variable()\n",
    "print(x)  # Prints 20, as 'x' was modified globally"
   ]
  },
  {
   "cell_type": "code",
   "execution_count": 81,
   "id": "05ee57b9-75e1-46dc-8eaf-5ad609abb42b",
   "metadata": {},
   "outputs": [
    {
     "name": "stdout",
     "output_type": "stream",
     "text": [
      "30\n"
     ]
    }
   ],
   "source": [
    "def declare_global_variable():\n",
    "    global y  # Declares 'y' as a global variable\n",
    "    y = 30\n",
    "\n",
    "declare_global_variable()\n",
    "print(y)  # Prints 30, as 'y' is now a global variable"
   ]
  },
  {
   "cell_type": "markdown",
   "id": "9aa1f864-94e3-43e6-8329-ec34086278fa",
   "metadata": {},
   "source": [
    "________________________________"
   ]
  },
  {
   "cell_type": "markdown",
   "id": "d94adc56-50e0-4c8e-a989-ec39d780dec9",
   "metadata": {},
   "source": [
    "## Python Recursion\n",
    "\n",
    "Recursion is the process of defining something in terms of itself. In Python, we know that a function can call other functions. It is even possible for the function to call itself. These types of construct are termed as recursive functions.\n",
    "Recursion is a programming technique in which a function calls itself to solve a problem. In Python, as in many other programming languages, you can write recursive functions to solve problems that exhibit repetitive or self-referential patterns. Recursive functions consist of two parts: a base case and a recursive case.\n",
    "\n",
    "Here's how recursion works in Python:</br>\n",
    "\n",
    "1. Base Case: The base case is the simplest scenario for which the function's result is known without any further recursive calls. It is used to terminate the recursion and prevent infinite function calls. Without a base case, the recursion would continue indefinitely, leading to a \"stack overflow\" error.\n",
    "</br>\n",
    "2. Recursive Case: In the recursive case, the function calls itself with a modified version of the problem. The recursive call should bring the problem closer to the base case, so that eventually, the base case is reached.\n",
    "\n",
    "Here's an example of a simple recursive function in Python to calculate the factorial of a number:\n"
   ]
  },
  {
   "cell_type": "code",
   "execution_count": 83,
   "id": "1a43cdbb-2f20-43c3-a2b1-249c863a906b",
   "metadata": {},
   "outputs": [
    {
     "name": "stdout",
     "output_type": "stream",
     "text": [
      "120\n"
     ]
    }
   ],
   "source": [
    "def factorial(n):\n",
    "    # Base case: factorial of 0 or 1 is 1\n",
    "    if n == 0 or n == 1:\n",
    "        return 1\n",
    "    # Recursive case: n! = n * (n-1)!\n",
    "    else:\n",
    "        return n * factorial(n - 1)\n",
    "\n",
    "result = factorial(5)  # Result: 120 (5! = 5 * 4 * 3 * 2 * 1)\n",
    "\n",
    "print(result)"
   ]
  },
  {
   "cell_type": "markdown",
   "id": "3ead8119-8987-40d1-ac8c-6c1129b6b78e",
   "metadata": {},
   "source": [
    "_______________________________________________"
   ]
  }
 ],
 "metadata": {
  "kernelspec": {
   "display_name": "Python 3 (ipykernel)",
   "language": "python",
   "name": "python3"
  },
  "language_info": {
   "codemirror_mode": {
    "name": "ipython",
    "version": 3
   },
   "file_extension": ".py",
   "mimetype": "text/x-python",
   "name": "python",
   "nbconvert_exporter": "python",
   "pygments_lexer": "ipython3",
   "version": "3.11.5"
  }
 },
 "nbformat": 4,
 "nbformat_minor": 5
}
