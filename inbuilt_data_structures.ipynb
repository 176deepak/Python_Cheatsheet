{
 "cells": [
  {
   "cell_type": "markdown",
   "id": "763deb2e-053d-4bff-a87a-e5817ba20fb4",
   "metadata": {},
   "source": [
    "# INBUILT DATA STRUCTURE\n",
    "\n",
    "Python provides several built-in data structures that are used to store and manipulate data efficiently. These data structures are an essential part of Python programming and can be used to solve a wide range of problems. Here are some of the most commonly used built-in data structures in Python:\n",
    "1. String\n",
    "2. List\n",
    "3. Tuple\n",
    "4. Dictionary\n",
    "5. Sets"
   ]
  },
  {
   "cell_type": "markdown",
   "id": "990baf93-5486-445b-96e5-18bd2f9350ce",
   "metadata": {},
   "source": [
    "_________________________________________________"
   ]
  },
  {
   "cell_type": "markdown",
   "id": "e5183a8e-a8f6-48de-afe8-6e2abb618039",
   "metadata": {},
   "source": [
    "## 1. Strings\n",
    "\n",
    "Strings are sequences of characters and are used to represent text data. Python provides a wide range of string manipulation methods and operations.\n",
    "We can define strings using single quotes and double quotes or even triple quotes. Strings is immutable in python, means we can not modify string after it's creation."
   ]
  },
  {
   "cell_type": "code",
   "execution_count": 20,
   "id": "20b9f613-8735-4d35-91a1-02b1582f24df",
   "metadata": {},
   "outputs": [
    {
     "name": "stdout",
     "output_type": "stream",
     "text": [
      "Hello! My name is Deepak Saini.\n",
      "<class 'str'>\n"
     ]
    }
   ],
   "source": [
    "# string using single quotes\n",
    "\n",
    "my_str = 'Hello! My name is Deepak Saini.'\n",
    "print(my_str)\n",
    "print(type(my_str))"
   ]
  },
  {
   "cell_type": "code",
   "execution_count": 21,
   "id": "e9b5858e-4ccd-482f-ac76-cf48d6c57e0c",
   "metadata": {},
   "outputs": [
    {
     "name": "stdout",
     "output_type": "stream",
     "text": [
      "Hello! I am 21 years old.\n",
      "<class 'str'>\n"
     ]
    }
   ],
   "source": [
    "# string using double quotes\n",
    "\n",
    "my_str = \"Hello! I am 21 years old.\"\n",
    "print(my_str)\n",
    "print(type(my_str))"
   ]
  },
  {
   "cell_type": "code",
   "execution_count": 22,
   "id": "869a4afd-a747-4f2c-9fae-2420778482b9",
   "metadata": {},
   "outputs": [
    {
     "name": "stdout",
     "output_type": "stream",
     "text": [
      "<class 'str'>\n",
      "Hello! My name is Deepak Saini.\n",
      "I am 21 years old.\n",
      "Will you be my GirlFriend.\n",
      "\n"
     ]
    }
   ],
   "source": [
    "# string using triple quotes\n",
    "\n",
    "my_str = '''Hello! My name is Deepak Saini.\n",
    "I am 21 years old.\n",
    "Will you be my GirlFriend.\n",
    "'''\n",
    "print(type(my_str))\n",
    "print(my_str)"
   ]
  },
  {
   "cell_type": "code",
   "execution_count": 12,
   "id": "7ec0e0ae-2bdf-4e84-a9c1-50ace3188972",
   "metadata": {},
   "outputs": [
    {
     "name": "stdout",
     "output_type": "stream",
     "text": [
      "o\n",
      "k\n"
     ]
    }
   ],
   "source": [
    "# accessing string characters\n",
    "# string supports indexing, we can access strings characters using indexing. Indexing starts from 0.\n",
    "\n",
    "my_str = \"Hello everyone! My name is Deepak\"                               # positive indexing\n",
    "print(my_str[4])\n",
    "\n",
    "print(my_str[-1])                                                          # negative indexing"
   ]
  },
  {
   "cell_type": "code",
   "execution_count": 18,
   "id": "9382dd8e-3bc7-4095-806a-5d5112d30210",
   "metadata": {},
   "outputs": [
    {
     "name": "stdout",
     "output_type": "stream",
     "text": [
      "o ever\n",
      "Hloeeyn!M aei epk\n",
      "kapeeD si\n"
     ]
    }
   ],
   "source": [
    "# we can also access multiple string characters in a single time using slicing method\n",
    "\n",
    "my_str = \"Hello everyone! My name is Deepak\"\n",
    "print(my_str[4:10])                                                        # positive slicing, jump value is not neccessary in positive indexing\n",
    "print(my_str[0::2])\n",
    "\n",
    "print(my_str[-1:-10:-1])            # -1 is jump value    # negative slicing: we need a jump value along with slicing values in negative indexing"
   ]
  },
  {
   "cell_type": "code",
   "execution_count": 25,
   "id": "3108301f-b991-463b-852d-51cba926d006",
   "metadata": {},
   "outputs": [
    {
     "ename": "TypeError",
     "evalue": "'str' object does not support item assignment",
     "output_type": "error",
     "traceback": [
      "\u001b[1;31m---------------------------------------------------------------------------\u001b[0m",
      "\u001b[1;31mTypeError\u001b[0m                                 Traceback (most recent call last)",
      "Cell \u001b[1;32mIn[25], line 5\u001b[0m\n\u001b[0;32m      1\u001b[0m \u001b[38;5;66;03m# strings are immutable\u001b[39;00m\n\u001b[0;32m      3\u001b[0m my_str \u001b[38;5;241m=\u001b[39m \u001b[38;5;124m\"\u001b[39m\u001b[38;5;124mHello everyone! My name is Deepak\u001b[39m\u001b[38;5;124m\"\u001b[39m\n\u001b[1;32m----> 5\u001b[0m \u001b[43mmy_str\u001b[49m\u001b[43m[\u001b[49m\u001b[38;5;241;43m4\u001b[39;49m\u001b[43m]\u001b[49m \u001b[38;5;241m=\u001b[39m \u001b[38;5;124m\"\u001b[39m\u001b[38;5;124mHI\u001b[39m\u001b[38;5;124m\"\u001b[39m                         \u001b[38;5;66;03m# gives us error \"TypeError: 'str' object does not support item assignment\"\u001b[39;00m\n\u001b[0;32m      6\u001b[0m \u001b[38;5;28mprint\u001b[39m(my_str)\n",
      "\u001b[1;31mTypeError\u001b[0m: 'str' object does not support item assignment"
     ]
    }
   ],
   "source": [
    "# strings are immutable\n",
    "\n",
    "my_str = \"Hello everyone! My name is Deepak\"\n",
    "\n",
    "my_str[4] = \"HI\"                         # gives us error \"TypeError: 'str' object does not support item assignment\"\n",
    "print(my_str)"
   ]
  },
  {
   "cell_type": "code",
   "execution_count": 6,
   "id": "956778f9-5c87-42c6-ad4d-93a3283b3b0a",
   "metadata": {},
   "outputs": [
    {
     "name": "stdout",
     "output_type": "stream",
     "text": [
      "Hello Universe\n"
     ]
    }
   ],
   "source": [
    "# string concatenation: adding multiple strings\n",
    "\n",
    "str1 = \"Hello\"\n",
    "str2 = \"Universe\"\n",
    "\n",
    "str3 = str1 + \" \" + str2\n",
    "print(str3)"
   ]
  },
  {
   "cell_type": "code",
   "execution_count": 26,
   "id": "766281ba-04b9-4719-9d15-211c5b85af53",
   "metadata": {},
   "outputs": [
    {
     "name": "stdout",
     "output_type": "stream",
     "text": [
      "length of string:  33\n"
     ]
    }
   ],
   "source": [
    "# string length\n",
    "\n",
    "my_str = \"Hello everyone! My name is Deepak\"\n",
    "print(\"length of string: \", len(my_str))"
   ]
  },
  {
   "cell_type": "code",
   "execution_count": 27,
   "id": "c2d006cf-df4c-4880-9e0a-195723fd727e",
   "metadata": {},
   "outputs": [
    {
     "name": "stdout",
     "output_type": "stream",
     "text": [
      "True\n",
      "False\n"
     ]
    }
   ],
   "source": [
    "# strings comparision\n",
    "\n",
    "str1 = \"Hello\"\n",
    "str2 = \"Hello\"\n",
    "print(str1 == str2)\n",
    "\n",
    "str3 = \"Python\"\n",
    "print(str1 == str3)"
   ]
  },
  {
   "cell_type": "code",
   "execution_count": 28,
   "id": "82132c16-d687-46b8-9da9-125ecac53f7f",
   "metadata": {},
   "outputs": [
    {
     "name": "stdout",
     "output_type": "stream",
     "text": [
      "H|e|l|l|o| |u|n|i|v|e|r|s|e|"
     ]
    }
   ],
   "source": [
    "# iteration over a string using a loop\n",
    "\n",
    "my_str = \"Hello universe\"\n",
    "\n",
    "for i in my_str:\n",
    "    print(i, end='|')"
   ]
  },
  {
   "cell_type": "code",
   "execution_count": 30,
   "id": "588f3f44-201d-44e3-a053-e75ed8a60ceb",
   "metadata": {},
   "outputs": [
    {
     "name": "stdout",
     "output_type": "stream",
     "text": [
      "True\n",
      "True\n"
     ]
    }
   ],
   "source": [
    "# membership in string\n",
    "\n",
    "my_str = \"Hello Riya\"\n",
    "res1 = \"R\" in my_str\n",
    "print(res1)\n",
    "\n",
    "res2 = \"D\" not in my_str\n",
    "print(res2)"
   ]
  },
  {
   "cell_type": "code",
   "execution_count": 31,
   "id": "0479bdb7-6773-4ec2-b4b2-d4f2897d9fd9",
   "metadata": {},
   "outputs": [
    {
     "name": "stdout",
     "output_type": "stream",
     "text": [
      "True\n"
     ]
    }
   ],
   "source": [
    "# identity in strings \n",
    "\n",
    "my_str1 = 'Hello'\n",
    "my_str2 = 'Hello'\n",
    "\n",
    "print(my_str1 is my_str2)"
   ]
  },
  {
   "cell_type": "markdown",
   "id": "ff8db2fa-0fe7-4f41-9fc3-58ec0f77c8f0",
   "metadata": {},
   "source": [
    "The code gives you True because both my_str1 and my_str2 refer to the same string object in memory. When you create a string in Python, it is added to a pool of all strings that have been created in the program. If you create another string with the same value, the interpreter will check the pool to see if there is already a string with that value. If there is, it will reuse the existing string object instead of creating a new one.\r\n",
    "\r\n",
    "This is called string interning, and it is an optimization that Python uses to save memory. It is also why the is operator returns True when you compare two strings that have the same value."
   ]
  },
  {
   "cell_type": "markdown",
   "id": "44b4ef6f-1dce-4998-a95c-369b847363f5",
   "metadata": {},
   "source": [
    "#### String Methods:\n",
    "There are many string methods. Some of them are:\n",
    "\n",
    "\n",
    "<table>\n",
    "    <tr>\n",
    "        <th>Methods</th>\n",
    "        <th>Description</th>\n",
    "    </tr>\n",
    "    <tr>\n",
    "        <td>upper()</td>\n",
    "        <td>converts the string to uppercase</td>\n",
    "    </tr>\n",
    "    <tr>\n",
    "        <td>lower()</td>\n",
    "        <td>converts the string to lowercase</td>\n",
    "    </tr>\n",
    "    <tr>\n",
    "        <td>partition()</td>\n",
    "        <td>returns a tuple</td>\n",
    "    </tr>\n",
    "    <tr>\n",
    "        <td>replace()</td>\n",
    "        <td>replaces substring inside</td>\n",
    "    </tr>\n",
    "    <tr>\n",
    "        <td>find()</td>\n",
    "        <td>returns the index of first occurrence of substring</td>\n",
    "    </tr>\n",
    "    <tr>\n",
    "        <td>rstrip()</td>\n",
    "        <td>removes trailing characters</td>\n",
    "    </tr>\n",
    "    <tr>\n",
    "        <td>split()</td>\n",
    "        <td>splits string from left</td>\n",
    "    </tr>\n",
    "    <tr>\n",
    "        <td>startswith()</td>\n",
    "        <td>checks if string starts with the specified string</td>\n",
    "    </tr>\n",
    "    <tr>\n",
    "        <td>isnumeric()</td>\n",
    "        <td>checks numeric characters</td>\n",
    "    </tr>\n",
    "    <tr>\n",
    "        <td>index()</td>\n",
    "        <td>returns index of substring</td>\n",
    "    </tr>\n",
    "</table>\n",
    "\n",
    "\t\n",
    "\t\n",
    "\t\n",
    "\t\n",
    "\t\n",
    "\t\n",
    "\t\n",
    "\t\n",
    "\t\n",
    "\t\n",
    "\t"
   ]
  },
  {
   "cell_type": "code",
   "execution_count": 33,
   "id": "68e7e2c6-c92a-408b-801f-c033aa4c40a9",
   "metadata": {},
   "outputs": [
    {
     "name": "stdout",
     "output_type": "stream",
     "text": [
      "example_str\n"
     ]
    }
   ],
   "source": [
    "# strings lower() method\n",
    "\n",
    "my_str = \"Example_Str\"\n",
    "\n",
    "print(my_str.lower())"
   ]
  },
  {
   "cell_type": "code",
   "execution_count": 34,
   "id": "b6956518-324e-4f2a-b8f8-638a694f298c",
   "metadata": {},
   "outputs": [
    {
     "name": "stdout",
     "output_type": "stream",
     "text": [
      "EXAMPLE_STR\n"
     ]
    }
   ],
   "source": [
    "# upper() method\n",
    "\n",
    "my_str = \"example_str\"\n",
    "\n",
    "print(my_str.upper())"
   ]
  },
  {
   "cell_type": "code",
   "execution_count": 35,
   "id": "042317ed-74ba-4cb7-9c1e-347e8f35d561",
   "metadata": {},
   "outputs": [
    {
     "name": "stdout",
     "output_type": "stream",
     "text": [
      "['example', 'str']\n"
     ]
    }
   ],
   "source": [
    "# split() method\n",
    "\n",
    "my_str = \"example_str\"\n",
    "\n",
    "print(my_str.split(\"_\"))"
   ]
  },
  {
   "cell_type": "code",
   "execution_count": 38,
   "id": "987206c1-ec28-457a-b9b0-8041f973081e",
   "metadata": {},
   "outputs": [
    {
     "name": "stdout",
     "output_type": "stream",
     "text": [
      "False\n",
      "True\n"
     ]
    }
   ],
   "source": [
    "# startswith() method\n",
    "\n",
    "my_str = 'example_str'\n",
    "print(my_str.startswith(\"ed\"))\n",
    "\n",
    "print(my_str.startswith(\"ex\"))"
   ]
  },
  {
   "cell_type": "code",
   "execution_count": 40,
   "id": "d475428f-0802-49c0-97f0-30ccbafb66b4",
   "metadata": {},
   "outputs": [
    {
     "name": "stdout",
     "output_type": "stream",
     "text": [
      "False\n",
      "True\n"
     ]
    }
   ],
   "source": [
    "# isnumeric()\n",
    "\n",
    "my_str = 'example_str'\n",
    "numeric_str = '124'\n",
    "\n",
    "print(my_str.isnumeric())\n",
    "\n",
    "print(numeric_str.isnumeric())"
   ]
  },
  {
   "cell_type": "code",
   "execution_count": 42,
   "id": "a4ea1a5d-01c8-4cf1-9937-a66a51025a67",
   "metadata": {},
   "outputs": [
    {
     "name": "stdout",
     "output_type": "stream",
     "text": [
      "7\n"
     ]
    }
   ],
   "source": [
    "# index() \n",
    "\n",
    "my_str = \"example_str\"\n",
    "print(my_str.index(\"_\"))"
   ]
  },
  {
   "cell_type": "code",
   "execution_count": 43,
   "id": "6ee45b02-0a1f-428b-9494-fa5579c4fbcc",
   "metadata": {},
   "outputs": [
    {
     "name": "stdout",
     "output_type": "stream",
     "text": [
      "example-str\n"
     ]
    }
   ],
   "source": [
    "# replace \n",
    "\n",
    "my_str = \"example_str\"\n",
    "print(my_str.replace(\"_\", \"-\"))"
   ]
  },
  {
   "cell_type": "code",
   "execution_count": 47,
   "id": "2140ee2c-9eea-4382-b214-ecac7349f4ea",
   "metadata": {},
   "outputs": [
    {
     "name": "stdout",
     "output_type": "stream",
     "text": [
      "('example', '_', 'str')\n"
     ]
    }
   ],
   "source": [
    "# partition()\n",
    "\n",
    "my_str = \"example_str\"\n",
    "print(my_str.partition(\"_\"))"
   ]
  },
  {
   "cell_type": "code",
   "execution_count": 48,
   "id": "2b72e19b-57bc-4d4c-a2a5-ebdeedd4a66b",
   "metadata": {},
   "outputs": [
    {
     "name": "stdout",
     "output_type": "stream",
     "text": [
      "1\n"
     ]
    }
   ],
   "source": [
    "# find()\n",
    "\n",
    "my_str = \"occurence\"\n",
    "print(my_str.find(\"c\"))"
   ]
  },
  {
   "cell_type": "code",
   "execution_count": 51,
   "id": "9fc684df-c3f1-47f4-b890-3f23bef2abdf",
   "metadata": {},
   "outputs": [
    {
     "name": "stdout",
     "output_type": "stream",
     "text": [
      "example_\n"
     ]
    }
   ],
   "source": [
    "# rstrip()\n",
    "\n",
    "my_str = \"example_str/str\"\n",
    "print(my_str.rstrip(\"/str\"))"
   ]
  },
  {
   "cell_type": "markdown",
   "id": "258ef54b-a987-47de-8750-e65784a4ab9b",
   "metadata": {},
   "source": [
    "#### string formating\n",
    "\n",
    "In python we can format strings by two ways. \n",
    "1. using .format()\n",
    "2. using f string"
   ]
  },
  {
   "cell_type": "code",
   "execution_count": 52,
   "id": "0092921a-b14d-46a4-8cd6-a091c667e075",
   "metadata": {},
   "outputs": [
    {
     "name": "stdin",
     "output_type": "stream",
     "text": [
      "Enter your name:  Deepak\n",
      "Enter your age:  21\n"
     ]
    },
    {
     "name": "stdout",
     "output_type": "stream",
     "text": [
      "Your name is Deepak and you are 21 years old.\n"
     ]
    }
   ],
   "source": [
    "# using .format() method\n",
    "\n",
    "name = input(\"Enter your name: \")\n",
    "age = int(input(\"Enter your age: \"))\n",
    "\n",
    "print(\"Your name is {0} and you are {1} years old.\".format(name, age))"
   ]
  },
  {
   "cell_type": "code",
   "execution_count": 53,
   "id": "d17515d8-2358-4f4c-aa27-df12f1cfe661",
   "metadata": {},
   "outputs": [
    {
     "name": "stdin",
     "output_type": "stream",
     "text": [
      "Enter your name:  Deepak\n",
      "Enter your age:  21\n"
     ]
    },
    {
     "name": "stdout",
     "output_type": "stream",
     "text": [
      "Your name is Deepak and you are 21 years old.\n"
     ]
    }
   ],
   "source": [
    "# using f string\n",
    "name = input(\"Enter your name: \")\n",
    "age = int(input(\"Enter your age: \"))\n",
    "\n",
    "print(f\"Your name is {name} and you are {age} years old.\")"
   ]
  },
  {
   "cell_type": "markdown",
   "id": "f3f58c00-3b4e-4791-8146-4ac0e1ddd0a8",
   "metadata": {},
   "source": [
    "#### Escape Sequences\n",
    "\n",
    "The escape sequence is used to escape some of the characters present inside a string. There are many escape sequences in python. Some of them are:-\n",
    "\n",
    "<table>\n",
    "    <tr>\n",
    "        <th>Escape Sequence</th>\n",
    "        <th>Description</th>\n",
    "    </tr>\n",
    "    <tr>\n",
    "        <td>\\\\</td>\n",
    "        <td>Backslash</td>\n",
    "    </tr>\n",
    "    <tr>\n",
    "        <td>\\'</td>\n",
    "        <td>Single quote</td>\n",
    "    </tr>\n",
    "    <tr>\n",
    "        <td>\\\"</td>\n",
    "        <td>Double quote</td>\n",
    "    </tr>\n",
    "    <tr>\n",
    "        <td>\\a</td>\n",
    "        <td>ASCII Bell</td>\n",
    "    </tr>\n",
    "    <tr>\n",
    "        <td>\\b</td>\n",
    "        <td>ASCII Backspace</td>\n",
    "    </tr>\n",
    "    <tr>\n",
    "        <td>\\f</td>\n",
    "        <td>ASCII Formfeed</td>\n",
    "    </tr>\n",
    "    <tr>\n",
    "        <td>\\n</td>\n",
    "        <td>ASCII Linefeed</td>\n",
    "    </tr>\n",
    "    <tr>\n",
    "        <td>\\r</td>\n",
    "        <td>ASCII Carriage Return</td>\n",
    "    </tr>\n",
    "    <tr>\n",
    "        <td>\\t</td>\n",
    "        <td>ASCII Horizontal Tab</td>\n",
    "    </tr>\n",
    "    <tr>\n",
    "        <td>\\v</td>\n",
    "        <td>ASCII Vertical Tab</td>\n",
    "    </tr>\n",
    "    <tr>\n",
    "        <td>\\ooo</td>\n",
    "        <td>Character with octal value ooo</td>\n",
    "    </tr>\n",
    "    <tr>\n",
    "        <td>\\xHH</td>\n",
    "        <td>Character with hexadecimal value HH</td>\n",
    "    </tr>\n",
    "</table>"
   ]
  },
  {
   "cell_type": "code",
   "execution_count": 54,
   "id": "370e4661-0002-43ce-9794-1bde350b35a2",
   "metadata": {},
   "outputs": [
    {
     "name": "stdout",
     "output_type": "stream",
     "text": [
      "He said, \"What's there?\"\n"
     ]
    }
   ],
   "source": [
    "# escape double quotes\n",
    "example = \"He said, \\\"What's there?\\\"\"\n",
    "\n",
    "# escape single quotes\n",
    "example = 'He said, \"What\\'s there?\"'\n",
    "\n",
    "print(example)\n",
    "\n",
    "# Output: He said, \"What's there?\""
   ]
  },
  {
   "cell_type": "markdown",
   "id": "173e7963-e1a2-4b90-9f9d-19c3c039b164",
   "metadata": {},
   "source": [
    "**************************"
   ]
  },
  {
   "cell_type": "markdown",
   "id": "6671f1b3-353f-4eea-80c1-a841d36ac966",
   "metadata": {},
   "source": [
    "## 2. List\n",
    "\n",
    "In Python, a list is a versatile and widely used data structure that represents an ordered collection of items. Lists are mutable, which means you can change their contents (add, remove, or modify elements) after creation. Lists are defined by enclosing a comma-separated sequence of values within square brackets [ ].  A list can contains multiple data types elements and can store duplicate elements. Here are the key characteristics and operations related to lists in Python:"
   ]
  },
  {
   "cell_type": "code",
   "execution_count": 56,
   "id": "5fa8a4ae-ebbc-4d9b-a96f-0156e69e3dfe",
   "metadata": {},
   "outputs": [
    {
     "name": "stdout",
     "output_type": "stream",
     "text": [
      "[1, 3.5, 'str', True, (2+3j)]\n",
      "<class 'list'>\n"
     ]
    }
   ],
   "source": [
    "# List creation\n",
    "\n",
    "my_list = [1, 3.5, 'str', True, 2+3j]\n",
    "print(my_list)\n",
    "print(type(my_list))"
   ]
  },
  {
   "cell_type": "code",
   "execution_count": 58,
   "id": "a3aeef61-1fc8-4c9e-a015-863b34eef0f1",
   "metadata": {},
   "outputs": [
    {
     "name": "stdout",
     "output_type": "stream",
     "text": [
      "str\n",
      "(2+3j)\n",
      "True\n",
      "3.5\n"
     ]
    }
   ],
   "source": [
    "# list indexing\n",
    "\n",
    "print(my_list[2])                         # +ve indexing\n",
    "print(my_list[4])\n",
    "\n",
    "print(my_list[-2])                        # -ve indexing\n",
    "print(my_list[-4])"
   ]
  },
  {
   "cell_type": "code",
   "execution_count": 59,
   "id": "511e94ab-c371-4050-a5f2-881755021667",
   "metadata": {},
   "outputs": [
    {
     "name": "stdout",
     "output_type": "stream",
     "text": [
      "[3.5, 'str', True]\n",
      "[(2+3j), True, 'str']\n"
     ]
    }
   ],
   "source": [
    "# list slicing\n",
    "\n",
    "print(my_list[1:4])                        # slicing using +ve indexing\n",
    "print(my_list[-1:-4:-1])                    # slicing using -ve indexing"
   ]
  },
  {
   "cell_type": "code",
   "execution_count": 60,
   "id": "be8885d5-0926-4398-890d-8caf718cdbd5",
   "metadata": {},
   "outputs": [
    {
     "name": "stdout",
     "output_type": "stream",
     "text": [
      "5\n"
     ]
    }
   ],
   "source": [
    "# length of list\n",
    "\n",
    "print(len(my_list))"
   ]
  },
  {
   "cell_type": "code",
   "execution_count": 61,
   "id": "29dc5dc7-3981-41d3-8252-c8457a40e527",
   "metadata": {},
   "outputs": [
    {
     "name": "stdout",
     "output_type": "stream",
     "text": [
      "[1, 3.5, 'str', True, (2+3j), 1, 2, 3, 4, 5]\n"
     ]
    }
   ],
   "source": [
    "# list concatenation\n",
    "\n",
    "my_list2 = [1, 2, 3, 4, 5]\n",
    "my_list = my_list + my_list2\n",
    "\n",
    "print(my_list)"
   ]
  },
  {
   "cell_type": "code",
   "execution_count": 62,
   "id": "b8b19811-ad82-42ed-9987-8daabde73643",
   "metadata": {},
   "outputs": [
    {
     "name": "stdout",
     "output_type": "stream",
     "text": [
      "[1, 3.5, 'str', True, (2+3j), 1, 2, 3, 4, 5]\n",
      "[1, 100, 'str', True, (2+3j), 1, 2, 3, 4, 5]\n"
     ]
    }
   ],
   "source": [
    "# modification of list \n",
    "print(my_list)\n",
    "\n",
    "my_list[1] = 100\n",
    "print(my_list)"
   ]
  },
  {
   "cell_type": "markdown",
   "id": "9470742c-6cd1-4354-a3a2-d7918d15ec6c",
   "metadata": {},
   "source": [
    "#### list methods\n",
    "\n",
    "Python has many useful list methods that makes it really easy to work with lists.\n",
    "\n",
    "<table>\n",
    "    <tr>\n",
    "        <th>Method</th>\n",
    "        <th>Description</th>\n",
    "    </tr>\n",
    "    <tr>\n",
    "        <td>append()</td>\n",
    "        <td>add an item to the end of the list</td>\n",
    "    </tr>\n",
    "    <tr>\n",
    "        <td>extend()</td>\n",
    "        <td>add all the items of an iterable to the end of the list</td>\n",
    "    </tr>\n",
    "    <tr>\n",
    "        <td>insert()</td>\n",
    "        <td>inserts an item at the specified index</td>\n",
    "    </tr>\n",
    "    <tr>\n",
    "        <td>remove()</td>\n",
    "        <td>removes item present at the given index</td>\n",
    "    </tr>\n",
    "    <tr>\n",
    "        <td>pop()</td>\n",
    "        <td>returns and removes item present at the given index</td>\n",
    "    </tr>\n",
    "    <tr>\n",
    "        <td>clear()</td>\n",
    "        <td>removes all items from the list</td>\n",
    "    </tr>\n",
    "    <tr>\n",
    "        <td>index()</td>\n",
    "        <td>returns the index of the first matched item</td>\n",
    "    </tr>\n",
    "    <tr>\n",
    "        <td>count()</td>\n",
    "        <td>returns the count of the specified item in the list</td>\n",
    "    </tr>\n",
    "    <tr>\n",
    "        <td>sort()</td>\n",
    "        <td>sort the list in ascending/descending order</td>\n",
    "    </tr>\n",
    "    <tr>\n",
    "        <td>reverse()</td>\n",
    "        <td>reverses the item of the list</td>\n",
    "    </tr>\n",
    "    <tr>\n",
    "        <td>copy()</td>\n",
    "        <td>returns the shallow copy of the list</td>\n",
    "    </tr>\n",
    "</table>"
   ]
  },
  {
   "cell_type": "code",
   "execution_count": 63,
   "id": "c2528c77-0b34-4d6f-8678-c3c3d01b39ab",
   "metadata": {},
   "outputs": [
    {
     "name": "stdout",
     "output_type": "stream",
     "text": [
      "[1, 100, 'str', True, (2+3j), 1, 2, 3, 4, 5, 500]\n"
     ]
    }
   ],
   "source": [
    "# append()\n",
    "\n",
    "my_list.append(500)\n",
    "print(my_list)"
   ]
  },
  {
   "cell_type": "code",
   "execution_count": 64,
   "id": "a91696fa-bb26-47ab-badb-d68ca28ed023",
   "metadata": {},
   "outputs": [
    {
     "name": "stdout",
     "output_type": "stream",
     "text": [
      "[1, 100, 'str', True, (2+3j), 1, 2, 3, 4, 5, 500, 1000, 2000, 3000]\n"
     ]
    }
   ],
   "source": [
    "# extend\n",
    "\n",
    "my_tuple = (1000, 2000, 3000)\n",
    "my_list.extend(my_tuple)\n",
    "print(my_list)"
   ]
  },
  {
   "cell_type": "code",
   "execution_count": 66,
   "id": "02f68e4f-e5a7-4983-b99a-3fc3aaa1df15",
   "metadata": {},
   "outputs": [
    {
     "name": "stdout",
     "output_type": "stream",
     "text": [
      "[1, 100, 'str', True, (2+3j), 5000, 1, 2, 3, 4, 5, 500, 1000, 2000, 3000]\n"
     ]
    }
   ],
   "source": [
    "# insert()\n",
    "\n",
    "my_list.insert(5, 5000)\n",
    "print(my_list)"
   ]
  },
  {
   "cell_type": "code",
   "execution_count": 70,
   "id": "374824cb-5e10-4cc0-a4a3-113e9c94c796",
   "metadata": {},
   "outputs": [
    {
     "name": "stdout",
     "output_type": "stream",
     "text": [
      "[1, 100, 'str', True, (2+3j), 1, 3, 4, 5, 500, 1000, 2000, 3000]\n"
     ]
    }
   ],
   "source": [
    "# remove()\n",
    "\n",
    "my_list.remove(5000)\n",
    "print(my_list)"
   ]
  },
  {
   "cell_type": "code",
   "execution_count": 71,
   "id": "1d442143-6479-4454-a913-e372b869f20e",
   "metadata": {},
   "outputs": [
    {
     "name": "stdout",
     "output_type": "stream",
     "text": [
      "(2+3j)\n",
      "[1, 100, 'str', True, 1, 3, 4, 5, 500, 1000, 2000, 3000]\n"
     ]
    }
   ],
   "source": [
    "# pop()\n",
    "\n",
    "poped_item = my_list.pop(4)\n",
    "print(poped_item)\n",
    "print(my_list)"
   ]
  },
  {
   "cell_type": "code",
   "execution_count": 72,
   "id": "9d74e448-9fa4-4225-9bc1-a701c177aac6",
   "metadata": {},
   "outputs": [
    {
     "name": "stdout",
     "output_type": "stream",
     "text": [
      "7\n"
     ]
    }
   ],
   "source": [
    "# index()\n",
    "\n",
    "item_index = my_list.index(5)\n",
    "print(item_index)"
   ]
  },
  {
   "cell_type": "code",
   "execution_count": 75,
   "id": "19812f5d-c65f-4b60-86da-6b43f0c8f55e",
   "metadata": {},
   "outputs": [
    {
     "name": "stdout",
     "output_type": "stream",
     "text": [
      "3\n"
     ]
    }
   ],
   "source": [
    "#count()\n",
    "\n",
    "item_count = my_list.count(1)\n",
    "print(item_count)"
   ]
  },
  {
   "cell_type": "code",
   "execution_count": 80,
   "id": "91d92d40-f6fc-428b-9812-2ce254460041",
   "metadata": {},
   "outputs": [
    {
     "name": "stdout",
     "output_type": "stream",
     "text": [
      "[1, 3, 4, 5, 500, 1000, 2000, 3000]\n"
     ]
    }
   ],
   "source": [
    "# sort()\n",
    "\n",
    "my_list2 = [ 1, 3, 1000, 2000, 3000, 4, 5, 500]\n",
    "\n",
    "my_list2.sort()\n",
    "print(my_list2)"
   ]
  },
  {
   "cell_type": "code",
   "execution_count": 83,
   "id": "c74d3376-0d55-47d1-97e5-95db2fa90e0b",
   "metadata": {},
   "outputs": [
    {
     "name": "stdout",
     "output_type": "stream",
     "text": [
      "[3000, 2000, 1000, 500, 5, 4, 3, 1, True, 'str', 100, 1]\n"
     ]
    }
   ],
   "source": [
    "# reverse()\n",
    "\n",
    "my_list.reverse()\n",
    "\n",
    "print(my_list)"
   ]
  },
  {
   "cell_type": "code",
   "execution_count": 85,
   "id": "0d1ffd1a-3af6-47ff-a988-23b57788c863",
   "metadata": {},
   "outputs": [],
   "source": [
    "# clear()\n",
    "\n",
    "my_list.clear()\n",
    "my_list2.clear()"
   ]
  },
  {
   "cell_type": "code",
   "execution_count": 86,
   "id": "6e44687a-0880-443d-861f-dda0ceac26f4",
   "metadata": {},
   "outputs": [
    {
     "name": "stdout",
     "output_type": "stream",
     "text": [
      "apple\n",
      "banana\n",
      "orange\n",
      "litchi\n"
     ]
    }
   ],
   "source": [
    "# Iterating through a List\n",
    "\n",
    "fruits = ['apple', 'banana', 'orange', 'litchi']\n",
    "\n",
    "for fruit in fruits:\n",
    "    print(fruit)"
   ]
  },
  {
   "cell_type": "code",
   "execution_count": 87,
   "id": "bca3e714-d4ba-4fcc-9e24-5328c8434c09",
   "metadata": {},
   "outputs": [
    {
     "name": "stdout",
     "output_type": "stream",
     "text": [
      "False\n"
     ]
    }
   ],
   "source": [
    "# Check if an Element Exists in a List\n",
    "\n",
    "print('grapes' in fruits)"
   ]
  },
  {
   "cell_type": "markdown",
   "id": "cfb94f4a-a8c4-4828-b10b-338d3962b4ee",
   "metadata": {},
   "source": [
    "***********************************"
   ]
  },
  {
   "cell_type": "markdown",
   "id": "c9c6fcbc-36e7-49b0-b5d0-16fbcb5d07ed",
   "metadata": {},
   "source": [
    "## 3. Tuples\n",
    "\n",
    "A tuple is a data structure that is very similar to a list, but with one crucial difference: tuples are immutable, meaning their elements cannot be modified, added, or removed after creation. Tuples are typically used to store collections of related data that should remain constant throughout the program's execution."
   ]
  },
  {
   "cell_type": "markdown",
   "id": "1d417c52-217b-4c66-bcb4-b392a7433824",
   "metadata": {},
   "source": [
    "#### Tuple Creation\n",
    "\n",
    "You can create tuples in Python by enclosing a comma-separated sequence of values within parentheses (). It's common to use parentheses to define tuples, but they are optional, and a comma-separated sequence alone is also treated as a tuple. A tuple can have any number of items and they may be of different types (integer, float, list, string, etc.)."
   ]
  },
  {
   "cell_type": "code",
   "execution_count": 88,
   "id": "cbcfaa5c-3c81-4b83-aa7c-5e92b6b98cdb",
   "metadata": {},
   "outputs": [],
   "source": [
    "my_tuple = (1, 2, 3)\n",
    "another_tuple = 4, 5, 6  # Parentheses are optional"
   ]
  },
  {
   "cell_type": "code",
   "execution_count": 89,
   "id": "706e8866-9652-4248-bbec-3ab665e47b44",
   "metadata": {},
   "outputs": [
    {
     "name": "stdout",
     "output_type": "stream",
     "text": [
      "<class 'tuple'>\n",
      "<class 'tuple'>\n"
     ]
    }
   ],
   "source": [
    "print(type(my_tuple))\n",
    "print(type(another_tuple))"
   ]
  },
  {
   "cell_type": "code",
   "execution_count": 90,
   "id": "52cdbf9f-8136-4856-b0a1-f4c71733e154",
   "metadata": {},
   "outputs": [
    {
     "name": "stdout",
     "output_type": "stream",
     "text": [
      "p\n",
      "a\n",
      "r\n"
     ]
    }
   ],
   "source": [
    "# indexing \n",
    "\n",
    "letters = (\"p\", \"r\", \"o\", \"g\", \"r\", \"a\", \"m\", \"i\", \"z\")\n",
    "\n",
    "print(letters[0])   # prints \"p\"                       +ve indexing\n",
    "print(letters[5])   # prints \"a\"  \n",
    "\n",
    "print(letters[-5])                                     # +ve indexing"
   ]
  },
  {
   "cell_type": "code",
   "execution_count": 92,
   "id": "ea91214a-5b6d-438c-af41-23a1dc1b6846",
   "metadata": {},
   "outputs": [
    {
     "name": "stdout",
     "output_type": "stream",
     "text": [
      "('p', 'r', 'o', 'g', 'r')\n",
      "('z', 'i', 'm', 'a')\n"
     ]
    }
   ],
   "source": [
    "# slicing \n",
    "\n",
    "print(letters[0:5])\n",
    "print(letters[-1:-5:-1])                                    "
   ]
  },
  {
   "cell_type": "code",
   "execution_count": 93,
   "id": "3f698fbf-05ab-4548-b4d2-9548d2575f77",
   "metadata": {},
   "outputs": [
    {
     "ename": "TypeError",
     "evalue": "'tuple' object does not support item assignment",
     "output_type": "error",
     "traceback": [
      "\u001b[1;31m---------------------------------------------------------------------------\u001b[0m",
      "\u001b[1;31mTypeError\u001b[0m                                 Traceback (most recent call last)",
      "Cell \u001b[1;32mIn[93], line 3\u001b[0m\n\u001b[0;32m      1\u001b[0m \u001b[38;5;66;03m# trying to modifying typle\u001b[39;00m\n\u001b[1;32m----> 3\u001b[0m \u001b[43mletters\u001b[49m\u001b[43m[\u001b[49m\u001b[38;5;241;43m5\u001b[39;49m\u001b[43m]\u001b[49m \u001b[38;5;241m=\u001b[39m \u001b[38;5;124m\"\u001b[39m\u001b[38;5;124m500\u001b[39m\u001b[38;5;124m\"\u001b[39m\n\u001b[0;32m      4\u001b[0m \u001b[38;5;28mprint\u001b[39m(letters)\n",
      "\u001b[1;31mTypeError\u001b[0m: 'tuple' object does not support item assignment"
     ]
    }
   ],
   "source": [
    "# trying to modifying typle\n",
    "\n",
    "letters[5] = \"500\"\n",
    "print(letters)"
   ]
  },
  {
   "cell_type": "code",
   "execution_count": 94,
   "id": "e50a6f7a-33c1-425f-9a7a-d8b923e1657e",
   "metadata": {},
   "outputs": [
    {
     "name": "stdout",
     "output_type": "stream",
     "text": [
      "5 10\n"
     ]
    }
   ],
   "source": [
    "# Tuple Unpacking\n",
    "\n",
    "x, y = (5, 10)\n",
    "print(x, y)"
   ]
  },
  {
   "cell_type": "code",
   "execution_count": 95,
   "id": "291d9663-143f-4b71-8ebc-8b0702a8d24a",
   "metadata": {},
   "outputs": [
    {
     "name": "stdout",
     "output_type": "stream",
     "text": [
      "('p', 'r', 'o', 'g', 'r', 'a', 'm', 'i', 'z', 'Hello', 'Hi', 'Namaste')\n"
     ]
    }
   ],
   "source": [
    "# Tuple Concatenation\n",
    "\n",
    "words = ('Hello', 'Hi', 'Namaste')\n",
    "\n",
    "my_tuple = letters + words\n",
    "print(my_tuple)"
   ]
  },
  {
   "cell_type": "code",
   "execution_count": 96,
   "id": "990123e0-431e-4fef-a79f-866cd3524307",
   "metadata": {},
   "outputs": [
    {
     "name": "stdout",
     "output_type": "stream",
     "text": [
      "p\n",
      "r\n",
      "o\n",
      "g\n",
      "r\n",
      "a\n",
      "m\n",
      "i\n",
      "z\n",
      "Hello\n",
      "Hi\n",
      "Namaste\n"
     ]
    }
   ],
   "source": [
    "#Iterating through a Tuple\n",
    "\n",
    "for i in my_tuple:\n",
    "    print(i)"
   ]
  },
  {
   "cell_type": "markdown",
   "id": "6ce0392d-42e1-4d87-bc0d-70afda6d1c56",
   "metadata": {},
   "source": [
    "#### Python Tuple Methods\r\n",
    "In Python ,methods that add items or remove items are not available with tuple. Only the following two methods are available."
   ]
  },
  {
   "cell_type": "code",
   "execution_count": 97,
   "id": "bed66403-068d-4740-8c4a-ef658d1d5bd2",
   "metadata": {},
   "outputs": [
    {
     "name": "stdout",
     "output_type": "stream",
     "text": [
      "2\n",
      "3\n"
     ]
    }
   ],
   "source": [
    "my_tuple = ('a', 'p', 'p', 'l', 'e',)\n",
    "\n",
    "print(my_tuple.count('p'))  # prints 2\n",
    "print(my_tuple.index('l'))  # prints 3"
   ]
  },
  {
   "cell_type": "markdown",
   "id": "fed03419-dc8f-40f4-a947-867bfa792469",
   "metadata": {},
   "source": [
    "*************************"
   ]
  },
  {
   "cell_type": "markdown",
   "id": "ebc17402-3d15-481c-8d69-4ee01831a584",
   "metadata": {},
   "source": [
    "## Set\n",
    "\n",
    "In Python, a set is a built-in data structure used to store an unordered collection of unique elements. Sets are similar to lists and tuples, but they have the following key characteristics:\n",
    "\n",
    "1. Uniqueness: Sets can only contain unique elements. If you try to add a duplicate element to a set, it will not be included in the set.\n",
    "2. Order: Sets do not guarantee any specific order for their elements. Elements are stored in an unordered manner, and their order may not be preserved when iterating through the set.\n",
    "3. Mutability: Sets are mutable, meaning you can add or remove elements from a set after it is created.\n",
    "\n",
    "\n",
    "Sets are defined by enclosing a comma-separated sequence of values within curly braces {} or by using the set() constructor."
   ]
  },
  {
   "cell_type": "code",
   "execution_count": 98,
   "id": "d5da18b9-3efc-48e3-b81f-8fc167e3751c",
   "metadata": {},
   "outputs": [
    {
     "name": "stdout",
     "output_type": "stream",
     "text": [
      "{1, 2, 3, 4}\n",
      "<class 'set'>\n",
      "{3, 4, 5, 6}\n",
      "<class 'set'>\n"
     ]
    }
   ],
   "source": [
    "# creation of set\n",
    "\n",
    "my_set = {1, 2, 3, 4, 3}\n",
    "another_set = set([3, 4, 5, 6])\n",
    "\n",
    "print(my_set)\n",
    "print(type(my_set))\n",
    "print(another_set)\n",
    "print(type(another_set))"
   ]
  },
  {
   "cell_type": "code",
   "execution_count": 100,
   "id": "2ebe8d3a-b25c-48d7-a1b9-9d068a9eebf5",
   "metadata": {},
   "outputs": [],
   "source": [
    "# set not support indexing"
   ]
  },
  {
   "cell_type": "code",
   "execution_count": 101,
   "id": "b59b1e3d-848a-478f-84c9-d701de2bef84",
   "metadata": {},
   "outputs": [
    {
     "name": "stdout",
     "output_type": "stream",
     "text": [
      "Peach\n",
      "Apple\n",
      "Mango\n"
     ]
    }
   ],
   "source": [
    "# Iterate Over a Set\n",
    "\n",
    "fruits = {\"Apple\", \"Peach\", \"Mango\"}\n",
    "\n",
    "# for loop to access each fruits\n",
    "for fruit in fruits: \n",
    "    print(fruit)"
   ]
  },
  {
   "cell_type": "code",
   "execution_count": 102,
   "id": "4678c935-4b00-499b-a560-63946671448a",
   "metadata": {},
   "outputs": [
    {
     "name": "stdout",
     "output_type": "stream",
     "text": [
      "Initial Set: {34, 12, 21, 54}\n",
      "Updated Set: {32, 34, 12, 21, 54}\n",
      "{'google', 'apple', 'Lacoste', 'Ralph Lauren'}\n"
     ]
    }
   ],
   "source": [
    "# Add and Update Set Items \n",
    "\n",
    "numbers = {21, 34, 54, 12}\n",
    "\n",
    "print('Initial Set:',numbers)\n",
    "\n",
    "# using add() method\n",
    "numbers.add(32)\n",
    "\n",
    "print('Updated Set:', numbers) \n",
    "\n",
    "companies = {'Lacoste', 'Ralph Lauren'}\n",
    "tech_companies = ['apple', 'google', 'apple']\n",
    "\n",
    "companies.update(tech_companies)\n",
    "\n",
    "print(companies)\n",
    "\n",
    "# Output: {'google', 'apple', 'Lacoste', 'Ralph Lauren'}"
   ]
  },
  {
   "cell_type": "code",
   "execution_count": 103,
   "id": "a962a7ab-1960-4f16-adab-08fefd7d0691",
   "metadata": {},
   "outputs": [
    {
     "name": "stdout",
     "output_type": "stream",
     "text": [
      "Initial Set: {'Swift', 'Java', 'Python'}\n",
      "Set after remove(): {'Swift', 'Python'}\n"
     ]
    }
   ],
   "source": [
    "# remove()\n",
    "\n",
    "languages = {'Swift', 'Java', 'Python'}\n",
    "\n",
    "print('Initial Set:',languages)\n",
    "\n",
    "# remove 'Java' from a set\n",
    "removedValue = languages.discard('Java')\n",
    "\n",
    "print('Set after remove():', languages)"
   ]
  },
  {
   "cell_type": "markdown",
   "id": "2692de16-0412-4ec7-b0d5-202815bcb44a",
   "metadata": {
    "jp-MarkdownHeadingCollapsed": true
   },
   "source": [
    "#### Built-in Functions with Set\n",
    "\n",
    "\n",
    "<table>\n",
    "    <tr>\n",
    "        <th>Function</th>\n",
    "        <th>Description</th>\n",
    "    </tr>\n",
    "    <tr>\n",
    "        <td>all()</td>\n",
    "        <td>Returns True if all elements of the set are true (or if the set is empty).</td>\n",
    "    </tr>\n",
    "    <tr>\n",
    "        <td>any()</td>\n",
    "        <td>Returns True if any element of the set is true. If the set is empty, returns False</td>\n",
    "    </tr>\n",
    "    <tr>\n",
    "        <td>enumerate()</td>\n",
    "        <td>Returns an enumerate object. It contains the index and value for all the items of the set as a pair.</td>\n",
    "    </tr>\n",
    "    <tr>\n",
    "        <td>len()</td>\n",
    "        <td>Returns the length (the number of items) in the set.</td>\n",
    "    </tr>\n",
    "    <tr>\n",
    "        <td>max()</td>\n",
    "        <td>Returns the largest item in the set.</td>\n",
    "    </tr>\n",
    "    <tr>\n",
    "        <td>min()</td>\n",
    "        <td>Returns the smallest item in the set.</td>\n",
    "    </tr>\n",
    "    <tr>\n",
    "        <td>sorted()</td>\n",
    "        <td>Returns a new sorted list from elements in the set(does not sort the set itself). </td>\n",
    "    </tr>\n",
    "    <tr>\n",
    "        <td>sum()</td>\n",
    "        <td>Returns the sum of all elements in the set.</td>\n",
    "    </tr>\n",
    "</table>"
   ]
  },
  {
   "cell_type": "markdown",
   "id": "ba837a92-5568-434a-a5fe-87f15bcc7db2",
   "metadata": {},
   "source": [
    "#### Set Methods\n",
    "There are many set methods. Here is a list of all the methods that are available with the set objects:\n",
    "\n",
    "<table>\n",
    "    <tr>\n",
    "        <th>Method</th>\n",
    "        <th>Description</th>\n",
    "    </tr>\n",
    "    <tr>\n",
    "        <td>add()</td>\n",
    "        <td>Adds an element to the set</td>\n",
    "    </tr>\n",
    "    <tr>\n",
    "        <td>clear()</td>\n",
    "        <td>Removes all elements from the set</td>\n",
    "    </tr>\n",
    "    <tr>\n",
    "        <td>difference()</td>\n",
    "        <td>Returns the difference of two or more sets as a new set</td>\n",
    "    </tr>\n",
    "    <tr>\n",
    "        <td>difference_update()</td>\n",
    "        <td>Removes all elements of another set from this set</td>\n",
    "    </tr>\n",
    "    <tr>\n",
    "        <td>discard()</td>\n",
    "        <td>Removes an element from the set if it is a member. (Do nothing if the element is not in set)</td>\n",
    "    </tr>\n",
    "    <tr>\n",
    "        <td>intersection()</td>\n",
    "        <td>Returns the intersection of two sets as a new set</td>\n",
    "    </tr>\n",
    "    <tr>\n",
    "        <td>intersection_update()</td>\n",
    "        <td>Updates the set with the intersection of itself and another</td>\n",
    "    </tr>\n",
    "    <tr>\n",
    "        <td>isdisjoint()</td>\n",
    "        <td>Returns True if two sets have a null intersection</td>\n",
    "    </tr>\n",
    "    <tr>\n",
    "        <td>issubset()</td>\n",
    "        <td>Returns True if another set contains this set</td>\n",
    "    </tr>\n",
    "    <tr>\n",
    "        <td>issubset()</td>\n",
    "        <td>Returns True if another set contains this set</td>\n",
    "    </tr>\n",
    "    <tr>\n",
    "        <td>issuperset()</td>\n",
    "        <td>Returns True if this set contains another set</td>\n",
    "    </tr>\n",
    "    <tr>\n",
    "        <td>pop()</td>\n",
    "        <td>Removes and returns an arbitrary set element. Raises KeyError if the set is empty</td>\n",
    "    </tr>\n",
    "    <tr>\n",
    "        <td>remove()</td>\n",
    "        <td>Removes an element from the set. If the element is not a member, raises a KeyError</td>\n",
    "    </tr>\n",
    "    <tr>\n",
    "        <td>symmetric_difference()</td>\n",
    "        <td>Returns the symmetric difference of two sets as a new set</td>\n",
    "    </tr>\n",
    "    <tr>\n",
    "        <td>symmetric_difference_update()</td>\n",
    "        <td>Updates a set with the symmetric difference of itself and another</td>\n",
    "    </tr>\n",
    "    <tr>\n",
    "        <td>union()</td>\n",
    "        <td>Returns the union of sets in a new set</td>\n",
    "    </tr>\n",
    "    <tr>\n",
    "        <td>update()</td>\n",
    "        <td>Updates the set with the union of itself and others</td>\n",
    "    </tr>\n",
    "</table>"
   ]
  },
  {
   "cell_type": "markdown",
   "id": "21920f85-6835-42ba-ad4c-66b50a225beb",
   "metadata": {},
   "source": [
    "****************************"
   ]
  },
  {
   "cell_type": "markdown",
   "id": "a7445d4d-dca0-4710-a49f-4b26a52dc726",
   "metadata": {},
   "source": [
    "## Dictionary\n",
    "A dictionary is a built-in data structure used to store a collection of key-value pairs. Dictionaries are sometimes also known as associative arrays, maps, or hash maps in other programming languages. Dictionaries are characterized by the following key features:\n",
    "\n",
    "1. Key-Value Mapping: Each element in a dictionary is a pair of a key and its associated value. Keys are unique within a dictionary, and they are used to look up and retrieve values.\n",
    "\n",
    "2. Unordered: Dictionaries do not guarantee any specific order for their key-value pairs. However, starting from Python 3.7 and later, dictionaries maintain the order of insertion of items, making them ordered by default.\n",
    "\n",
    "3. Mutable: Dictionaries are mutable, meaning you can change their contents after creation. You can add, modify, or remove key-value pairs as needed.\n",
    "\n",
    "4. Key Immunity: Keys must be immutable data types. Common examples of valid keys are strings, numbers, and tuples (if they contain only immutable elements). Lists and dictionaries cannot be used as keys because they are mutable.\n",
    "\n",
    "\n",
    "Dictionaries are defined by enclosing a comma-separated sequence of key-value pairs within curly braces {} or by using the dict() constructor."
   ]
  },
  {
   "cell_type": "code",
   "execution_count": 104,
   "id": "686ce685-a8a7-407e-8665-e39a5e3ef8ec",
   "metadata": {},
   "outputs": [
    {
     "name": "stdout",
     "output_type": "stream",
     "text": [
      "{'name': 'Alice', 'age': 30, 'city': 'New York'}\n"
     ]
    }
   ],
   "source": [
    "# Dictionary creation\n",
    "\n",
    "my_dict = {'name': 'Alice', 'age': 30, 'city': 'New York'}\n",
    "another_dict = dict(name='Bob', age=25, city='Los Angeles')\n",
    "\n",
    "print(my_dict)"
   ]
  },
  {
   "cell_type": "code",
   "execution_count": 105,
   "id": "2d6caa68-1eef-4846-8ca1-44ca1f3ba50b",
   "metadata": {},
   "outputs": [
    {
     "name": "stdout",
     "output_type": "stream",
     "text": [
      "3\n"
     ]
    }
   ],
   "source": [
    "# length of dictionary\n",
    "\n",
    "print(len(another_dict))"
   ]
  },
  {
   "cell_type": "code",
   "execution_count": 107,
   "id": "50ae0807-73ce-4ae5-a802-a78f77616504",
   "metadata": {},
   "outputs": [
    {
     "data": {
      "text/plain": [
       "('Alice', 30)"
      ]
     },
     "execution_count": 107,
     "metadata": {},
     "output_type": "execute_result"
    }
   ],
   "source": [
    "# we can access the values in a dictionary by specifying the key within square brackets.\n",
    "\n",
    "my_dict = {'name': 'Alice', 'age': 30, 'city': 'New York'}\n",
    "name = my_dict['name']  \n",
    "age = my_dict['age']    \n",
    "\n",
    "name, age"
   ]
  },
  {
   "cell_type": "code",
   "execution_count": 108,
   "id": "48db2c1a-9dd6-41f7-8085-0fd85bfce381",
   "metadata": {},
   "outputs": [
    {
     "data": {
      "text/plain": [
       "('Alice', 'Unknown')"
      ]
     },
     "execution_count": 108,
     "metadata": {},
     "output_type": "execute_result"
    }
   ],
   "source": [
    "# we can also use the get() method to access values, which allows you to specify a default value if the key doesn't exist.\n",
    "\n",
    "name = my_dict.get('name', 'Unknown')  # Result: 'Alice'\n",
    "country = my_dict.get('country', 'Unknown')  # Result: 'Unknown' (key not found)\n",
    "\n",
    "name, country"
   ]
  },
  {
   "cell_type": "code",
   "execution_count": 109,
   "id": "de6153f4-abe4-49ee-8291-8847986e6686",
   "metadata": {},
   "outputs": [
    {
     "name": "stdout",
     "output_type": "stream",
     "text": [
      "{'name': 'Alice', 'age': 30, 'city': 'New York'}\n",
      "{'name': 'Alice', 'age': 31, 'city': 'New York', 'email': 'alice@example.com'}\n"
     ]
    }
   ],
   "source": [
    "# Adding \n",
    "\n",
    "print(my_dict)\n",
    "my_dict['email'] = 'alice@example.com'  # Adding a new key-value pair\n",
    "my_dict['age'] = 31                     # Modifying the value for an existing key\n",
    "\n",
    "print(my_dict)"
   ]
  },
  {
   "cell_type": "code",
   "execution_count": 110,
   "id": "6b4a912b-6e90-46c7-ae6a-58cb53b7e15a",
   "metadata": {},
   "outputs": [],
   "source": [
    "# we can remove key-value pairs from a dictionary using the del statement or the pop() method.\n",
    "\n",
    "del my_dict['city']  # Removes the 'city' key and its value\n",
    "email = my_dict.pop('email', 'No email')  # Removes 'email' key and returns its value"
   ]
  },
  {
   "cell_type": "code",
   "execution_count": 112,
   "id": "49405a8d-9688-45f1-b996-4fb2b6e4e16b",
   "metadata": {},
   "outputs": [
    {
     "name": "stdout",
     "output_type": "stream",
     "text": [
      "{'name': 'Alice', 'age': 31}\n"
     ]
    }
   ],
   "source": [
    "print(my_dict)"
   ]
  },
  {
   "cell_type": "code",
   "execution_count": 113,
   "id": "5143423d-e78d-466a-8b10-e9f03c3a7cc0",
   "metadata": {},
   "outputs": [
    {
     "name": "stdout",
     "output_type": "stream",
     "text": [
      "name\n",
      "age\n",
      "city\n",
      "Alice\n",
      "30\n",
      "New York\n",
      "name Alice\n",
      "age 30\n",
      "city New York\n"
     ]
    }
   ],
   "source": [
    "# Dictionary Iteration\n",
    "\n",
    "my_dict = {'name': 'Alice', 'age': 30, 'city': 'New York'}\n",
    "for key in my_dict:\n",
    "    print(key)  # Iterating over keys\n",
    "\n",
    "for value in my_dict.values():\n",
    "    print(value)  # Iterating over values\n",
    "\n",
    "for key, value in my_dict.items():\n",
    "    print(key, value)  # Iterating over key-value pairs"
   ]
  },
  {
   "cell_type": "code",
   "execution_count": 114,
   "id": "e584acab-6331-43fb-a767-9b7b7a3f4e21",
   "metadata": {},
   "outputs": [
    {
     "name": "stdout",
     "output_type": "stream",
     "text": [
      "Name is in the dictionary\n"
     ]
    }
   ],
   "source": [
    "# Membership Testing\n",
    "\n",
    "if 'name' in my_dict:\n",
    "    print('Name is in the dictionary')"
   ]
  },
  {
   "cell_type": "markdown",
   "id": "fed83f3d-7f7a-4d10-afcf-ad31e0350166",
   "metadata": {},
   "source": [
    "#### Dictionary Methods\n",
    "Here are some of the commonly used dictionary methods.\n",
    "\n",
    "<table>\n",
    "    <tr>\n",
    "        <th>Function</th>\n",
    "        <th>Description</th>\n",
    "    </tr>\n",
    "    <tr>\n",
    "        <td>pop()</td>\n",
    "        <td>Remove the item with the specified key.</td>\n",
    "    </tr>\n",
    "    <tr>\n",
    "        <td>update()</td>\n",
    "        <td>Add or change dictionary items.</td>\n",
    "    </tr>\n",
    "    <tr>\n",
    "        <td>clear</td>\n",
    "        <td>Remove all the items from the dictionary.</td>\n",
    "    </tr>\n",
    "    <tr>\n",
    "        <th>keys()</th>\n",
    "        <th>Returns all the dictionary's keys.</th>\n",
    "    </tr>\n",
    "    <tr>\n",
    "        <th>values()</th>\n",
    "        <th>Returns all the dictionary's values.</th>\n",
    "    </tr>\n",
    "    <tr>\n",
    "        <th>get()</th>\n",
    "        <th>Returns the value of the specified key.</th>\n",
    "    </tr>\n",
    "    <tr>\n",
    "        <th>popitem()</th>\n",
    "        <th>Returns the last inserted key and value as a tuple.</th>\n",
    "    </tr>\n",
    "    <tr>\n",
    "        <th>copy()</th>\n",
    "        <th>Returns a copy of the dictionary.</th>\n",
    "    </tr>\n",
    "\n",
    "</table>"
   ]
  },
  {
   "cell_type": "code",
   "execution_count": null,
   "id": "5e23b4bc-db3d-45b5-8ebb-920ca40430cd",
   "metadata": {},
   "outputs": [],
   "source": []
  }
 ],
 "metadata": {
  "kernelspec": {
   "display_name": "Python 3 (ipykernel)",
   "language": "python",
   "name": "python3"
  },
  "language_info": {
   "codemirror_mode": {
    "name": "ipython",
    "version": 3
   },
   "file_extension": ".py",
   "mimetype": "text/x-python",
   "name": "python",
   "nbconvert_exporter": "python",
   "pygments_lexer": "ipython3",
   "version": "3.11.5"
  }
 },
 "nbformat": 4,
 "nbformat_minor": 5
}
