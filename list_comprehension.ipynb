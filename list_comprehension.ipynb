{
 "cells": [
  {
   "cell_type": "markdown",
   "id": "5f4d21c4-3e61-4216-9397-e355746596ee",
   "metadata": {},
   "source": [
    "# LIST COMPREHENSION"
   ]
  },
  {
   "cell_type": "markdown",
   "id": "5dc163e8-04a3-4da3-9bb4-a88e4fa166c1",
   "metadata": {},
   "source": [
    "List comprehension is a concise and expressive way to create lists in Python. It allows you to generate a new list by applying an expression to each item in an existing iterable (e.g., a list, tuple, or range) and optionally filtering the items based on a condition. List comprehensions are both readable and efficient, making code more concise and Pythonic.\n",
    "\n",
    "List Comprehension syntex:\n",
    "```python\n",
    "new_list = [expression for item in iterable if condition]\r",
    "```\n"
   ]
  },
  {
   "cell_type": "code",
   "execution_count": 1,
   "id": "011d08fe-307a-438b-9639-ef4cc6ef6094",
   "metadata": {},
   "outputs": [
    {
     "name": "stdout",
     "output_type": "stream",
     "text": [
      "[1, 4, 9, 16, 25]\n"
     ]
    }
   ],
   "source": [
    "#Creating a List of Squares\n",
    "\n",
    "numbers = [1, 2, 3, 4, 5]\n",
    "squares = [x**2 for x in numbers]\n",
    "print(squares)"
   ]
  },
  {
   "cell_type": "code",
   "execution_count": 3,
   "id": "30e1db3d-6a91-48b6-8cab-9830e5220f7e",
   "metadata": {},
   "outputs": [
    {
     "name": "stdout",
     "output_type": "stream",
     "text": [
      "[1, 3, 5]\n"
     ]
    }
   ],
   "source": [
    "# Filtering with a Condition\n",
    "\n",
    "numbers = [1, 2, 3, 4, 5]\n",
    "odd_numbers = [num for num in numbers if num%2 != 0]\n",
    "print(odd_numbers)"
   ]
  },
  {
   "cell_type": "code",
   "execution_count": 4,
   "id": "95acee46-9b42-42f4-9692-69989aba3bc9",
   "metadata": {},
   "outputs": [
    {
     "name": "stdout",
     "output_type": "stream",
     "text": [
      "[('Alice', 5), ('Bob', 3), ('Charlie', 7)]\n"
     ]
    }
   ],
   "source": [
    "#Creating a List of Tuples\n",
    "\n",
    "names = [\"Alice\", \"Bob\", \"Charlie\"]\n",
    "name_length = [(name, len(name)) for name in names]\n",
    "print(name_length)"
   ]
  },
  {
   "cell_type": "markdown",
   "id": "ab5f79ec-c699-4bbb-9710-618f70db92e6",
   "metadata": {},
   "source": [
    "## Nested List Comprehensions\n",
    "\n",
    "We can also apply Nested List Comprehensions"
   ]
  },
  {
   "cell_type": "code",
   "execution_count": 6,
   "id": "9dca6324-3db7-475d-897b-e18c3b11c9b4",
   "metadata": {},
   "outputs": [
    {
     "name": "stdout",
     "output_type": "stream",
     "text": [
      "[1, 2, 3, 4, 5, 6, 7, 8, 9]\n"
     ]
    }
   ],
   "source": [
    "matrix = [[1, 2, 3], [4, 5, 6], [7, 8, 9]] \n",
    "elements = [j for i in matrix for j in i]\n",
    "print(elements)"
   ]
  },
  {
   "cell_type": "code",
   "execution_count": null,
   "id": "b6faa89b-23a3-498e-af9e-1a71cba422fb",
   "metadata": {},
   "outputs": [],
   "source": []
  }
 ],
 "metadata": {
  "kernelspec": {
   "display_name": "Python 3 (ipykernel)",
   "language": "python",
   "name": "python3"
  },
  "language_info": {
   "codemirror_mode": {
    "name": "ipython",
    "version": 3
   },
   "file_extension": ".py",
   "mimetype": "text/x-python",
   "name": "python",
   "nbconvert_exporter": "python",
   "pygments_lexer": "ipython3",
   "version": "3.11.5"
  }
 },
 "nbformat": 4,
 "nbformat_minor": 5
}
