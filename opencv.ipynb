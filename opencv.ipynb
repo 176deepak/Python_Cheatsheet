{
 "cells": [
  {
   "cell_type": "markdown",
   "id": "8d8134ab-08b8-4fc0-a8fe-20f5b5778d87",
   "metadata": {},
   "source": [
    "# OPENCV-PYTHON"
   ]
  },
  {
   "cell_type": "code",
   "execution_count": null,
   "id": "5b4a7ee8-bd76-4287-a068-6d6515adc94d",
   "metadata": {},
   "outputs": [],
   "source": []
  }
 ],
 "metadata": {
  "kernelspec": {
   "display_name": "Python 3 (ipykernel)",
   "language": "python",
   "name": "python3"
  },
  "language_info": {
   "codemirror_mode": {
    "name": "ipython",
    "version": 3
   },
   "file_extension": ".py",
   "mimetype": "text/x-python",
   "name": "python",
   "nbconvert_exporter": "python",
   "pygments_lexer": "ipython3",
   "version": "3.11.5"
  }
 },
 "nbformat": 4,
 "nbformat_minor": 5
}
