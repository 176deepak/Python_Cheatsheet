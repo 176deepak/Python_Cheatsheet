{
 "cells": [
  {
   "cell_type": "markdown",
   "id": "f51c1acc-326b-416a-a8af-c6a86161f802",
   "metadata": {},
   "source": [
    "# Directories Handling\n",
    "\n",
    "`Directory`: A directory is a collection of files and subdirectories. A directory inside a directory is known as a subdirectory.\n",
    "\n",
    "Handling directories in Python involves creating, accessing, listing, moving, and managing directories (folders) on your computer's filesystem. Python provides a built-in module called `os` (and its companion module os.path) that allows you to work with directories and perform file operations."
   ]
  },
  {
   "cell_type": "code",
   "execution_count": 1,
   "id": "85e34c11-b595-45ac-8393-ec59b818b221",
   "metadata": {},
   "outputs": [],
   "source": [
    "import os"
   ]
  },
  {
   "cell_type": "code",
   "execution_count": 22,
   "id": "e2a45691-8661-4bd5-920a-656a9d36d50a",
   "metadata": {},
   "outputs": [
    {
     "name": "stdout",
     "output_type": "stream",
     "text": [
      "E:\\Practice\\Python\n"
     ]
    }
   ],
   "source": [
    "# get current directory\n",
    "\n",
    "cwd = os.getcwd()\n",
    "print(cwd)"
   ]
  },
  {
   "cell_type": "code",
   "execution_count": 24,
   "id": "62022ae0-993a-464a-be00-49809794f8cd",
   "metadata": {},
   "outputs": [
    {
     "name": "stdout",
     "output_type": "stream",
     "text": [
      "parent_dir\\child_dir\\file.txt\n",
      "E:\\Practice\\Python\\test_directory\n"
     ]
    }
   ],
   "source": [
    "#Working with Paths\n",
    "\n",
    "# Construct a valid path\n",
    "path = os.path.join('parent_dir', 'child_dir', 'file.txt')\n",
    "print(path)\n",
    "\n",
    "# Get the absolute path\n",
    "abs_path = os.path.abspath('test_directory')\n",
    "print(abs_path)"
   ]
  },
  {
   "cell_type": "code",
   "execution_count": 3,
   "id": "222e22bf-d2dc-4210-b285-f55733b70720",
   "metadata": {},
   "outputs": [
    {
     "name": "stdout",
     "output_type": "stream",
     "text": [
      "E:\\Practice\\Python\n",
      "E:\\\n"
     ]
    }
   ],
   "source": [
    "# changing directory (back to one directory)\n",
    "\n",
    "print(os.getcwd())\n",
    "\n",
    "os.chdir('/')\n",
    "print(os.getcwd())"
   ]
  },
  {
   "cell_type": "code",
   "execution_count": 8,
   "id": "fb3b0019-d697-45a0-894d-43da2526b9fc",
   "metadata": {},
   "outputs": [
    {
     "name": "stdout",
     "output_type": "stream",
     "text": [
      "['.git', '.ipynb_checkpoints', 'file_handling.ipynb', 'flow_controls.ipynb', 'functions.ipynb', 'inbuilt_data_structures.ipynb', 'OOPs.ipynb', 'os.ipynb', 'python_basics.ipynb', 'test.txt', 'test2.txt']\n"
     ]
    }
   ],
   "source": [
    "#Listing Contents of a Directory\n",
    "\n",
    "contents = os.listdir(os.getcwd())\n",
    "print(contents)"
   ]
  },
  {
   "cell_type": "code",
   "execution_count": 7,
   "id": "6be13ffc-ea02-426e-8643-68a23955d703",
   "metadata": {},
   "outputs": [
    {
     "data": {
      "text/plain": [
       "'E:\\\\Practice\\\\Python'"
      ]
     },
     "execution_count": 7,
     "metadata": {},
     "output_type": "execute_result"
    }
   ],
   "source": [
    "#Removing Directories\n",
    "\n",
    "os.rmdir('path/to/directory')"
   ]
  },
  {
   "cell_type": "code",
   "execution_count": 9,
   "id": "6736e64f-bda6-4abe-8531-957db39329ff",
   "metadata": {},
   "outputs": [
    {
     "name": "stdout",
     "output_type": "stream",
     "text": [
      "Directory exists.\n"
     ]
    }
   ],
   "source": [
    "#Checking if a Directory or file Exists\n",
    "\n",
    "if os.path.exists('test.txt'):\n",
    "    print('Directory exists.')\n",
    "else:\n",
    "    print('Directory does not exist.')"
   ]
  },
  {
   "cell_type": "code",
   "execution_count": 13,
   "id": "3fd000e4-9438-4837-b4dc-9aec94da13f3",
   "metadata": {},
   "outputs": [],
   "source": [
    "# creating a new directory\n",
    "os.mkdir('test_directory0')\n",
    "os.makedirs('test_directory1', exist_ok = True)"
   ]
  },
  {
   "cell_type": "code",
   "execution_count": 16,
   "id": "147e827a-fa5d-4213-bc65-4c9ebc08a4ad",
   "metadata": {},
   "outputs": [],
   "source": [
    "# Rename a directory\n",
    "\n",
    "os.rename('test_directory0', 'test_directory2')"
   ]
  },
  {
   "cell_type": "code",
   "execution_count": 21,
   "id": "6fb27bc5-75a4-4df9-bf19-3d887ef65823",
   "metadata": {},
   "outputs": [],
   "source": [
    "#Removing Directory or File\n",
    "\n",
    "os.remove(\"test.txt\")\n",
    "\n",
    "# delete the empty directory \"mydir\"\n",
    "os.rmdir(\"test_directory\") "
   ]
  },
  {
   "cell_type": "code",
   "execution_count": 25,
   "id": "7e98df59-539a-4a88-968f-6d8e625dd82e",
   "metadata": {},
   "outputs": [],
   "source": [
    "import shutil"
   ]
  },
  {
   "cell_type": "code",
   "execution_count": 26,
   "id": "0195e884-2825-4ce6-9c55-26a60835a93f",
   "metadata": {},
   "outputs": [],
   "source": [
    "# delete \"mydir\" directory and all of its contents\n",
    "shutil.rmtree(\"test_directory2\")"
   ]
  },
  {
   "cell_type": "code",
   "execution_count": null,
   "id": "886f49fc-f594-42b3-ac07-4b6d24aefe23",
   "metadata": {},
   "outputs": [],
   "source": []
  }
 ],
 "metadata": {
  "kernelspec": {
   "display_name": "Python 3 (ipykernel)",
   "language": "python",
   "name": "python3"
  },
  "language_info": {
   "codemirror_mode": {
    "name": "ipython",
    "version": 3
   },
   "file_extension": ".py",
   "mimetype": "text/x-python",
   "name": "python",
   "nbconvert_exporter": "python",
   "pygments_lexer": "ipython3",
   "version": "3.11.5"
  }
 },
 "nbformat": 4,
 "nbformat_minor": 5
}
