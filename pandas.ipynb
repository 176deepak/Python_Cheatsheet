{
 "cells": [
  {
   "cell_type": "markdown",
   "id": "891d1991-f304-4889-99b4-1e7c1a5b031e",
   "metadata": {},
   "source": [
    "# PANDAS"
   ]
  },
  {
   "cell_type": "markdown",
   "id": "43e3e861-36f8-4398-909c-cf9e3f4c045b",
   "metadata": {},
   "source": [
    "Pandas is a popular open-source Python library used for data manipulation and analysis. The name \"Pandas\" has a reference to both \"Panel Data\", and \"Python Data Analysis\" and was created by Wes McKinney in 2008. It provides easy-to-use data structures and functions for working with structured data, such as tabular data, time series data, and more. Pandas is widely used in data science, data analysis, and data preprocessing tasks and is an essential tool in the data science ecosystem.\r\n",
    "\r\n",
    "Key features and components of Pandas include:\r\n",
    "\r\n",
    "1. **Data Structures**:\r\n",
    "   - **DataFrame**: A two-dimensional, labeled data structure similar to a spreadsheet or SQL table. It consists of rows and columns and is the primary data structure used in Pandas. Each column can have a different data type.\r\n",
    "   - **Series**: A one-dimensional labeled array that can hold data of any type. Series objects are the building blocks of DataFrames.\r\n",
    "\r\n",
    "2. **Data Import and Export**:\r\n",
    "   - Pandas can read data from various file formats, including CSV, Excel, SQL databases, JSON, and more.\r\n",
    "   - It can write data back to these formats as well, making it easy to exchange data with external systems.\r\n",
    "\r\n",
    "3. **Data Cleaning and Transformation**:\r\n",
    "   - Pandas provides numerous functions for data cleaning and transformation, including handling missing data, removing duplicates, reshaping data, and more.\r\n",
    "   - It supports data alignment and merging, similar to SQL joins.\r\n",
    "\r\n",
    "4. **Data Indexing and Selection**:\r\n",
    "   - You can use labels or integer-based indexing to select and filter data within DataFrames and Series.\r\n",
    "   - Boolean indexing allows for complex data selection based on conditions.\r\n",
    "\r\n",
    "5. **Grouping and Aggregation**:\r\n",
    "   - Pandas supports grouping data by one or more columns and applying various aggregation functions like sum, mean, count, and custom functions.\r\n",
    "   - Grouping is often used for data summarization and analysis.\r\n",
    "\r\n",
    "6. **Time Series Analysis**:\r\n",
    "   - Pandas has extensive support for time series data, including date and time indexing, resampling, and rolling calculations.\r\n",
    "   - It is widely used for financial and temporal data analysis.\r\n",
    "\r\n",
    "7. **Data Visualization Integration**:\r\n",
    "   - Pandas can integrate with popular data visualization libraries like Matplotlib and Seaborn for creating visualizations directly from DataFrames and Series.\r\n",
    "\r\n",
    "8. **Interoperability**:\r\n",
    "   - Pandas can be used in conjunction with other libraries in the Python data ecosystem, such as NumPy, SciPy, and scikit-learn, to perform comprehens['Age'].mean())  # Calculate the mean age\r\n",
    "```\r\n",
    "\r\n",
    "Pandas simplifies data analysis and manipulation in Python, making it a go-to library for tasks such as data cleaning, exploration, transformation, and visualization. Its intuitive syntax and powerful capabilities make it an indispensable tool for data professionals and researchers working with structured data."
   ]
  },
  {
   "cell_type": "markdown",
   "id": "895ea6c8-6e5b-4387-8cd5-50d05d5110be",
   "metadata": {},
   "source": [
    "# Let's Go"
   ]
  },
  {
   "cell_type": "code",
   "execution_count": 1,
   "id": "3c662137-2777-4722-9584-b4677ebf9706",
   "metadata": {},
   "outputs": [],
   "source": [
    "import pandas as pd"
   ]
  },
  {
   "cell_type": "code",
   "execution_count": 2,
   "id": "912252f7-c6fb-473d-9a55-a00493991029",
   "metadata": {},
   "outputs": [
    {
     "data": {
      "text/plain": [
       "'2.1.1'"
      ]
     },
     "execution_count": 2,
     "metadata": {},
     "output_type": "execute_result"
    }
   ],
   "source": [
    "pd.__version__"
   ]
  },
  {
   "cell_type": "markdown",
   "id": "3c17f875-5302-49f2-9576-61887bc8820f",
   "metadata": {},
   "source": [
    "## Pandas Series \n",
    "\n",
    "A Pandas Series is a one-dimensional labeled array-like data structure in Python. It is a fundamental building block of Pandas and is designed to hold data of a single data type. Series objects are similar to one-dimensional NumPy arrays but come with additional indexing capabilities and powerful data manipulation tools."
   ]
  },
  {
   "cell_type": "code",
   "execution_count": 5,
   "id": "7d494b1c-5881-4c76-8a43-6b986deb7c1b",
   "metadata": {},
   "outputs": [
    {
     "name": "stdout",
     "output_type": "stream",
     "text": [
      "List:  [1, 2, 3, 4, 5]\n",
      "\n",
      "Series:\n",
      "0    1\n",
      "1    2\n",
      "2    3\n",
      "3    4\n",
      "4    5\n",
      "dtype: int64\n"
     ]
    }
   ],
   "source": [
    "# pandas series\n",
    "\n",
    "# we can create pandas series using pandas Series() method.\n",
    "\n",
    "# series from list\n",
    "\n",
    "my_list = [1, 2, 3, 4, 5]\n",
    "print(\"List: \", my_list)\n",
    "\n",
    "print()\n",
    "\n",
    "my_ser = pd.Series(my_list)\n",
    "print(\"Series:\")\n",
    "print(my_ser)"
   ]
  },
  {
   "cell_type": "code",
   "execution_count": 6,
   "id": "d3d10b76-f326-47cd-91e1-1ca49ea85ffb",
   "metadata": {},
   "outputs": [
    {
     "data": {
      "text/plain": [
       "pandas.core.series.Series"
      ]
     },
     "execution_count": 6,
     "metadata": {},
     "output_type": "execute_result"
    }
   ],
   "source": [
    "type(my_ser)"
   ]
  },
  {
   "cell_type": "markdown",
   "id": "2c9db44c-759c-4005-9d5c-2ea8dd3a51ff",
   "metadata": {},
   "source": [
    "In series, each value is assigned with their label. If nothing else is specified, the values are labeled with their index number. First value has index 0, second value has index 1 etc.\n",
    "Like above code, we not specify any labels for values, defualt is counting from 0."
   ]
  },
  {
   "cell_type": "code",
   "execution_count": 7,
   "id": "f7cfcc67-3c91-4c1f-8229-2c72cb1ec485",
   "metadata": {},
   "outputs": [
    {
     "name": "stdout",
     "output_type": "stream",
     "text": [
      "A    10\n",
      "B    20\n",
      "C    30\n",
      "D    40\n",
      "E    50\n",
      "dtype: int64\n"
     ]
    }
   ],
   "source": [
    "# Create a Series with custom index labels\n",
    "data = {'A': 10, 'B': 20, 'C': 30, 'D': 40, 'E': 50}\n",
    "series = pd.Series(data)\n",
    "\n",
    "print(series)"
   ]
  },
  {
   "cell_type": "code",
   "execution_count": 9,
   "id": "0a78a3bd-0415-4d2d-bb61-432b188e44e3",
   "metadata": {},
   "outputs": [
    {
     "name": "stdout",
     "output_type": "stream",
     "text": [
      "a    1.1\n",
      "b    2.2\n",
      "c    3.3\n",
      "d    4.4\n",
      "e    5.5\n",
      "dtype: float64\n"
     ]
    }
   ],
   "source": [
    "# Create a Series with explicit index and data type\n",
    "data = [1.1, 2.2, 3.3, 4.4, 5.5]\n",
    "index = ['a', 'b', 'c', 'd', 'e']\n",
    "series = pd.Series(data, index=index, dtype=float)\n",
    "print(series)"
   ]
  },
  {
   "cell_type": "markdown",
   "id": "eef0624d-135d-4fbc-b020-2c8d5dc1335a",
   "metadata": {},
   "source": [
    "We can access elements of a Series using the index label, perform operations on Series, and use them as part of more complex data manipulation tasks."
   ]
  },
  {
   "cell_type": "code",
   "execution_count": 12,
   "id": "ca7c30e7-4e69-4264-9799-56c0601cdedb",
   "metadata": {},
   "outputs": [
    {
     "name": "stdout",
     "output_type": "stream",
     "text": [
      "3.3\n",
      "\n",
      "c    3.3\n",
      "d    4.4\n",
      "e    5.5\n",
      "dtype: float64\n",
      "\n",
      "a    3.1\n",
      "b    4.2\n",
      "c    5.3\n",
      "d    6.4\n",
      "e    7.5\n",
      "dtype: float64\n"
     ]
    }
   ],
   "source": [
    "value = series['c']  # Access the element with index 'c'\n",
    "print(value, end=\"\\n\\n\")\n",
    "\n",
    "subset = series[series > 3]  # Filter elements greater than 3\n",
    "print(subset, end=\"\\n\\n\")\n",
    "\n",
    "sum_values = series + 2\n",
    "print(sum_values)"
   ]
  },
  {
   "cell_type": "markdown",
   "id": "cc7631e8-0ce9-4058-8d6f-2400ade52314",
   "metadata": {},
   "source": [
    "## Pandas DataFrame\n",
    "\n",
    "A Pandas DataFrame is a two-dimensional, size-mutable, and highly flexible data structure that is at the core of the Pandas library. It is similar to a spreadsheet or SQL table and is designed to store and manipulate data in a tabular format, where data is organized into rows and columns. DataFrames are a fundamental data structure for data analysis and manipulation in Python."
   ]
  },
  {
   "cell_type": "code",
   "execution_count": 13,
   "id": "5a7d8f4b-80a2-4147-bd85-59b17368137d",
   "metadata": {},
   "outputs": [],
   "source": [
    "# DataFrames\n",
    "\n",
    "# we can create dataframes in python using pandas DataFrame() method.\n",
    "\n",
    "# creation of dataframe using dictionary as data\n",
    "data = {\n",
    "    'Name': ['Alice', 'Bob', 'Charlie'],\n",
    "    'Age': [25, 30, 35],\n",
    "    'City': ['New York', 'San Francisco', 'Los Angeles']\n",
    "}\n",
    "df = pd.DataFrame(data)"
   ]
  },
  {
   "cell_type": "code",
   "execution_count": 14,
   "id": "b02f4069-8c77-45fa-89a2-2330536b4eba",
   "metadata": {},
   "outputs": [
    {
     "data": {
      "text/html": [
       "<div>\n",
       "<style scoped>\n",
       "    .dataframe tbody tr th:only-of-type {\n",
       "        vertical-align: middle;\n",
       "    }\n",
       "\n",
       "    .dataframe tbody tr th {\n",
       "        vertical-align: top;\n",
       "    }\n",
       "\n",
       "    .dataframe thead th {\n",
       "        text-align: right;\n",
       "    }\n",
       "</style>\n",
       "<table border=\"1\" class=\"dataframe\">\n",
       "  <thead>\n",
       "    <tr style=\"text-align: right;\">\n",
       "      <th></th>\n",
       "      <th>Name</th>\n",
       "      <th>Age</th>\n",
       "      <th>City</th>\n",
       "    </tr>\n",
       "  </thead>\n",
       "  <tbody>\n",
       "    <tr>\n",
       "      <th>0</th>\n",
       "      <td>Alice</td>\n",
       "      <td>25</td>\n",
       "      <td>New York</td>\n",
       "    </tr>\n",
       "    <tr>\n",
       "      <th>1</th>\n",
       "      <td>Bob</td>\n",
       "      <td>30</td>\n",
       "      <td>San Francisco</td>\n",
       "    </tr>\n",
       "    <tr>\n",
       "      <th>2</th>\n",
       "      <td>Charlie</td>\n",
       "      <td>35</td>\n",
       "      <td>Los Angeles</td>\n",
       "    </tr>\n",
       "  </tbody>\n",
       "</table>\n",
       "</div>"
      ],
      "text/plain": [
       "      Name  Age           City\n",
       "0    Alice   25       New York\n",
       "1      Bob   30  San Francisco\n",
       "2  Charlie   35    Los Angeles"
      ]
     },
     "execution_count": 14,
     "metadata": {},
     "output_type": "execute_result"
    }
   ],
   "source": [
    "df"
   ]
  },
  {
   "cell_type": "code",
   "execution_count": 15,
   "id": "be5e69fc-30a6-4d8b-ab7f-bf6a9345e4b8",
   "metadata": {},
   "outputs": [
    {
     "data": {
      "text/plain": [
       "pandas.core.frame.DataFrame"
      ]
     },
     "execution_count": 15,
     "metadata": {},
     "output_type": "execute_result"
    }
   ],
   "source": [
    "type(df)"
   ]
  },
  {
   "cell_type": "code",
   "execution_count": 21,
   "id": "97b9bdfe-55be-4398-94f1-8580ce1cf863",
   "metadata": {},
   "outputs": [
    {
     "name": "stdout",
     "output_type": "stream",
     "text": [
      "Name       Alice\n",
      "Age           25\n",
      "City    New York\n",
      "Name: 0, dtype: object\n",
      "<class 'pandas.core.series.Series'>\n",
      "      Name  Age           City\n",
      "0    Alice   25       New York\n",
      "1      Bob   30  San Francisco\n",
      "2  Charlie   35    Los Angeles\n",
      "<class 'pandas.core.frame.DataFrame'>\n"
     ]
    }
   ],
   "source": [
    "# locating rows\n",
    "# Pandas use the loc attribute to return one or more specified row(s)\n",
    "\n",
    "row1 = df.loc[0]\n",
    "print(row1)\n",
    "print(type(row1))                 # returns series  type\n",
    "\n",
    "row1 = df.loc[0:2]\n",
    "print(row1)\n",
    "print(type(row1))                 # returns DataFrame type"
   ]
  },
  {
   "cell_type": "markdown",
   "id": "ca51fd56-fa90-4bac-ac89-4c6d445e0e57",
   "metadata": {},
   "source": [
    "We can also specify owr own index names during dataframe creation"
   ]
  },
  {
   "cell_type": "code",
   "execution_count": 22,
   "id": "e2779a13-7d51-450e-b716-6e7f3327147b",
   "metadata": {},
   "outputs": [
    {
     "name": "stdout",
     "output_type": "stream",
     "text": [
      "      calories  duration\n",
      "day1       420        50\n",
      "day2       380        40\n",
      "day3       390        45\n"
     ]
    }
   ],
   "source": [
    "data = {\n",
    "  \"calories\": [420, 380, 390],\n",
    "  \"duration\": [50, 40, 45]\n",
    "}\n",
    "\n",
    "df = pd.DataFrame(data, index = [\"day1\", \"day2\", \"day3\"])\n",
    "\n",
    "print(df) "
   ]
  },
  {
   "cell_type": "code",
   "execution_count": 23,
   "id": "cee5554f-ebc8-4dc9-8c90-233c3e3585e9",
   "metadata": {},
   "outputs": [],
   "source": [
    "# Reading Files as DataFrame"
   ]
  },
  {
   "cell_type": "code",
   "execution_count": null,
   "id": "5669400a-8144-4d11-ab4b-4ab3e3f5ed31",
   "metadata": {},
   "outputs": [],
   "source": [
    "# csv file:\n",
    "# we can read csv files in pandas using read_csv() method and can store files data as dataframe.\n",
    "\n",
    "df = pd.read_csv(\"/path/to/file\", )\n",
    "\n",
    "# here we have many arguments in read_csv() method. one important argument is `sep`, this ensures that what symbol makes file data seperated. Like in \n",
    "# csv file ',' comma seperation"
   ]
  },
  {
   "cell_type": "code",
   "execution_count": 28,
   "id": "65134fcb-f990-4fab-8252-cf1da034ceec",
   "metadata": {},
   "outputs": [
    {
     "data": {
      "text/html": [
       "<div>\n",
       "<style scoped>\n",
       "    .dataframe tbody tr th:only-of-type {\n",
       "        vertical-align: middle;\n",
       "    }\n",
       "\n",
       "    .dataframe tbody tr th {\n",
       "        vertical-align: top;\n",
       "    }\n",
       "\n",
       "    .dataframe thead th {\n",
       "        text-align: right;\n",
       "    }\n",
       "</style>\n",
       "<table border=\"1\" class=\"dataframe\">\n",
       "  <thead>\n",
       "    <tr style=\"text-align: right;\">\n",
       "      <th></th>\n",
       "      <th>person</th>\n",
       "    </tr>\n",
       "  </thead>\n",
       "  <tbody>\n",
       "    <tr>\n",
       "      <th>address</th>\n",
       "      <td>{'street': '123 Main Street', 'city': 'Anytown...</td>\n",
       "    </tr>\n",
       "    <tr>\n",
       "      <th>age</th>\n",
       "      <td>30</td>\n",
       "    </tr>\n",
       "    <tr>\n",
       "      <th>email</th>\n",
       "      <td>johndoe@example.com</td>\n",
       "    </tr>\n",
       "    <tr>\n",
       "      <th>first_name</th>\n",
       "      <td>John</td>\n",
       "    </tr>\n",
       "    <tr>\n",
       "      <th>is_student</th>\n",
       "      <td>False</td>\n",
       "    </tr>\n",
       "    <tr>\n",
       "      <th>last_name</th>\n",
       "      <td>Doe</td>\n",
       "    </tr>\n",
       "    <tr>\n",
       "      <th>phone_numbers</th>\n",
       "      <td>[{'type': 'home', 'number': '555-123-4567'}, {...</td>\n",
       "    </tr>\n",
       "  </tbody>\n",
       "</table>\n",
       "</div>"
      ],
      "text/plain": [
       "                                                          person\n",
       "address        {'street': '123 Main Street', 'city': 'Anytown...\n",
       "age                                                           30\n",
       "email                                        johndoe@example.com\n",
       "first_name                                                  John\n",
       "is_student                                                 False\n",
       "last_name                                                    Doe\n",
       "phone_numbers  [{'type': 'home', 'number': '555-123-4567'}, {..."
      ]
     },
     "execution_count": 28,
     "metadata": {},
     "output_type": "execute_result"
    }
   ],
   "source": [
    "# json files:\n",
    "# for reading json file data, python have read_json()\n",
    "\n",
    "df = pd.read_json('data.json')\n",
    "df"
   ]
  },
  {
   "cell_type": "code",
   "execution_count": 29,
   "id": "aac6fef7-2e02-4a68-961b-2b726eb0d3b5",
   "metadata": {},
   "outputs": [
    {
     "name": "stdout",
     "output_type": "stream",
     "text": [
      "   Duration  Pulse  Maxpulse  Calories\n",
      "0        60    110       130       409\n",
      "1        60    117       145       479\n",
      "2        60    103       135       340\n",
      "3        45    109       175       282\n",
      "4        45    117       148       406\n",
      "5        60    102       127       300\n"
     ]
    }
   ],
   "source": [
    "data = {\n",
    "  \"Duration\":{\n",
    "    \"0\":60,\n",
    "    \"1\":60,\n",
    "    \"2\":60,\n",
    "    \"3\":45,\n",
    "    \"4\":45,\n",
    "    \"5\":60\n",
    "  },\n",
    "  \"Pulse\":{\n",
    "    \"0\":110,\n",
    "    \"1\":117,\n",
    "    \"2\":103,\n",
    "    \"3\":109,\n",
    "    \"4\":117,\n",
    "    \"5\":102\n",
    "  },\n",
    "  \"Maxpulse\":{\n",
    "    \"0\":130,\n",
    "    \"1\":145,\n",
    "    \"2\":135,\n",
    "    \"3\":175,\n",
    "    \"4\":148,\n",
    "    \"5\":127\n",
    "  },\n",
    "  \"Calories\":{\n",
    "    \"0\":409,\n",
    "    \"1\":479,\n",
    "    \"2\":340,\n",
    "    \"3\":282,\n",
    "    \"4\":406,\n",
    "    \"5\":300\n",
    "  }\n",
    "}\n",
    "\n",
    "df = pd.DataFrame(data)\n",
    "\n",
    "print(df) "
   ]
  },
  {
   "cell_type": "code",
   "execution_count": null,
   "id": "40c7b765-d6e9-450b-9e41-7d4552aa8cee",
   "metadata": {},
   "outputs": [],
   "source": []
  }
 ],
 "metadata": {
  "kernelspec": {
   "display_name": "Python 3 (ipykernel)",
   "language": "python",
   "name": "python3"
  },
  "language_info": {
   "codemirror_mode": {
    "name": "ipython",
    "version": 3
   },
   "file_extension": ".py",
   "mimetype": "text/x-python",
   "name": "python",
   "nbconvert_exporter": "python",
   "pygments_lexer": "ipython3",
   "version": "3.11.5"
  }
 },
 "nbformat": 4,
 "nbformat_minor": 5
}
