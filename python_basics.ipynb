{
 "cells": [
  {
   "cell_type": "markdown",
   "id": "7c58d69e-f6e9-4af7-b4f0-c74c9221014c",
   "metadata": {},
   "source": [
    "# PYTHON SERIES"
   ]
  },
  {
   "cell_type": "markdown",
   "id": "d0546c6d-69a7-4c82-8e47-2c593885006b",
   "metadata": {},
   "source": [
    "# Introduction"
   ]
  },
  {
   "cell_type": "markdown",
   "id": "395522e0-7054-4615-8902-87e20e28671d",
   "metadata": {},
   "source": [
    "Python is a high-level, versatile, and widely used programming language known for its simplicity and readability. It was created by Guido van Rossum and first released in 1991. Python's design philosophy emphasizes code readability and a clean syntax, making it an excellent choice for both beginners and experienced programmers. Here are some key aspects and features of Python:\r\n",
    "\r\n",
    "1. **Readability:** Python's syntax is designed to be easily readable and clear, which makes it easier to write and maintain code. It uses indentation (whitespace) to define code blocks, eliminating the need for explicit curly braces or other delimiters.\r\n",
    "\r\n",
    "2. **Interpreted Language:** Python is an interpreted language, which means you don't need to compile your code before running it. The Python interpreter reads the code line by line and executes it directly. This makes Python a highly dynamic and interactive language.\r\n",
    "\r\n",
    "3. **High-Level Language:** Python is a high-level programming language, which means it abstracts low-level details like memory management, making it more accessible for developers. This abstraction allows programmers to focus on solving problems rather than managing system-specific details.\r\n",
    "\r\n",
    "4. **Cross-Platform:** Python is available on various platforms, including Windows, macOS, and various Linux distributions. This cross-platform compatibility makes it suitable for developing applications that can run on multiple operating systems.\r\n",
    "\r\n",
    "5. **Extensive Standard Library:** Python comes with a vast standard library that provides modules and packages for a wide range of tasks, from file handling and networking to data manipulation and web development. This extensive library reduces the need to write code from scratch for common tasks.\r\n",
    "\r\n",
    "6. **Dynamically Typed:** Python is dynamically typed, meaning you don't need to declare variable types explicitly. The interpreter infers the data type of a variable at runtime. This can lead to more flexible code but requires careful consideration of data types in some cases.\r\n",
    "\r\n",
    "7. **Object-Oriented:** Python is an object-oriented programming (OOP) language. It supports the creation and use of classes and objects, allowing developers to write code that is organized around objects, making it easier to model real-world entities.\r\n",
    "\r\n",
    "8. **Community Support:** Python has a vibrant and active community of developers, which has resulted in a vast ecosystem of third-party libraries and frameworks. Popular libraries like NumPy, Pandas, and Django are widely used in various domains, from data science to web development.\r\n",
    "\r\n",
    "9. **Versatility:** Python can be used for a wide range of applications, including web development, data analysis, scientific computing, artificial intelligence, machine learning, automation, and more. Its versatility has contributed to its popularity across various industries.\r\n",
    "\r\n",
    "10. **Open Source:** Python is open-source software, which means it is free to use, distribute, and modify. This open nature has contributed to its widespread adoption and continuous improvement.\r\n",
    "\r\n",
    "Python's simplicity, readability, and extensive libraries make it a powerful and versatile language for both beginners and experienced programmers. Its popularity continues to grow, making it a valuable skill for developers in various fields."
   ]
  },
  {
   "cell_type": "markdown",
   "id": "b586a317-0849-485a-a315-efd1202e897c",
   "metadata": {},
   "source": [
    "____________________________________________________________________"
   ]
  },
  {
   "cell_type": "markdown",
   "id": "968a99a7-5bb7-41b2-8869-46be36a726a9",
   "metadata": {},
   "source": [
    "# The Basics - Foundation"
   ]
  },
  {
   "cell_type": "markdown",
   "id": "4cdd751e-6e40-4e1a-80ba-36ca178f4b49",
   "metadata": {},
   "source": [
    "## Identifiers and Keywords\n",
    "\n",
    "In Python, identifiers and keywords are fundamental elements used for naming and defining various programming constructs. Here's an explanation of each:\r\n",
    "1. **Identifiers:**\n",
    "\n",
    "   Identifiers are names given to various programming elements such as variables, functions, classes, modules, etc. They are user-defined and serve as labels for these elements in your code. Identifiers must adhere to the following rules:\n",
    "\n",
    "   - They can include letters (both uppercase and lowercase), digits, and underscores.\n",
    "   - They must start with a letter (a-z, A-Z) or an underscore (_).\n",
    "   - They are case-sensitive, meaning `myVar` and `myvar` are treated as distinct identifiers.\n",
    "   - They cannot be a Python keyword.\n",
    "\n",
    "   Examples of valid identifiers:\n",
    "   - `counter`\n",
    "   - `_temperature`\n",
    "   - `my_variable`\n",
    "   - `calculateSum`\n",
    "\n",
    "   Examples of invalid identifiers (because they are keywords and violate the rules):\n",
    "   - `if` (keyword)\n",
    "   - `123abc` (starts with a digit)\n",
    "   - `my-variable` (contains a hyphen)\n",
    "   - `for` (keyword)\n",
    "\n",
    "2. . **Keywords:**\r\n",
    "   \r\n",
    "   Keywords, also known as reserved words, are predefined and reserved for specific purposes in Python. These words cannot be used as identifiers (variable names, function names, etc.) because they have special meanings in the language. Some examples of Python keywords include:\r\n",
    "\r\n",
    "   - `if`: Used for conditional statements.\r\n",
    "   - `while`: Used for loop constructs.\r\n",
    "   - `for`: Used for iterating over sequences.\r\n",
    "   - `def`: Used for defining functions.\r\n",
    "   - `class`: Used for defining classes.\r\n",
    "   - `import`: Used for importing modules.\r\n",
    "   - `return`: Used to specify the return value of a function.\r\n",
    "   - `True` and `False`: Boolean literals.\r\n",
    "   - `None`: Represents the absence of a value.\r\n",
    "\r\n",
    "   Python has a set of5approximately 30 keywords, and these keywords cannot be redefined or used as</br>\n",
    "    Python keywords list\n",
    "<table style=\"text-align: center; border: 2px black;\">\n",
    "        <tr>\n",
    "            <td>False</td>\n",
    "            <td>None</td>\n",
    "            <td>True</td>\n",
    "            <td>and</td>\n",
    "            <td>as</td>\n",
    "        </tr>\n",
    "        <tr>\n",
    "            <td>assert</td>\n",
    "            <td>async</td>\n",
    "            <td>await</td>\n",
    "            <td>break</td>\n",
    "            <td>class</td>\n",
    "        </tr>\n",
    "        <tr>\n",
    "            <td>continue</td>\n",
    "            <td>def</td>\n",
    "            <td>del</td>\n",
    "            <td>elif</td>\n",
    "            <td>else</td>\n",
    "        </tr>\n",
    "        <tr>\n",
    "            <td>except</td>\n",
    "            <td>finally</td>\n",
    "            <td>for</td>\n",
    "            <td>from</td>\n",
    "            <td>global</td>\n",
    "        </tr>\n",
    "        <tr>\n",
    "            <td>if</td>\n",
    "            <td>import</td>\n",
    "            <td>is</td>\n",
    "            <td>in</td>\n",
    "            <td>lambda</td>\n",
    "        </tr>\n",
    "        <tr>\n",
    "            <td>nonlocal</td>\n",
    "            <td>not</td>\n",
    "            <td>or</td>\n",
    "            <td>pass</td>\n",
    "            <td>raise</td>\n",
    "        </tr>\n",
    "        <tr>\n",
    "            <td>return</td>\n",
    "            <td>try</td>\n",
    "            <td>while</td>\n",
    "            <td>with</td>\n",
    "            <td>yield</td>\n",
    "        </tr>\n",
    "</table> ains a hyphen)\r\n",
    "   - `for` (keyword)\r\n",
    "\r\n",
    "It's important to choose meaningful and descriptive identifiers for your variables and functions to enhance the readability and maintainability of your code. Additionally, avoid using Python keywords as identifiers, as doing so will result in syntax errors or unexpected behavior in your code."
   ]
  },
  {
   "cell_type": "code",
   "execution_count": 1,
   "id": "fb7e77d5-7114-44fb-979f-7b4a74ecefad",
   "metadata": {},
   "outputs": [
    {
     "name": "stdout",
     "output_type": "stream",
     "text": [
      "10\n"
     ]
    }
   ],
   "source": [
    "# identifiers\n",
    "\n",
    "my_var = 10\n",
    "print(my_var)"
   ]
  },
  {
   "cell_type": "code",
   "execution_count": 2,
   "id": "24ea7e5d-5edc-4808-8ed2-f37fda3c0975",
   "metadata": {},
   "outputs": [
    {
     "name": "stdout",
     "output_type": "stream",
     "text": [
      "string\n"
     ]
    }
   ],
   "source": [
    "str = 'string'\n",
    "print(str)"
   ]
  },
  {
   "cell_type": "code",
   "execution_count": 3,
   "id": "37773bf5-63da-4727-b957-d48c86642145",
   "metadata": {},
   "outputs": [
    {
     "ename": "SyntaxError",
     "evalue": "invalid syntax (3449251443.py, line 1)",
     "output_type": "error",
     "traceback": [
      "\u001b[1;36m  Cell \u001b[1;32mIn[3], line 1\u001b[1;36m\u001b[0m\n\u001b[1;33m    for = 20\u001b[0m\n\u001b[1;37m        ^\u001b[0m\n\u001b[1;31mSyntaxError\u001b[0m\u001b[1;31m:\u001b[0m invalid syntax\n"
     ]
    }
   ],
   "source": [
    "for = 20\n",
    "print(for)            # gives us syntax error, because for is keyword in python"
   ]
  },
  {
   "cell_type": "markdown",
   "id": "131b34c8-9852-464c-ba82-a59a52bba55b",
   "metadata": {},
   "source": [
    "__________________________________"
   ]
  },
  {
   "cell_type": "markdown",
   "id": "97ed2759-076a-44d2-9fe1-540bf17939e0",
   "metadata": {},
   "source": [
    "## Comments in Python"
   ]
  },
  {
   "cell_type": "markdown",
   "id": "09275430-85ba-4986-931d-40f34e374177",
   "metadata": {},
   "source": [
    "Comments in Python are used to annotate and document your code. They provide information that is not executed as part of the program but serves as explanations for developers (including yourself) who read and work on the code. Python supports both single-line and multi-line comments:thers who may work on the code later."
   ]
  },
  {
   "cell_type": "code",
   "execution_count": 4,
   "id": "11a3d5bd-eb44-4c53-87e5-fc82df5fff4c",
   "metadata": {},
   "outputs": [
    {
     "name": "stdout",
     "output_type": "stream",
     "text": [
      "10\n"
     ]
    }
   ],
   "source": [
    "# Single line comment\n",
    "\n",
    "my_var = 10           # this is single line comment\n",
    "print(my_var)"
   ]
  },
  {
   "cell_type": "code",
   "execution_count": 5,
   "id": "682f3d68-b930-4891-9e2a-6f0194df9885",
   "metadata": {},
   "outputs": [
    {
     "ename": "SyntaxError",
     "evalue": "invalid syntax (1137077217.py, line 1)",
     "output_type": "error",
     "traceback": [
      "\u001b[1;36m  Cell \u001b[1;32mIn[5], line 1\u001b[1;36m\u001b[0m\n\u001b[1;33m    my_Str = #comment 10\u001b[0m\n\u001b[1;37m             ^\u001b[0m\n\u001b[1;31mSyntaxError\u001b[0m\u001b[1;31m:\u001b[0m invalid syntax\n"
     ]
    }
   ],
   "source": [
    "my_Str = #comment 10\n",
    "print(my_Str)         # value after single line comment will not be treated as code, that's why our code gives us syntex error."
   ]
  },
  {
   "cell_type": "code",
   "execution_count": 6,
   "id": "697d3072-5c2f-479f-a68c-a8acc1fef911",
   "metadata": {},
   "outputs": [
    {
     "name": "stdout",
     "output_type": "stream",
     "text": [
      "multiline comment\n"
     ]
    }
   ],
   "source": [
    "# multiline comment\n",
    "\n",
    "'''\n",
    "This is multiline comment.\n",
    "we can use both '''or''' or \"\"\" or \"\"\" for writing comments.\n",
    "'''\n",
    "\n",
    "my_var = \"multiline comment\"\n",
    "print(my_var)"
   ]
  },
  {
   "cell_type": "markdown",
   "id": "75a4303e-967b-437e-b19b-55fbb2fb6fa9",
   "metadata": {},
   "source": [
    "________________________________________________"
   ]
  },
  {
   "cell_type": "markdown",
   "id": "ac472737-0bbf-4e5b-82b2-9763621f69b0",
   "metadata": {},
   "source": [
    "## Variables, Constants and Literals"
   ]
  },
  {
   "cell_type": "markdown",
   "id": "679877b5-1a66-4621-8aa7-e98354d6e32c",
   "metadata": {},
   "source": [
    "In Python, variables, constants, and literals are fundamental elements used for storing and representing data in your code. Let's explore each of these concepts:\r\n",
    "\r\n",
    "1. **Variables:**\r\n",
    "\r\n",
    "   Variables are used to store data that can change during the execution of a program. They are essentially named containers that hold values. In Python, you can create a variable by assigning a value to a name using h `=` operator. Variable names must follow specific rules:\r\n",
    "\r\n",
    "   - They can include letters (both uppercase and lowercase), digits, and underscores.\r\n",
    "   - They must start with a letter (a-z, A-Z) or an underscore (_).\r\n",
    "   - They are case-sensitive, eanin `myVr` an `myvar` are treated as distinct vavariable\r\n",
    "   ```\r\n",
    "\r\n",
    "   You can change the value of a variable during the pr building blocks for manipulating and processing data in your programs."
   ]
  },
  {
   "cell_type": "code",
   "execution_count": 7,
   "id": "dda319c7-4338-4a3c-a249-0384d780ec15",
   "metadata": {},
   "outputs": [],
   "source": [
    "x = 10  # An integer variable\n",
    "name = \"John\"  # A string variable\n",
    "is_valid = True  # A boolean variable"
   ]
  },
  {
   "cell_type": "code",
   "execution_count": 8,
   "id": "a901888d-32f4-4a90-a896-6e7728317e29",
   "metadata": {},
   "outputs": [
    {
     "name": "stdout",
     "output_type": "stream",
     "text": [
      "10\n"
     ]
    },
    {
     "ename": "NameError",
     "evalue": "name 'Myvar' is not defined",
     "output_type": "error",
     "traceback": [
      "\u001b[1;31m---------------------------------------------------\u001b[0m",
      "\u001b[1;31mNameError\u001b[0m         Traceback (most recent call last)",
      "Cell \u001b[1;32mIn[8], line 3\u001b[0m\n\u001b[0;32m      1\u001b[0m myvar \u001b[38;5;241m=\u001b[39m \u001b[38;5;241m10\u001b[39m\n\u001b[0;32m      2\u001b[0m \u001b[38;5;28mprint\u001b[39m(myvar)\n\u001b[1;32m----> 3\u001b[0m \u001b[38;5;28mprint\u001b[39m(\u001b[43mMyvar\u001b[49m)                    \u001b[38;5;66;03m# Case sensitive language\u001b[39;00m\n",
      "\u001b[1;31mNameError\u001b[0m: name 'Myvar' is not defined"
     ]
    }
   ],
   "source": [
    "myvar = 10\n",
    "print(myvar)\n",
    "print(Myvar)                    # Case sensitive language"
   ]
  },
  {
   "cell_type": "code",
   "execution_count": null,
   "id": "b8d3c44d-1aee-4b6f-af63-8d385e0268fa",
   "metadata": {},
   "outputs": [],
   "source": [
    "# defining multiple variables in single line\n",
    "\n",
    "a = b = 10\n",
    "print(a)\n",
    "print(b)"
   ]
  },
  {
   "cell_type": "code",
   "execution_count": null,
   "id": "6841dd16-1c7c-46ae-9c3b-825f47b31d61",
   "metadata": {},
   "outputs": [],
   "source": [
    "a, b, c = (1, 2, 3)            # this is known as unpacking of values \n",
    "\n",
    "print(a)\n",
    "print(b)\n",
    "print(c)"
   ]
  },
  {
   "cell_type": "markdown",
   "id": "acdb39a5-f75e-4b40-ab8a-f04eafa0f210",
   "metadata": {},
   "source": [
    "2. **Constants:**\n",
    "\n",
    "   Constants are similar to variables, but their values are typically fixed and do not change during the program's execution. While Python does not have built-in support for constants, developers conventionally use uppercase letters and underscores to indicate that a variable should be treated as a constant, even though its value can technically be modified."
   ]
  },
  {
   "cell_type": "code",
   "execution_count": 9,
   "id": "c50c955b-e37f-4360-8740-2e131d594667",
   "metadata": {},
   "outputs": [],
   "source": [
    "PI = 3.14\n",
    "PATH = 'path_to_folder/filename.ext'"
   ]
  },
  {
   "cell_type": "markdown",
   "id": "d85eca36-5165-4a00-bda8-5f65fc7ec4fd",
   "metadata": {},
   "source": [
    "3. **Literals:**\n",
    "\n",
    "   Literals are specific values written directly in your code. They can be numbers, strings, or other data types. There are various types of literals in Python:</br>\n",
    "   \n",
    "   - Integer Literals: Whole numbers without a decimal point.\n",
    "\n",
    "   - Float Literals: Numbers with a decimal point.\n",
    "\n",
    "   - String Literals: Text enclosed in single quotes or double quotes.\n",
    "\n",
    "   - Boolean Literals: True or False.\n",
    "   \n",
    "   - None Literal: Represents the absence of a value.\n",
    "   \n",
    "   - Literal Collections: Lists, tuples, dictionaries, and sets are collections of values enclosed in specific delimiters.\n",
    "   \n",
    "Literals provide initial values for variables and constants. They are the actual data you work with in your code. Values of literals of can be changed in during execution."
   ]
  },
  {
   "cell_type": "code",
   "execution_count": 10,
   "id": "c929945b-6046-4f4f-bde7-a67e6620a68a",
   "metadata": {},
   "outputs": [],
   "source": [
    "#Integer Literals\n",
    "age = 25\n",
    "\n",
    "#Float Literals\n",
    "price = 19.99\n",
    "\n",
    "#String Literals\n",
    "name = \"Alice\"\n",
    "\n",
    "#Boolean Literals:\n",
    "is_valid = True\n",
    "\n",
    "#None Literal(special type)\n",
    "result = None\n",
    "\n",
    "#Literal Collections\n",
    "my_list = [1, 2, 3]\n",
    "my_tuple = (4, 5, 6)\n",
    "my_dict = {\"name\": \"Bob\", \"age\": 30}\n",
    "my_set = {7, 8, 9}"
   ]
  },
  {
   "cell_type": "markdown",
   "id": "a24472fe-62e0-4230-ae32-bb86989a69be",
   "metadata": {},
   "source": [
    "________________________________"
   ]
  },
  {
   "cell_type": "markdown",
   "id": "1fc2738e-28e6-43ed-b9bb-9590affc9556",
   "metadata": {},
   "source": [
    "## Data Types"
   ]
  },
  {
   "cell_type": "markdown",
   "id": "907aa06a-b2fa-4869-93eb-70d892cdce7b",
   "metadata": {},
   "source": [
    "Data types in Python represent the kind of data that a variable can hold. Python is dynamically typed, which means you don't need to explicitly specify the data type of a variable when you declare it; the interpreter determines the data type based on the value assigned to the variable. Python has several built-in data types, and you can also create custom data types using classes. Here are the primary built-in data types in Python:\r\n",
    "\r\n",
    "1. **Numeric Types:**\r\n",
    "   - **int:** Integer data type represents whole numbers, positive or negative, without a fractional pa 5`\r\n",
    "   - **float:** Floating-point data type represents real numbers with a decimal po.14`\r\n",
    "   - **complex:** Complex numbers with a real and imaginary to suit your specific needs."
   ]
  },
  {
   "cell_type": "code",
   "execution_count": 11,
   "id": "6d93b42e-1778-40ac-b4e9-14d823551083",
   "metadata": {},
   "outputs": [
    {
     "name": "stdout",
     "output_type": "stream",
     "text": [
      "<class 'int'>\n",
      "<class 'float'>\n",
      "<class 'complex'>\n"
     ]
    }
   ],
   "source": [
    "int_var = 5                    # integer type\n",
    "print(type(x))\n",
    "\n",
    "float_var = 10.20              # float type\n",
    "print(type(float_var))\n",
    "\n",
    "com_var = 2 + 5j\n",
    "print(type(com_var))           # comples type   "
   ]
  },
  {
   "cell_type": "markdown",
   "id": "9a0b2062-6e99-4955-b173-bb4a397d3131",
   "metadata": {},
   "source": [
    "2. **Text Type:**\n",
    "   - **str:** The string data type represents sequences of characters enclosed in either single (`'`) or double (`\"`) quotes."
   ]
  },
  {
   "cell_type": "code",
   "execution_count": 12,
   "id": "eb265603-26ec-4baa-a18c-212e9e35cd34",
   "metadata": {},
   "outputs": [
    {
     "name": "stdout",
     "output_type": "stream",
     "text": [
      "<class 'str'>\n",
      "<class 'str'>\n"
     ]
    }
   ],
   "source": [
    "my_str1 = 'example_str1'         # single quoutes ' '\n",
    "print(type(my_str1))\n",
    "\n",
    "my_str2 = \"example_str2\"            # double quotes \" \"\n",
    "print(type(my_str2))"
   ]
  },
  {
   "cell_type": "markdown",
   "id": "5c9aab40-10cb-4363-863f-c78b66aa7fec",
   "metadata": {},
   "source": [
    "3. **Boolean Type:**\n",
    "   - **bool:** The boolean data type represents the binary values `True` or `False`. It is often used for logical operations and conditional statements."
   ]
  },
  {
   "cell_type": "code",
   "execution_count": 13,
   "id": "a112fcd1-7c38-4710-96e1-671be6d84988",
   "metadata": {},
   "outputs": [
    {
     "name": "stdout",
     "output_type": "stream",
     "text": [
      "<class 'bool'>\n",
      "<class 'bool'>\n"
     ]
    }
   ],
   "source": [
    "is_true = True\n",
    "print(type(is_true))\n",
    "\n",
    "is_false = False\n",
    "print(type(is_false))"
   ]
  },
  {
   "cell_type": "markdown",
   "id": "8917dcec-d573-4e66-afc5-e67f2b8c5a8c",
   "metadata": {},
   "source": [
    "4. **Sequence Types:**\n",
    "   - **list:** A list is an ordered collection of items, which can be of different data types. Lists are mutable, meaning their contents can be changed.\n",
    "   - **tuple:** A tuple is an ordered collection similar to a list, but it is immutable, meaning its contents cannot be changed once defined.\n",
    "   - **range:** A range represents an immutable sequence of numbers, often used in looping."
   ]
  },
  {
   "cell_type": "code",
   "execution_count": 14,
   "id": "08445ea4-cd04-4955-86c3-95afe2bd433b",
   "metadata": {},
   "outputs": [
    {
     "name": "stdout",
     "output_type": "stream",
     "text": [
      "<class 'list'>\n",
      "<class 'tuple'>\n",
      "<class 'range'>\n"
     ]
    }
   ],
   "source": [
    "my_list = [1, 2, 3, 4, 5]                       # list sequence\n",
    "print(type(my_list))\n",
    "\n",
    "my_tuple = (6, 7, 8, 9, 10)                       # tuple sequence\n",
    "print(type(my_tuple))\n",
    "\n",
    "my_range = range(1, 10)                        # range sequence\n",
    "print(type(my_range))"
   ]
  },
  {
   "cell_type": "markdown",
   "id": "cd8b893a-8474-4b79-8f7d-dd1d4802c4b7",
   "metadata": {},
   "source": [
    "5. **Set Types:**\n",
    "   - **set:** A set is an unordered collection of unique elements. Sets are mutable, and you can perform various set operations on them.\n",
    "   - **frozenset:** Similar to a set but immutable, meaning its contents cannot be changed."
   ]
  },
  {
   "cell_type": "code",
   "execution_count": 15,
   "id": "54730175-e019-4a19-a32a-1a37aac55431",
   "metadata": {},
   "outputs": [
    {
     "name": "stdout",
     "output_type": "stream",
     "text": [
      "<class 'set'>\n",
      "<class 'frozenset'>\n"
     ]
    }
   ],
   "source": [
    "my_set = {1, 2, 3}                     # set type\n",
    "print(type(my_set))\n",
    "\n",
    "my_frozenset = frozenset({4, 5, 6})                    # frozenset type\n",
    "print(type(my_frozenset))"
   ]
  },
  {
   "cell_type": "markdown",
   "id": "922c61e8-e025-4154-a4f7-63f118d19c14",
   "metadata": {},
   "source": [
    "6. **Mapping Type:**\n",
    "   - **dict:** A dictionary is an unordered collection of key-value pairs. Each key is unique, and it is used to access its associated value."
   ]
  },
  {
   "cell_type": "code",
   "execution_count": 16,
   "id": "3ed78184-b846-4c9d-beb5-6f33c7a7c8e8",
   "metadata": {},
   "outputs": [
    {
     "name": "stdout",
     "output_type": "stream",
     "text": [
      "<class 'dict'>\n"
     ]
    }
   ],
   "source": [
    "my_dict = {\"name\": \"Bob\", \"age\": 30}            # dictionary type\n",
    "print(type(my_dict))"
   ]
  },
  {
   "cell_type": "markdown",
   "id": "474358e1-8b41-4734-9200-8966ce955387",
   "metadata": {},
   "source": [
    "7. **None Type:**\n",
    "   - **NoneType:** The `None` data type represents the absence of a value. It is often used to indicate that a variable has no value or that a function doesn't return anything."
   ]
  },
  {
   "cell_type": "code",
   "execution_count": 17,
   "id": "87ace82a-1631-4427-b67f-7b9bfb8b15bd",
   "metadata": {},
   "outputs": [
    {
     "name": "stdout",
     "output_type": "stream",
     "text": [
      "<class 'NoneType'>\n"
     ]
    }
   ],
   "source": [
    "result = None                       # None or empty value\n",
    "print(type(result))"
   ]
  },
  {
   "cell_type": "markdown",
   "id": "62235f39-3e87-4d70-9960-41e4f0f5aa45",
   "metadata": {},
   "source": [
    "These are the fundamental built-in data types in Python. Understanding data types is crucial for writing robust and efficient Python code because it determines how data is stored, manipulated, and processed in your programs. You can also create custom data types using classes, allowing you to model complex data structures to suit your specific needs."
   ]
  },
  {
   "cell_type": "markdown",
   "id": "0c0dff3e-971e-4201-b3c5-6c1ac4336387",
   "metadata": {},
   "source": [
    "___________________________________"
   ]
  },
  {
   "cell_type": "markdown",
   "id": "6614b813-5586-46b9-8d1f-953607800eb9",
   "metadata": {},
   "source": [
    "## Type Conversion"
   ]
  },
  {
   "cell_type": "markdown",
   "id": "057d67a2-cadc-4264-ab2c-ecb6151eb87a",
   "metadata": {},
   "source": [
    "Type conversion, also known as data type casting, is the process of changing the data type of a value from one type to another in Python. Here are the common ways to perform type conversion in Python:\n",
    "1. Implicit Type Conversion\n",
    "2. Explicit Type Conversion"
   ]
  },
  {
   "cell_type": "markdown",
   "id": "8305848e-165b-41a9-ae89-3ac5a1de03aa",
   "metadata": {},
   "source": [
    "1. **Implicit Type Conversion (Type Coercion):**\n",
    "\n",
    "   Python automatically performs some type conversions when you mix different data types in operations. This is known as implicit type conversion or type coercion. For example:"
   ]
  },
  {
   "cell_type": "code",
   "execution_count": 18,
   "id": "09927f3c-fbaf-45eb-9656-b43705ad41d3",
   "metadata": {},
   "outputs": [
    {
     "name": "stdout",
     "output_type": "stream",
     "text": [
      "7.0\n"
     ]
    }
   ],
   "source": [
    "x = 5        # int\n",
    "y = 2.0      # float\n",
    "result = x + y  # Python converts x to float before addition\n",
    "print(result)"
   ]
  },
  {
   "cell_type": "markdown",
   "id": "64bc7cc8-c6f3-4c14-a6b6-a2a89deeab38",
   "metadata": {},
   "source": [
    "2. **Explicit Type Conversion (Type Casting):**\n",
    "\n",
    "   Explicit type conversion, also known as type casting, is when you intentionally convert a value from one data type to another using built-in functions or constructors. Python provides several functions for explicit type conversion:\n",
    "   1. int(): Converts a value to an integer data type.\n",
    "   2. float(): Converts a value to a floating-point data type.\n",
    "   3. str(): Converts a value to a string data type.\n",
    "   4. list(), tuple(), set(): Converts a sequence or iterable to the respective data type.\n",
    "   5. bool(): Converts a value to a boolean data type.\n",
    "   6. dict(): Converts an iterable of key-value pairs to a dictionary."
   ]
  },
  {
   "cell_type": "code",
   "execution_count": 19,
   "id": "73f73e12-962d-440f-8f3a-6246688d5da6",
   "metadata": {},
   "outputs": [
    {
     "name": "stdout",
     "output_type": "stream",
     "text": [
      "type of x:  <class 'int'>\n",
      "type of y:  <class 'float'>\n"
     ]
    },
    {
     "ename": "TypeError",
     "evalue": "'str' object is not callable",
     "output_type": "error",
     "traceback": [
      "\u001b[1;31m---------------------------------------------------\u001b[0m",
      "\u001b[1;31mTypeError\u001b[0m         Traceback (most recent call last)",
      "Cell \u001b[1;32mIn[19], line 7\u001b[0m\n\u001b[0;32m      4\u001b[0m y \u001b[38;5;241m=\u001b[39m \u001b[38;5;28mfloat\u001b[39m(\u001b[38;5;124m\"\u001b[39m\u001b[38;5;124m5.6\u001b[39m\u001b[38;5;124m\"\u001b[39m)  \u001b[38;5;66;03m# Converts the string \"5.6\" to the float 5.6\u001b[39;00m\n\u001b[0;32m      5\u001b[0m \u001b[38;5;28mprint\u001b[39m(\u001b[38;5;124m\"\u001b[39m\u001b[38;5;124mtype of y: \u001b[39m\u001b[38;5;124m\"\u001b[39m, \u001b[38;5;28mtype\u001b[39m(y))\n\u001b[1;32m----> 7\u001b[0m name_str \u001b[38;5;241m=\u001b[39m \u001b[38;5;28;43mstr\u001b[39;49m\u001b[43m(\u001b[49m\u001b[38;5;241;43m10.20\u001b[39;49m\u001b[43m)\u001b[49m  \u001b[38;5;66;03m# Converts the floating number to a string\u001b[39;00m\n\u001b[0;32m      8\u001b[0m \u001b[38;5;28mprint\u001b[39m(\u001b[38;5;124m\"\u001b[39m\u001b[38;5;124mtype of name_str: \u001b[39m\u001b[38;5;124m\"\u001b[39m, \u001b[38;5;28mtype\u001b[39m(name_str))\n\u001b[0;32m     10\u001b[0m my_list \u001b[38;5;241m=\u001b[39m \u001b[38;5;28mlist\u001b[39m((\u001b[38;5;241m1\u001b[39m, \u001b[38;5;241m2\u001b[39m, \u001b[38;5;241m3\u001b[39m))  \u001b[38;5;66;03m# Converts a tuple to a list\u001b[39;00m\n",
      "\u001b[1;31mTypeError\u001b[0m: 'str' object is not callable"
     ]
    }
   ],
   "source": [
    "x = int(3.14)  # Converts the float 3.14 to the integer 3\n",
    "print(\"type of x: \", type(x))\n",
    "\n",
    "y = float(\"5.6\")  # Converts the string \"5.6\" to the float 5.6\n",
    "print(\"type of y: \", type(y))\n",
    "\n",
    "name_str = str(10.20)  # Converts the floating number to a string\n",
    "print(\"type of name_str: \", type(name_str))\n",
    "\n",
    "my_list = list((1, 2, 3))  # Converts a tuple to a list\n",
    "print(\"type of my_list: \", type(my_list))\n",
    "\n",
    "is_valid = bool(0)  # Converts the integer 0 to the boolean False\n",
    "print(\"type of is_valid: \", type(is_valid))\n",
    "\n",
    "items = [(\"name\", \"Bob\"), (\"age\", 30)]\n",
    "my_dict = dict(items)  # Converts a list of tuples to a dictionary\n",
    "print(\"type of my_dict: \", type(my_dict))"
   ]
  },
  {
   "cell_type": "markdown",
   "id": "3db81aa5-1376-4b20-9c40-0e993f27c596",
   "metadata": {},
   "source": [
    "________________________________"
   ]
  },
  {
   "cell_type": "markdown",
   "id": "82a8a733-f6d8-40ec-ba80-5810680c5654",
   "metadata": {},
   "source": [
    "## Operators"
   ]
  },
  {
   "cell_type": "markdown",
   "id": "cad3ee78-65ce-483f-96ec-e2d40a69b322",
   "metadata": {},
   "source": [
    "Operators in Python are symbols or special keywords used to perform operations on variables and values. Python supports a wide range of operators, which can be categorized into the following types:\n",
    "1. Arithmatic Operators\n",
    "2. Comparison Operators\n",
    "3. Logical Operators\n",
    "4. Assignment Operators\n",
    "5. Membership Operators\n",
    "6. Identity Operators\n",
    "7. Bitwise Operators"
   ]
  },
  {
   "cell_type": "markdown",
   "id": "3fcface5-814d-418c-8f10-2dc9ffe465ba",
   "metadata": {},
   "source": [
    "1. **Arithmetic Operators:**\n",
    "\n",
    "   Arithmetic operators are used for performing mathematical operations on numbers.\n",
    "\n",
    "   - `+`: Addition\n",
    "   - `-`: Subtraction\n",
    "   - `*`: Multiplication\n",
    "   - `/`: Division (returns a float)\n",
    "   - `//`: Floor Division (returns an integer)\n",
    "   - `%`: Modulus (remainder)\n",
    "   - `**`: Exponentiation\n",
    "\n"
   ]
  },
  {
   "cell_type": "code",
   "execution_count": 20,
   "id": "f3d1cb1a-7363-40f3-84ce-e23952d88765",
   "metadata": {},
   "outputs": [
    {
     "name": "stdout",
     "output_type": "stream",
     "text": [
      "Addition of a and b:  13\n",
      "Subraction of a from b:  7\n",
      "Multiplication of a and b:  3.3333333333333335\n",
      "Division of a and b:  3.3333333333333335\n",
      "floor division of a and b:  3\n",
      "Modulus of a and b:  1\n",
      "a power b:  1000\n"
     ]
    }
   ],
   "source": [
    "a = 10\n",
    "b = 3\n",
    "print(\"Addition of a and b: \", a + b)\n",
    "print(\"Subraction of a from b: \", a - b)\n",
    "print(\"Multiplication of a and b: \", a / b)\n",
    "print(\"Division of a and b: \", a / b)\n",
    "print(\"floor division of a and b: \", a // b)\n",
    "print(\"Modulus of a and b: \", a % b)\n",
    "print(\"a power b: \", a ** b)"
   ]
  },
  {
   "cell_type": "markdown",
   "id": "33d4087d-0efe-45d0-b7d7-57ca082d7f5d",
   "metadata": {},
   "source": [
    "2. **Comparison Operators:**\n",
    "\n",
    "   Comparison operators are used to compare values and return a Boolean result (`True` or `False`).\n",
    "\n",
    "   - `==`: Equal to\n",
    "   - `!=`: Not equal to\n",
    "   - `<`: Less than\n",
    "   - `>`: Greater than\n",
    "   - `<=`: Less than or equal to\n",
    "   - `>=`: Greater than or equal to"
   ]
  },
  {
   "cell_type": "code",
   "execution_count": 21,
   "id": "f482da89-53cb-4497-b2e2-baefe3fb9508",
   "metadata": {},
   "outputs": [
    {
     "name": "stdout",
     "output_type": "stream",
     "text": [
      "== operation:  False\n",
      "!= operation:  True\n",
      "< operation:  True\n",
      "> operation:  False\n",
      "<= operation:  True\n",
      ">= operation:  False\n"
     ]
    }
   ],
   "source": [
    "x = 5\n",
    "y = 10\n",
    "\n",
    "print(\"== operation: \", x==y)\n",
    "print(\"!= operation: \", x!=y)\n",
    "print(\"< operation: \", x<y)\n",
    "print(\"> operation: \", x>y)\n",
    "print(\"<= operation: \", x<=y)\n",
    "print(\">= operation: \", x>=y)"
   ]
  },
  {
   "cell_type": "markdown",
   "id": "dcc59645-b7e6-402b-981b-57df72a01251",
   "metadata": {},
   "source": [
    "3. **Logical Operators:**\n",
    "\n",
    "   Logical operators are used to combine and manipulate Boolean values.\n",
    "\n",
    "   - `and`: Logical AND (True if both operands are True)\n",
    "   - `or`: Logical OR (True if at least one operand is True)\n",
    "   - `not`: Logical NOT (Inverts the Boolean value)"
   ]
  },
  {
   "cell_type": "code",
   "execution_count": 22,
   "id": "e237bf44-bfca-41d0-8069-3b48e3e1b9e0",
   "metadata": {},
   "outputs": [
    {
     "name": "stdout",
     "output_type": "stream",
     "text": [
      "result_and =  False\n",
      "result_or =  True\n",
      "result_not =  False\n"
     ]
    }
   ],
   "source": [
    "is_true = True\n",
    "is_false = False\n",
    "\n",
    "print(\"result_and = \", is_true and is_false)\n",
    "print(\"result_or = \", is_true or is_false)\n",
    "print(\"result_not = \", not is_true)\n",
    "\n"
   ]
  },
  {
   "cell_type": "markdown",
   "id": "42df16e2-d25a-428f-bb3f-9e3fa004be39",
   "metadata": {},
   "source": [
    "4. **Assignment Operators:**\n",
    "\n",
    "   Assignment operators are used to assign values to variables.\n",
    "\n",
    "   - `=`: Assigns a value to a variable\n",
    "   - `+=`: Adds the right operand to the left operand and assigns the result to the left operand (e.g., `x += 1` is equivalent to `x = x + 1`)\n",
    "   - `-=`: Subtracts the right operand from the left operand and assigns the result to the left operand\n",
    "   - `*=`: Multiplies the left operand by the right operand and assigns the result to the left operand\n",
    "   - `/=`: Divides the left operand by the right operand and assigns the result to the left operand"
   ]
  },
  {
   "cell_type": "code",
   "execution_count": 23,
   "id": "96c14035-55c5-4018-a212-53d87d7c0f8b",
   "metadata": {},
   "outputs": [
    {
     "name": "stdout",
     "output_type": "stream",
     "text": [
      "Assignment: x = 5 5\n",
      "after increament += operator:  6\n",
      "after decreament -= operator:  5\n",
      "after *= operator:  25\n",
      "after /= operator:  5.0\n"
     ]
    }
   ],
   "source": [
    "x = 5\n",
    "print(\"Assignment: x = 5\",x)\n",
    "\n",
    "x += 1\n",
    "print(\"after increament += operator: \", x)\n",
    "\n",
    "x -= 1\n",
    "print(\"after decreament -= operator: \", x)\n",
    "\n",
    "x *= 5\n",
    "print(\"after *= operator: \", x)\n",
    "\n",
    "x /= 5\n",
    "print(\"after /= operator: \", x)"
   ]
  },
  {
   "cell_type": "markdown",
   "id": "de81b536-3217-445e-a371-12c6cbdb27ed",
   "metadata": {},
   "source": [
    "5. **Membership Operators:**\n",
    "\n",
    "   Membership operators are used to test if a value is present in a sequence (e.g., string, list, tuple).\n",
    "\n",
    "   - `in`: Returns `True` if the value is found in the sequence.\n",
    "   - `not in`: Returns `True` if the value is not found in the sequence."
   ]
  },
  {
   "cell_type": "code",
   "execution_count": 24,
   "id": "ed8f00d7-ff4c-411f-a9c9-5daf87434e93",
   "metadata": {},
   "outputs": [
    {
     "name": "stdout",
     "output_type": "stream",
     "text": [
      "True\n",
      "False\n"
     ]
    }
   ],
   "source": [
    "fruits = ['apple', 'banana', 'cherry']\n",
    "is_banana_in_fruits = 'banana' in fruits\n",
    "\n",
    "print(is_banana_in_fruits)\n",
    "\n",
    "is_orange_in_fruits = 'orange' in fruits\n",
    "print(is_orange_in_fruits)"
   ]
  },
  {
   "cell_type": "markdown",
   "id": "99ef02f9-df61-4133-9d6a-772e2ef2da73",
   "metadata": {},
   "source": [
    "6. **Identity Operators:**\n",
    "\n",
    "   Identity operators are used to compare the memory location of two objects.\n",
    "\n",
    "   - `is`: Returns `True` if both operands refer to the same object.\n",
    "   - `is not`: Returns `True` if both operands do not refer to the same object."
   ]
  },
  {
   "cell_type": "code",
   "execution_count": 25,
   "id": "22e23821-2bde-44e0-97fe-819360f02c7f",
   "metadata": {},
   "outputs": [
    {
     "name": "stdout",
     "output_type": "stream",
     "text": [
      "True\n",
      "True\n"
     ]
    }
   ],
   "source": [
    "a = [1, 2, 3]\n",
    "b = a  # b refers to the same object as a\n",
    "is_same_object = a is b\n",
    "\n",
    "print(is_same_object)\n",
    "\n",
    "my_var = 20\n",
    "My_var = 20\n",
    "result = my_var is My_var\n",
    "print(result)"
   ]
  },
  {
   "cell_type": "markdown",
   "id": "beb35aaf-392d-4c93-925b-e9fdd348d26e",
   "metadata": {},
   "source": [
    "7. **Bitwise Operators:**\n",
    "\n",
    "   Bitwise operators are used to manipulate individual bits of integer values.\n",
    "\n",
    "   - `&`: Bitwise AND\n",
    "   - `|`: Bitwise OR\n",
    "   - `^`: Bitwise XOR (exclusive OR)\n",
    "   - `~`: Bitwise NOT (complement)\n",
    "   - `<<`: Left shift\n",
    "   - `>>`: Right shift"
   ]
  },
  {
   "cell_type": "code",
   "execution_count": 26,
   "id": "b6e988f2-d466-4f1f-a396-0eea328da7a2",
   "metadata": {},
   "outputs": [
    {
     "name": "stdout",
     "output_type": "stream",
     "text": [
      "a & b:  1\n",
      "a | b:  7\n",
      "a ^ b:  6\n",
      "a ~ b:  -6\n",
      "a << b:  12\n",
      "a >> b:  0\n"
     ]
    }
   ],
   "source": [
    "a = 3                   #0011\n",
    "b = 5                   #0101\n",
    "\n",
    "print(\"a & b: \", a & b)\n",
    "print(\"a | b: \", a | b)\n",
    "print(\"a ^ b: \", a ^ b)\n",
    "print(\"a ~ b: \", ~b)\n",
    "print(\"a << b: \", a << 2)\n",
    "print(\"a >> b: \", a >> 2)"
   ]
  },
  {
   "cell_type": "markdown",
   "id": "a0d524c7-ea34-4ddc-9f11-f6ef394d634a",
   "metadata": {},
   "source": [
    "__________________________"
   ]
  },
  {
   "cell_type": "markdown",
   "id": "cbffd031-1bca-40f3-98b5-d59cea31d581",
   "metadata": {},
   "source": [
    "## Input and Output "
   ]
  },
  {
   "cell_type": "markdown",
   "id": "8fee4603-f212-42be-962b-e212f37a7f84",
   "metadata": {},
   "source": [
    "For taking an input from user, Python have a function builtin function \"input()\". By defualt this function takes input in as data type.  And for display any output on screen python have print() function. "
   ]
  },
  {
   "cell_type": "code",
   "execution_count": 27,
   "id": "16dbba18-8ede-4374-a55f-756ce622255e",
   "metadata": {},
   "outputs": [
    {
     "name": "stdin",
     "output_type": "stream",
     "text": [
      "Enter name:  Deepak\n"
     ]
    }
   ],
   "source": [
    "my_input = input(\"Enter name: \")            # here 'Enter name:' is placeholder"
   ]
  },
  {
   "cell_type": "code",
   "execution_count": 28,
   "id": "bcc397a5-5372-4e87-8ef7-5f70684f6900",
   "metadata": {},
   "outputs": [
    {
     "data": {
      "text/plain": [
       "'Deepak'"
      ]
     },
     "execution_count": 28,
     "metadata": {},
     "output_type": "execute_result"
    }
   ],
   "source": [
    "my_input"
   ]
  },
  {
   "cell_type": "code",
   "execution_count": 29,
   "id": "f419b01c-d9ae-4042-a7e9-def4da13a6c9",
   "metadata": {},
   "outputs": [
    {
     "name": "stdin",
     "output_type": "stream",
     "text": [
      "Enter age:  21\n"
     ]
    },
    {
     "name": "stdout",
     "output_type": "stream",
     "text": [
      "21\n"
     ]
    }
   ],
   "source": [
    "my_age = input(\"Enter age: \")\n",
    "print(my_age)"
   ]
  },
  {
   "cell_type": "code",
   "execution_count": 30,
   "id": "a9891b09-bef9-424e-bf95-5ee0159f7caf",
   "metadata": {},
   "outputs": [
    {
     "data": {
      "text/plain": [
       "str"
      ]
     },
     "execution_count": 30,
     "metadata": {},
     "output_type": "execute_result"
    }
   ],
   "source": [
    "type(my_age)"
   ]
  },
  {
   "cell_type": "markdown",
   "id": "2819e71d-57dd-4c0e-866e-f99520909125",
   "metadata": {},
   "source": [
    "So, for taking integer value or float value we use type casting while taking input."
   ]
  },
  {
   "cell_type": "code",
   "execution_count": 31,
   "id": "375eb95b-a330-4b6e-bfae-7b10f4968d06",
   "metadata": {},
   "outputs": [
    {
     "name": "stdin",
     "output_type": "stream",
     "text": [
      "Enter age:  21\n"
     ]
    },
    {
     "name": "stdout",
     "output_type": "stream",
     "text": [
      "21\n",
      "<class 'int'>\n"
     ]
    }
   ],
   "source": [
    "my_age = int(input(\"Enter age: \"))\n",
    "print(my_age)\n",
    "print(type(my_age))"
   ]
  },
  {
   "cell_type": "code",
   "execution_count": 32,
   "id": "03dc4aca-c560-4187-8364-da26f5a78e79",
   "metadata": {},
   "outputs": [
    {
     "name": "stdout",
     "output_type": "stream",
     "text": [
      "My name is Deepak,  I am 21 years old.\n"
     ]
    }
   ],
   "source": [
    "# print fucntion takes many values at a single time with comma sepration.\n",
    "\n",
    "print(\"My name is Deepak, \", \"I am 21 years old.\")"
   ]
  },
  {
   "cell_type": "code",
   "execution_count": 33,
   "id": "6bfb3d21-76a4-42c0-98b5-382556423da2",
   "metadata": {},
   "outputs": [
    {
     "name": "stdout",
     "output_type": "stream",
     "text": [
      "My name is Deepak,I am 21 years old.\n"
     ]
    }
   ],
   "source": [
    "# we can use sep argument in print function for separation of two values. \n",
    "print(\"My name is Deepak\", \"I am 21 years old.\", sep = \",\")    "
   ]
  },
  {
   "cell_type": "markdown",
   "id": "ec599482-d3ae-4887-b371-e74d67144e49",
   "metadata": {},
   "source": [
    "Parameters of print():\n",
    "1. objects (optional): This is the main parameter and represents the values you want to print. You can specify one or more objects to be printed, separated by commas. These objects will be converted to strings and displayed on the console.\n",
    "2. sep (optional): This parameter specifies the separator to be used between the objects when they are printed. The default separator is a space (\" \").\n",
    "3. end (optional): The end parameter specifies what should be printed at the end of the print() function. By default, it is a newline character ('\\n'), which means that each print() call ends with a newline. You can change it to any string.\n",
    "4. file (optional): You can specify a file-like object (e.g., a file opened in write mode) to which the output should be written. By default, print() writes to the standard output (usually the console)."
   ]
  },
  {
   "cell_type": "markdown",
   "id": "c6641d8b-5db0-4e72-9d43-6313211ce26c",
   "metadata": {},
   "source": [
    "Parameters of input():\n",
    "1. prompt (optional): The prompt parameter is a string that is displayed to the user before waiting for input. It serves as a message or instruction to the user about what input is expected."
   ]
  }
 ],
 "metadata": {
  "kernelspec": {
   "display_name": "Python 3 (ipykernel)",
   "language": "python",
   "name": "python3"
  },
  "language_info": {
   "codemirror_mode": {
    "name": "ipython",
    "version": 3
   },
   "file_extension": ".py",
   "mimetype": "text/x-python",
   "name": "python",
   "nbconvert_exporter": "python",
   "pygments_lexer": "ipython3",
   "version": "3.11.5"
  }
 },
 "nbformat": 4,
 "nbformat_minor": 5
}
