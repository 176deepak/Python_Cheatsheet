{
 "cells": [
  {
   "cell_type": "markdown",
   "id": "af1ecc9d-689b-46e8-8a5a-58821714d5dc",
   "metadata": {},
   "source": [
    "# NUMPY LIBRARY"
   ]
  },
  {
   "cell_type": "markdown",
   "id": "8a7615fc-ac07-4532-8260-d88f7e9b0196",
   "metadata": {},
   "source": [
    "NumPy, short for \"Numerical Python,\" is a fundamental package in Python for numerical and scientific computing. It provides support for large, multi-dimensional arrays and matrices, as well as a wide range of mathematical functions to operate on these arrays. NumPy is an essential library for data scientists, engineers, and researchers working with numerical data in Python.\r\n",
    "\r\n",
    "Here are some key features and components of NumPy:\r\n",
    "\r\n",
    "1. **Multi-Dimensional Arrays:** The core data structure in NumPy is the `numpy.ndarray` (often referred to as \"numpy array\"). These arrays are homogeneous, meaning they contain elements of the same data type, and they can have any number of dimensions. NumPy arrays are more memory-efficient and faster for numerical operations than Python lists.\r\n",
    "\r\n",
    "2. **Mathematical Operations:** NumPy provides a wide range of mathematical operations for performing element-wise calculations on arrays. This includes basic arithmetic, trigonometry, linear algebra, statistics, and more. NumPy functions are optimized for performance and can handle large datasets efficiently.\r\n",
    "\r\n",
    "3. **Random Number Generation:** NumPy includes a random number generation module (`numpy.random`) that allows you to create arrays of random data. This is useful for simulations, statistical analysis, and machine learning tasks.\r\n",
    "\r\n",
    "4. **Broadcasting:** NumPy allows you to perform operations on arrays of different shapes, as long as they are compatible. This feature is called broadcasting, and it simplifies many common array manipulation tasks.\r\n",
    "\r\n",
    "5. **Integration with Other Libraries:** NumPy is often used in conjunction with other scientific and data analysis libraries in Python, such as SciPy (for scientific computing), pandas (for data manipulation), and Matplotlib (for data visualization).\r\n",
    "\r\n",
    "6. **Efficiency:** NumPy is implemented in C and Fortran and provides a high-performance computing environment for numerical operations. It's highly optimized and efficient, making it suitable for large-scale datical operations are performed on them.\r\n",
    "\r\n",
    "NumPy is a foundational library for scientific computing and data analysis in Python. Its ease of use, efficiency, and extensive functionality make it an essential tool for a wide range of applications, including machine learning, data analysis, numerical simulations, and more."
   ]
  },
  {
   "cell_type": "markdown",
   "id": "c54316b5-5a4e-43e5-921a-b7298c295efe",
   "metadata": {},
   "source": [
    "## Creating Numpy Arrays\n",
    "\n",
    "Numpy array is a homogenous data structure, means it only contains elements of single data type. Numpy array can be multi-dimensional array. We can access elements of array using indexing. \n",
    "`numpy.array` is a method for creating arrays."
   ]
  },
  {
   "cell_type": "code",
   "execution_count": null,
   "id": "0db6ba65-2323-4f79-9241-94d1f383e0d9",
   "metadata": {},
   "outputs": [],
   "source": [
    "import numpy as np"
   ]
  },
  {
   "cell_type": "code",
   "execution_count": null,
   "id": "2deba3a5-46e9-4200-bfdd-c1f9a9af132d",
   "metadata": {},
   "outputs": [],
   "source": [
    "# numpy arrays 1-D\n",
    "\n",
    "my_list1 = [1, 2, 3, 4, 5]\n",
    "my_list2 = [\"Hello\", \"Numpy\", \"Arrays\", \"hii\", \" \"]\n",
    "my_list3 = [1.5, 2.10, 3.256, 4.40, 55.1]\n",
    "\n",
    "my_array1 = np.array(my_list1)\n",
    "my_array2 = np.array(my_list2)\n",
    "my_array3 = np.array(my_list3)\n",
    "\n",
    "print(my_array1)\n",
    "print(my_array2)\n",
    "print(my_array3)"
   ]
  },
  {
   "cell_type": "code",
   "execution_count": null,
   "id": "b2c30fbd-7335-4dde-9ad3-9390e58b7d47",
   "metadata": {},
   "outputs": [],
   "source": [
    "'''\n",
    "if we want to create single array of multiple datatypes, it don't gives us error\n",
    "we know that array is data structure that only store values of single datatype, and if we pass mixed datatypes values than NumPy will automatically \n",
    "convert all the elements to a common data type that can accommodate all the values.\n",
    "'''\n",
    "\n",
    "md_list = [\"Hello\", 5.50, 11, True, None]\n",
    "\n",
    "try:\n",
    "    md_array = np.array(md_list)\n",
    "except Exception as e:\n",
    "    print(\"arrays can be of single data types only.\")\n",
    "else:\n",
    "    print(md_array)"
   ]
  },
  {
   "cell_type": "code",
   "execution_count": null,
   "id": "ad10b8cf-51f6-4c9d-b3a1-05ab6e75890c",
   "metadata": {},
   "outputs": [],
   "source": [
    "# arrays of multidimensional, we use array() function for creating multidimensional arrays as well.\n",
    "\n",
    "# 2D array\n",
    "my_2d = np.array([[1, 2, 3], [4, 5, 6]])\n",
    "\n",
    "print(\"2D array:\\n\",my_2d)\n",
    "\n",
    "print()\n",
    "\n",
    "#3D array\n",
    "my_3d = np.array([[[1, 2, 3,], [4, 5, 6], [7, 8, 9]]])\n",
    "\n",
    "print(\"3D array:\\n\", my_3d)"
   ]
  },
  {
   "cell_type": "markdown",
   "id": "1f4a1db0-49a5-4560-ba3f-c0c49a67f39d",
   "metadata": {},
   "source": [
    "## Dimensional, Shape & datatype of array\n",
    "\n",
    "1. For getting dimensions of an array numpy provide us `ndim` property: returns `single number` as dimension like `2, 3`.\n",
    "2. For getting shape of array numpy provide us `.shape` property: returns a tuple:\n",
    "    - The number of elements in the tuple is the number of axes.\n",
    "    - Each tuple element stores the number of elements of the corresponding axis.\n",
    "3. For getting datatype of array numpy provide us `.dtype` property: returns `datatype`"
   ]
  },
  {
   "cell_type": "code",
   "execution_count": null,
   "id": "c701f24d-81c3-455a-846a-7f9c167c55b7",
   "metadata": {},
   "outputs": [],
   "source": [
    "print(\"dimension of my_array1: \", my_array1.ndim)                          # dimensions of array \n",
    "print(\"shape of my_array1: \", my_array1.shape)                             # shape of array\n",
    "print(\"datatyoe of my_array1: \", my_array1.dtype)                          # datatype of array\n",
    "\n",
    "print()\n",
    "\n",
    "print(\"dimension of my_2d: \", my_2d.ndim)                          # dimensions of array \n",
    "print(\"shape of my_2d: \", my_2d.shape)                             # shape of array\n",
    "print(\"datatyoe of my_2d: \", my_2d.dtype)                          # datatype of array\n",
    "\n",
    "print()\n",
    "\n",
    "print(\"dimension of my_3d: \", my_3d.ndim)                          # dimensions of array \n",
    "print(\"shape of my_3d: \", my_3d.shape)                             # shape of array\n",
    "print(\"datatyoe of my_3d: \", my_3d.dtype)                          # datatype of array"
   ]
  },
  {
   "cell_type": "markdown",
   "id": "5ce8f9bd-4d60-4191-b9ba-a1133f52075f",
   "metadata": {},
   "source": [
    "## np.zeros()\n",
    "\n",
    "This function allows us to create a numpy array of a difined shape. The elements of this array are filled with only zeros as the name suggest.\n",
    "By `defualt` it creates array with `float64` datatype."
   ]
  },
  {
   "cell_type": "code",
   "execution_count": null,
   "id": "2d82f9ac-ef04-43ff-95fc-e764efcc8c69",
   "metadata": {},
   "outputs": [],
   "source": [
    "# array with zero valued elements\n",
    "\n",
    "my_zero_arr = np.zeros(shape=(2, 3))\n",
    "print(\"Zero array:\\n\", my_zero_arr)\n",
    "print(\"datatype: \", my_zero_arr.dtype)"
   ]
  },
  {
   "cell_type": "markdown",
   "id": "93721d5d-2369-4683-b861-b0ab0d4fd736",
   "metadata": {},
   "source": [
    "## np.ones()\n",
    "\n",
    "This function allows us to create a numpy of a defined shape. The elements of this array are filled with only ones as the name suggest. By `defualt` it creates array with `float64` datatype."
   ]
  },
  {
   "cell_type": "code",
   "execution_count": null,
   "id": "610662ed-d2e3-4f23-a797-a041ced49774",
   "metadata": {},
   "outputs": [],
   "source": [
    "my_one_arr = np.ones(shape=(3, 2, 3))\n",
    "print(\"One array:\\n\", my_one_arr)\n",
    "print(\"datatype: \", my_one_arr.dtype)"
   ]
  },
  {
   "cell_type": "markdown",
   "id": "12c32e31-4970-4a0e-acdf-a08e00031f65",
   "metadata": {},
   "source": [
    "## np.arange()\n",
    "\n",
    "The numpy arange() function creates a new numpy array with evenly spaced numbers between start (inclusive) and stop (exclusive) with a given step.\n",
    "```python\n",
    "numpy.arange(start, stop, step, dtype=None, *, like=None)\n",
    "```"
   ]
  },
  {
   "cell_type": "code",
   "execution_count": null,
   "id": "80a820c4-df23-4f1f-a486-b5edbbcd4fcb",
   "metadata": {},
   "outputs": [],
   "source": [
    "# integer\n",
    "\n",
    "a = np.arange(1, 10, 2)\n",
    "print(a)"
   ]
  },
  {
   "cell_type": "code",
   "execution_count": null,
   "id": "92169c4a-3b06-421b-9696-045e9fed4237",
   "metadata": {},
   "outputs": [],
   "source": [
    "# float\n",
    "\n",
    "a = np.arange(1.0, 10.0, 2)\n",
    "print(a)"
   ]
  },
  {
   "cell_type": "markdown",
   "id": "86c6b32e-d9e7-4661-b089-c1370878d5d1",
   "metadata": {},
   "source": [
    "## np.linspace()  \n",
    "\n",
    "The numpy linspace() function creates a new numpy array with evenly spaced numbers over a given interval.\n",
    "\n",
    "```\n",
    "numpy.linspace(start, stop, num=50, endpoint=True, retstep=False, dtype=None, axis=0)\n",
    "```\n",
    "\n",
    "The linspace() works like the arange() function. But instead of specifying the step size, it defines the number of elements in the interval between the start and stop values."
   ]
  },
  {
   "cell_type": "code",
   "execution_count": null,
   "id": "0d077a93-ce83-469f-b8b9-88305d652c37",
   "metadata": {},
   "outputs": [],
   "source": [
    "arr1 = np.linspace(1, 10, num=20, axis=0)\n",
    "print(\"array with column:\\n\", arr1)"
   ]
  },
  {
   "cell_type": "markdown",
   "id": "d21710bb-b8b7-42d3-9566-062b9437909a",
   "metadata": {},
   "source": [
    "## Indexing\n",
    "\n",
    "Like a list, we can use the square bracket notation ([]) to access elements of a numpy array"
   ]
  },
  {
   "cell_type": "code",
   "execution_count": null,
   "id": "979cfe1e-1d4f-4a61-9b86-bad44543482c",
   "metadata": {},
   "outputs": [],
   "source": [
    "# 1D indexing: we simply use [] and index numbers like list for accessing elements of 1-d array\n",
    "\n",
    "a = np.arange(0, 5)\n",
    "print(a)\n",
    "\n",
    "print(a[0])\n",
    "print(a[1])\n",
    "print(a[-1])"
   ]
  },
  {
   "cell_type": "code",
   "execution_count": null,
   "id": "d72ea31e-16be-49c3-947c-c9741d4c2dbd",
   "metadata": {},
   "outputs": [],
   "source": [
    "'''\n",
    "2D indexing: In 2D array we use [] also same as 1D. \n",
    "But if we use pass single number in [], it will return complete row from matrix not the element. \n",
    "And if we want to access only a single element then we pass 2 values in []. First is row number and 2nd number is element index number.\n",
    "'''\n",
    "\n",
    "# 2d indexing\n",
    "a = np.array([\n",
    "    [1, 2, 3],\n",
    "    [4, 5, 6]\n",
    "])\n",
    "\n",
    "print(a.shape)\n",
    "\n",
    "print(a[0])  # [1 2 3]\n",
    "print(a[1])  # [4 5 6]\n",
    "\n",
    "print(a[0, 0])  # 1\n",
    "print(a[1, 0])  # 4\n",
    "print(a[0, 2])  # 3\n",
    "print(a[1, 2])  # 6\n",
    "print(a[0, -1])  # 3\n",
    "print(a[1, -1])  # 6"
   ]
  },
  {
   "cell_type": "code",
   "execution_count": null,
   "id": "dc12f861-e2e6-42f4-81fc-c9b5191e442b",
   "metadata": {},
   "outputs": [],
   "source": [
    "# we can also access elements like this\n",
    "\n",
    "print(a[0][1])                     # a[0] returns a list and on that list here we apply indexing, means we access [1]th index element."
   ]
  },
  {
   "cell_type": "code",
   "execution_count": null,
   "id": "0f90a358-5e4d-4a75-a1b4-ce2ee0a1883a",
   "metadata": {},
   "outputs": [],
   "source": [
    "# 3D indexing: Like 2D indexing, we can access elements of 3d array. \n",
    "# But, here we pass 3 values in [], becuase we in 3D array we have 3 axis.\n",
    "\n",
    "# 3d array\n",
    "a = np.array([\n",
    "    [[1, 2], [3, 4], [5, 6]],\n",
    "    [[5, 6], [7, 8], [9, 10]],\n",
    "])\n",
    "\n",
    "print(a.shape)\n",
    "\n",
    "# indexing\n",
    "print(a[0, 0, 1])"
   ]
  },
  {
   "cell_type": "code",
   "execution_count": null,
   "id": "57cfd5ae-7116-4681-b0de-f1ee8b2ed552",
   "metadata": {},
   "outputs": [],
   "source": [
    "# also we can access elements like \n",
    "\n",
    "print(a[0][0][1])                                      # list indexing"
   ]
  },
  {
   "cell_type": "markdown",
   "id": "325b193f-a967-4a40-ade6-3db82228e027",
   "metadata": {},
   "source": [
    "## Array Slicing\n",
    "\n",
    "NumPy arrays use brackets [] and : notations for slicing like lists. By using slices, you can select a range of elements in an array with the following syntax.\n",
    "```\n",
    "[m:n:k]\n",
    "```\n",
    "The following expression selects every k element between m and n. Or increments the index pointer by k.\n",
    "\n",
    "If k is negative, the slice returns elements in reversed order starting from m to n+1."
   ]
  },
  {
   "cell_type": "code",
   "execution_count": null,
   "id": "f0fb4264-1cf8-4eca-80a1-a7733856a0c7",
   "metadata": {},
   "outputs": [],
   "source": [
    "import numpy as np\n",
    "\n",
    "a = np.arange(0, 10)\n",
    "\n",
    "print('a=', a)\n",
    "print('a[2:5]=', a[2:5])\n",
    "print('a[:]=', a[:])\n",
    "print('a[0:-1]=', a[0:-1])                             # from 0 to n-1\n",
    "print('a[0:6]=', a[0:6])\n",
    "print('a[7:]=', a[7:])\n",
    "print('a[5:-1]=', a[5:-1])                                 # from 5th index element to n-1 element\n",
    "print('a[0:5:2]=', a[0:5:2])\n",
    "print('a[::-1]=', a[::-1])      #The -1 specifies the step size. A step size of -1 means \"move backward through the sequence, one element at a time.\""
   ]
  },
  {
   "cell_type": "code",
   "execution_count": null,
   "id": "8c800eca-8b04-46e1-97cf-d996979f1759",
   "metadata": {},
   "outputs": [],
   "source": [
    "# slicing on multidimensional array\n",
    "\n",
    "a = np.array([\n",
    "    [1, 2, 3],\n",
    "    [4, 5, 6],\n",
    "    [7, 8, 9]\n",
    "])\n",
    "\n",
    "\n",
    "print(a[0:2, :])                                # same as we access elements using indexing, here we mention slices of array at place of indexes\n",
    "       #row #column"
   ]
  },
  {
   "cell_type": "markdown",
   "id": "37fe7919-bf08-4df1-bd53-d7958fe5b883",
   "metadata": {},
   "source": [
    "from above code, first we mention slice of rows of array from 0 to 2-1 means 0 and 1, and after that we mention :, means all columns of array "
   ]
  },
  {
   "cell_type": "markdown",
   "id": "4ca9c529-4897-410d-93c4-49676d54dc19",
   "metadata": {},
   "source": [
    "## Fancy indexing\n",
    "\n",
    "Besides using indexing & slicing, NumPy provides you with a convenient way to index an array called fancy indexing.\n",
    "\n",
    "Fancy indexing allows you to index a numpy array using the following:\n",
    "\n",
    "1. Another numpy array\n",
    "2. A Python list\n",
    "3. A sequence of integers"
   ]
  },
  {
   "cell_type": "code",
   "execution_count": null,
   "id": "1e028578-c7d3-46d4-a3c7-94cdad8adb0f",
   "metadata": {},
   "outputs": [],
   "source": [
    "a = np.arange(1, 10)\n",
    "print(a)\n",
    "\n",
    "indices = np.array([2, 3, 4])\n",
    "print(a[indices])"
   ]
  },
  {
   "cell_type": "code",
   "execution_count": null,
   "id": "d60a3dbe-d3d0-4f31-bf12-54ede170d56b",
   "metadata": {},
   "outputs": [],
   "source": [
    "# boolean indexing\n",
    "\n",
    "a = np.array([1, 2, 3])\n",
    "b = np.array([True, True, False])\n",
    "c = a[b]\n",
    "print(c)"
   ]
  },
  {
   "cell_type": "code",
   "execution_count": null,
   "id": "f3d81a5c-c395-4000-9f71-9e102141a6a6",
   "metadata": {},
   "outputs": [],
   "source": [
    "\n",
    "a = np.arange(1, 10)\n",
    "b = a > 5\n",
    "print(b)\n",
    "\n",
    "c = a[b]\n",
    "print(c)"
   ]
  },
  {
   "cell_type": "markdown",
   "id": "e473b65c-c525-49dd-a743-16d4c39cdfaa",
   "metadata": {},
   "source": [
    "### 1 problem with slicing\n",
    "\n",
    "When you access a range of elements from a array as a subarray, and if you update this subarray element with new value. The changes will reflect in original array also. Why? Becuase when we access a subarray numpy provide a subarray as view() of original array."
   ]
  },
  {
   "cell_type": "code",
   "execution_count": null,
   "id": "994da12f-caeb-44e4-b9bf-1e94f54933ca",
   "metadata": {},
   "outputs": [],
   "source": [
    "a = np.array([\n",
    "    [1, 2, 3],\n",
    "    [4, 5, 6]\n",
    "])\n",
    "\n",
    "b = a[0:, 0:2]\n",
    "print(b)\n",
    "\n",
    "b[0, 0] = 0\n",
    "print(b)\n",
    "print(a)"
   ]
  },
  {
   "cell_type": "markdown",
   "id": "36c4e573-8d17-4763-8cc2-c83c4d9232fe",
   "metadata": {},
   "source": [
    "### How we avoid this\n",
    "\n",
    "for avoiding this problem numpy have a .copy() method, which returns copy of subarray from original array."
   ]
  },
  {
   "cell_type": "code",
   "execution_count": null,
   "id": "e755ac4e-3f14-423e-8542-f53478afc6a0",
   "metadata": {},
   "outputs": [],
   "source": [
    "a = np.array([\n",
    "    [1, 2, 3],\n",
    "    [4, 5, 6]\n",
    "])\n",
    "\n",
    "# make a copy\n",
    "b = a[0:, 0:2].copy()\n",
    "print(b)\n",
    "\n",
    "b[0, 0] = 0\n",
    "print(b)\n",
    "\n",
    "print(a)"
   ]
  },
  {
   "cell_type": "markdown",
   "id": "8bdfc7a9-e2fa-4dca-82c5-0d7a1ddfdffe",
   "metadata": {},
   "source": [
    "## Aggregate Functions"
   ]
  },
  {
   "cell_type": "code",
   "execution_count": null,
   "id": "b1e89108-4fe8-4839-88ca-e36a6e0cc654",
   "metadata": {},
   "outputs": [],
   "source": [
    "# sum(): returns the sum of all elements\n",
    "\n",
    "my_arr = np.arange(1, 10)\n",
    "print(\"my_arr: \", my_arr)\n",
    "\n",
    "sum = np.sum(my_arr)\n",
    "print(\"Sum of elements: \", sum)"
   ]
  },
  {
   "cell_type": "code",
   "execution_count": null,
   "id": "1e686488-23d2-46c4-b74a-75db68930534",
   "metadata": {},
   "outputs": [],
   "source": [
    "# sum function for also accept axis argument: \n",
    "# when\n",
    "    # axis = 0, returns sum w.r. to rows\n",
    "    # axis = 1, returns sum w.r. to columns\n",
    "\n",
    "a = np.array([\n",
    "    [1, 2, 3],\n",
    "    [4, 5, 6]\n",
    "])\n",
    "\n",
    "total = np.sum(a, axis=0)\n",
    "print(total)"
   ]
  },
  {
   "cell_type": "code",
   "execution_count": null,
   "id": "81584b17-8176-4f9e-a4ef-ef56bad186a9",
   "metadata": {},
   "outputs": [],
   "source": [
    "# mean(): returns average of elements of array\n",
    "# syntex: \n",
    "    #numpy.mean(a, axis=None, dtype=None, out=None, keepdims=<no value>, *, where=<no value>)\n",
    "\n",
    "# mean() on 1d array\n",
    "a = np.array([1, 2, 3])\n",
    "average = np.mean(a)\n",
    "print(average)"
   ]
  },
  {
   "cell_type": "code",
   "execution_count": null,
   "id": "33fd2225-0c57-41d8-b8dd-124256ee607f",
   "metadata": {},
   "outputs": [],
   "source": [
    "# mean on 2d array\n",
    "\n",
    "a = np.array([\n",
    "    [1, 2, 3],\n",
    "    [4, 5, 6]\n",
    "])\n",
    "\n",
    "# with rows\n",
    "average = np.mean(a, axis=0)\n",
    "print(average)"
   ]
  },
  {
   "cell_type": "code",
   "execution_count": null,
   "id": "0d78118e-24f3-4ff8-982a-d836f60a63a9",
   "metadata": {},
   "outputs": [],
   "source": [
    "a = np.array([\n",
    "    [1, 2, 3],\n",
    "    [4, 5, 6]\n",
    "])\n",
    "\n",
    "# with columns\n",
    "average = np.mean(a, axis=1)\n",
    "print(average)"
   ]
  },
  {
   "cell_type": "code",
   "execution_count": null,
   "id": "7e1175a0-6f0b-459e-9445-6d6f671723d5",
   "metadata": {},
   "outputs": [],
   "source": [
    "# var(): returns the variance of array\n",
    "# function: \n",
    "    # numpy.var(a, axis=None, dtype=None, out=None, ddof=0, keepdims=<no value>, *, where=<no value>)\n",
    "\n",
    "a = np.array([1, 2, 3])\n",
    "result = np.var(a)\n",
    "print(round(result,3))"
   ]
  },
  {
   "cell_type": "code",
   "execution_count": null,
   "id": "cb3d8357-bb20-4657-abb1-528025a10b47",
   "metadata": {},
   "outputs": [],
   "source": [
    "# std(): returns standard deviation of a array\n",
    "# function: \n",
    "    # numpy.std(a, axis=None, dtype=None, out=None, ddof=0, keepdims=<no value>, *, where=<no value>)\n",
    "\n",
    "diameters = np.array([591, 239, 210, 207, 201, 182,\n",
    "                      176, 176, 175, 170, 170, 169, 168, ])\n",
    "result = np.std(diameters)\n",
    "print(round(result, 1))"
   ]
  },
  {
   "cell_type": "code",
   "execution_count": null,
   "id": "ad554066-bd15-4e93-85d5-15194f0477da",
   "metadata": {},
   "outputs": [],
   "source": [
    "# prod(): calculate the product of elements of a array\n",
    "# function: \n",
    "    # numpy.prod(a, axis=None, dtype=None, out=None, keepdims=<no value>, initial=<no value>, where=<no value>)\n",
    "\n",
    "a = np.arange(1, 5)\n",
    "result = np.prod(a)\n",
    "\n",
    "print(a)\n",
    "print(f'result={result}')"
   ]
  },
  {
   "cell_type": "code",
   "execution_count": null,
   "id": "0c9bf093-2a69-4777-a191-544b9b6147de",
   "metadata": {},
   "outputs": [],
   "source": [
    "# amin(): The amin() function returns the minimum element of an array or minimum element along an axis.\n",
    "# function: \n",
    "    # numpy.amin(a, axis=None, out=None, keepdims=<no value>, initial=<no value>, where=<no value>)\n",
    "\n",
    "# on 1d array\n",
    "a = np.array([1, 2, 3])\n",
    "min = np.amin(a)\n",
    "print(min)\n",
    "\n",
    "# on 2d array\n",
    "a = np.array([\n",
    "    [1, 2],\n",
    "    [3, 4]]\n",
    ")\n",
    "min = np.amin(a, axis=1)\n",
    "print(min)"
   ]
  },
  {
   "cell_type": "code",
   "execution_count": null,
   "id": "466c9dcb-09c7-4195-8f82-2f3b3dfc4fc2",
   "metadata": {},
   "outputs": [],
   "source": [
    "# amax(): The amax() function returns the maximum element of an array or maximum element along an axis.\n",
    "# function: \n",
    "    # numpy.amax(a, axis=None, out=None, keepdims=<no value>, initial=<no value>, where=<no value>)\n",
    "\n",
    "# on 1d array\n",
    "a = np.array([1, 2, 3])\n",
    "min = np.amax(a)\n",
    "print(min)\n",
    "\n",
    "# on 2d array\n",
    "a = np.array([\n",
    "    [1, 2],\n",
    "    [3, 4]]\n",
    ")\n",
    "min = np.amax(a, axis=0)\n",
    "print(min)"
   ]
  },
  {
   "cell_type": "code",
   "execution_count": null,
   "id": "443363ea-cf27-4bb0-9e26-6697f6e12443",
   "metadata": {},
   "outputs": [],
   "source": [
    "# all(): The numpy all() function returns True if all elements in an array (or along a given axis) evaluate to True.\n",
    "# function: \n",
    "    # numpy.all(a, axis=None, out=None, keepdims=<no value>, *, where=<no value>)\n",
    "\n",
    "# on 1d array\n",
    "result = np.all([0, 1, 2, 3])\n",
    "print(result)\n",
    "result = np.all([1, 1, 2, 3])\n",
    "print(result)\n",
    "\n",
    "# on 2d array\n",
    "a = np.array([[0, 1], [2, 3]])\n",
    "result = np.all(a, axis=0)\n",
    "print(result)"
   ]
  },
  {
   "cell_type": "raw",
   "id": "c2a833f6-c084-4643-a42e-ff00a22fcd2b",
   "metadata": {},
   "source": [
    "#### Note:\n",
    "`axis = 0` = |\n",
    "             v\n",
    "`aixs = 1` = --->"
   ]
  },
  {
   "cell_type": "code",
   "execution_count": null,
   "id": "e20f2872-1ddc-428f-846f-f0e6d7227d46",
   "metadata": {},
   "outputs": [],
   "source": [
    "# any(): The numpy any() function returns True if any element in an array (or along a given axis) evaluates to True.\n",
    "# function:\n",
    "    # numpy.any(a, axis=None, out=None, keepdims=<no value>, *, where=<no value>)\n",
    "\n",
    "# on 1d array\n",
    "result = np.any([0, 0, 0, 3])\n",
    "print(result)\n",
    "result = np.any([0, 0, 0, 0])\n",
    "print(result)\n",
    "\n",
    "# on 2d array\n",
    "a = np.array([[0, 1], [2, 3]])\n",
    "result = np.any(a)\n",
    "print(result)"
   ]
  },
  {
   "cell_type": "markdown",
   "id": "e644cbb3-1831-4d67-ae47-639a75d443a8",
   "metadata": {},
   "source": [
    "## Array Operations - Modifications"
   ]
  },
  {
   "cell_type": "code",
   "execution_count": null,
   "id": "698d12a4-a22b-436f-aace-5bf3441583be",
   "metadata": {},
   "outputs": [],
   "source": [
    "# reshape(): The reshape() function changes the shape of an array without changing its elements.\n",
    "# function: \n",
    "    # numpy.reshape(a, newshape, order='C')\n",
    "\n",
    "# reshaping 1d array\n",
    "my_arr = np.arange(1, 10)\n",
    "print(my_arr)\n",
    "\n",
    "print()\n",
    "\n",
    "reshaped_arr = np.reshape(my_arr, (3, 3))\n",
    "print(reshaped_arr)"
   ]
  },
  {
   "cell_type": "markdown",
   "id": "513f64c9-e657-47da-b258-ec0539614a46",
   "metadata": {},
   "source": [
    "`Note`: Array reshaped_arr is view of array my_arr. It means that if you change an element of array reshaped_arr, the change is reflected in array my_arr."
   ]
  },
  {
   "cell_type": "code",
   "execution_count": null,
   "id": "2ded894b-eb59-434b-99ab-a5f4a6ba8ced",
   "metadata": {},
   "outputs": [],
   "source": [
    "reshaped_arr[0, 1] = 100\n",
    "print(reshaped_arr)\n",
    "print()\n",
    "print(my_arr)"
   ]
  },
  {
   "cell_type": "code",
   "execution_count": null,
   "id": "cc500bb6-580b-488d-885b-bfa1315ebc08",
   "metadata": {},
   "outputs": [],
   "source": [
    "# transpose(): The numpy transpose() function reverses the axes of an array.\n",
    "# function: \n",
    "    # numpy.transpose(a, axes=None)\n",
    "\n",
    "a = np.array([1, 2, 3])\n",
    "b = np.transpose(a, axes=0)\n",
    "print(b)\n"
   ]
  },
  {
   "cell_type": "markdown",
   "id": "5661c4c7-7d1c-47c0-a006-a804d27e9bf0",
   "metadata": {},
   "source": [
    "The transpose() function has no effect on a 1-D array because a transposed vector is simply the same vector."
   ]
  },
  {
   "cell_type": "code",
   "execution_count": null,
   "id": "074572a5-8143-436c-9270-1c5c41f8adff",
   "metadata": {},
   "outputs": [],
   "source": [
    "# on 2d array\n",
    "a = np.array([\n",
    "    [1, 2, 3],\n",
    "    [4, 5, 6]\n",
    "])\n",
    "\n",
    "b = np.transpose(a)\n",
    "print(b)"
   ]
  },
  {
   "cell_type": "code",
   "execution_count": null,
   "id": "e036b379-2130-43be-8eb7-b97d5503b71d",
   "metadata": {},
   "outputs": [],
   "source": [
    "# sort(): The sort() function returns a sorted copy of an array.\n",
    "# function: numpy.sort(a, axis=- 1, kind=None, order=None)\n",
    "\n",
    "# on 1d array\n",
    "a = np.array([2, 3, 1])\n",
    "b = np.sort(a)\n",
    "print(b)\n",
    "\n",
    "# on 2d array\n",
    "a = np.array([\n",
    "    [2, 3, 1],\n",
    "    [5, 6, 4]\n",
    "])\n",
    "\n",
    "b = np.sort(a)\n",
    "print(b)"
   ]
  },
  {
   "cell_type": "code",
   "execution_count": null,
   "id": "4cdfdfd4-2888-458e-b162-4ce4f9875b7a",
   "metadata": {},
   "outputs": [],
   "source": [
    "# sorting by order\n",
    "\n",
    "dtype = [('name', 'S10'),\n",
    "         ('year_of_services', float),\n",
    "         ('salary', float)]\n",
    "\n",
    "employees = [\n",
    "    ('Alice', 1.5, 12500),\n",
    "    ('Bob', 1, 15500),\n",
    "    ('Jane', 1, 11000)\n",
    "]\n",
    "\n",
    "payroll = np.array(employees, dtype=dtype)\n",
    "\n",
    "result = np.sort(\n",
    "    payroll,\n",
    "    order=['year_of_services', 'salary']\n",
    ")\n",
    "\n",
    "print(result)"
   ]
  },
  {
   "cell_type": "code",
   "execution_count": null,
   "id": "99f9b4e6-31c2-4e0f-87cd-7366016635d4",
   "metadata": {},
   "outputs": [],
   "source": [
    "# flatten(): The flatten() is a method of the ndarray class. The flatten() method returns a copy of an array collapsed into one dimension\n",
    "# function: ndarray.flatten(order='C')\n",
    "'''\n",
    "The order parameter specifies the order of elements of an array in the returned array. It accepts one of the following values:\n",
    "\n",
    "‘C’ means to flatten array elements into row-major order (C-style).\n",
    "‘F’ means to flatten array elements into column-major order (Fortran-style).\n",
    "‘A’ – means to flatten array elements in column-major order if a is Fortran contiguous in memory or row-major otherwise.\n",
    "‘K’ means to flatten array elements in order of the elements laid out in memory.\n",
    "By default, the order is ‘C’ which flattens the array elements into row-major.\n",
    "'''\n",
    "\n",
    "# 2d flatten \n",
    "a = np.array([[1, 2], [3, 4]])\n",
    "b = a.flatten(order='C')\n",
    "print(b)"
   ]
  },
  {
   "cell_type": "code",
   "execution_count": null,
   "id": "06d0f72f-0c46-43b0-92b1-ad1711e0e5b8",
   "metadata": {},
   "outputs": [],
   "source": [
    "# ravel(): The ravel() function accepts an array and returns a 1-D array containing the elements of the input array.\n",
    "# function: numpy.ravel(a, order='C') \n",
    "\n",
    "# The ravel() function creates a view of the array. "
   ]
  },
  {
   "cell_type": "markdown",
   "id": "4be657b7-4b68-4be3-973d-8ab91bdb9b90",
   "metadata": {},
   "source": [
    "## Arithmatic Operations on Arrays"
   ]
  },
  {
   "cell_type": "code",
   "execution_count": null,
   "id": "ac222831-05f0-46ab-a1c6-b4bc714b1a98",
   "metadata": {},
   "outputs": [],
   "source": [
    "# add(): \n",
    "# The + or add() function of two equal-sized arrays perform element-wise additions. It returns the sum of two arrays, element-wise.\n",
    "\n",
    "#on 1d array\n",
    "a = np.array([1, 2])\n",
    "b = np.array([2, 3])\n",
    "\n",
    "c = a + b\n",
    "print(c)\n",
    "\n",
    "# 2d array\n",
    "a = np.array([[1, 2], [3, 4]])\n",
    "b = np.array([[5, 6], [7, 8]])\n",
    "\n",
    "c = np.add(a, b)\n",
    "print(c)"
   ]
  },
  {
   "cell_type": "code",
   "execution_count": null,
   "id": "e7188989-1369-4763-b48e-92bedc3a47e9",
   "metadata": {},
   "outputs": [],
   "source": [
    "# subtract()\n",
    "# The - or subtract() function returns the difference between two equal-sized arrays by performing element-wise subtractions.\n",
    "\n",
    "# on 1d array\n",
    "a = np.array([1, 2])\n",
    "b = np.array([3, 4])\n",
    "\n",
    "c = b - a\n",
    "print(c)\n",
    "\n",
    "# on 2d arrays\n",
    "a = np.array([[1, 2], [3, 4]])\n",
    "b = np.array([[5, 6], [7, 8]])\n",
    "\n",
    "c = np.subtract(b, a)\n",
    "print(c)"
   ]
  },
  {
   "cell_type": "code",
   "execution_count": null,
   "id": "500d1f04-fa8a-4cb4-99ee-55e8ada2e3d8",
   "metadata": {},
   "outputs": [],
   "source": [
    "# multiply()\n",
    "# The * operator or multiply() function returns the product of two equal-sized arrays by performing element-wise multiplication.\n",
    "\n",
    "a = np.array([[1, 2], [3, 4]])\n",
    "b = np.array([[5, 6], [7, 8]])\n",
    "\n",
    "c = np.multiply(a, b)\n",
    "print(c)"
   ]
  },
  {
   "cell_type": "code",
   "execution_count": null,
   "id": "6a6b6ae7-c527-44af-804b-377a75b2e452",
   "metadata": {},
   "outputs": [],
   "source": [
    "# divide()\n",
    "# The / operator or divide() function returns the quotient of two equal-sized arrays by performing element-wise division.\n",
    "\n",
    "a = np.array([[10, 8], [6, 4]])\n",
    "b = np.array([[5, 2], [2, 1]])\n",
    "\n",
    "c = np.divide(a, b)\n",
    "print(c)\n"
   ]
  },
  {
   "cell_type": "markdown",
   "id": "96a39b19-916b-46db-b385-08312c0d9827",
   "metadata": {},
   "source": [
    "## NumPy Broadcasting\n",
    "\n",
    "By definition, broadcasting is a set of rules for applying arithmetic operations on arrays of different shapes. \n",
    "\n",
    "`NumPy broadcasting rules`\n",
    "NumPy defines a set of rules for broadcasting:\n",
    "\n",
    "- Rule 1: if two arrays have different dimensions, it pads ones on the left side of the shape of the array that has fewer dimensions.\n",
    "- Rule 2: if two dimensions of arrays do not match in any dimension, the array with a shape equal to one in that dimension is stretched (or broadcast) to match the shape of another array.\n",
    "- Rule 3: if any dimension of two arrays is not equal and neither is equal to one, NumPy raises an error."
   ]
  },
  {
   "cell_type": "code",
   "execution_count": null,
   "id": "bb0832ea-91a1-4e85-bb73-a5b147ecea5d",
   "metadata": {},
   "outputs": [],
   "source": [
    "a = np.array([\n",
    "    [1, 2, 3],\n",
    "    [4, 5, 6]\n",
    "])\n",
    "b = np.ones(3)\n",
    "c = a + b\n",
    "print(c)"
   ]
  },
  {
   "cell_type": "code",
   "execution_count": null,
   "id": "8538abef-bfed-4a7f-9fc7-31fdb7842d9b",
   "metadata": {},
   "outputs": [],
   "source": [
    "a = np.array([\n",
    "    [1],\n",
    "    [2],\n",
    "    [3],\n",
    "])\n",
    "print(f\"a shape: \", a.shape)\n",
    "\n",
    "b = np.array([1, 2, 3])\n",
    "print(f\"b shape: \", b.shape)\n",
    "\n",
    "c = a + b\n",
    "print(c)\n",
    "print(f\"c shape: \", c.shape)"
   ]
  },
  {
   "cell_type": "code",
   "execution_count": null,
   "id": "6cd9420f-b013-420b-b86b-4a75a5e279ca",
   "metadata": {},
   "outputs": [],
   "source": [
    "a = np.array([\n",
    "    [1, 2],\n",
    "    [3, 4],\n",
    "    [5, 6],\n",
    "])\n",
    "print(f\"a shape: \", a.shape)\n",
    "\n",
    "b = np.array([1, 2, 3])\n",
    "print(f\"b shape: \", b.shape)\n",
    "\n",
    "c = a + b"
   ]
  },
  {
   "cell_type": "markdown",
   "id": "fc74756c-1d98-4a67-a87d-8ccbb86ae6bc",
   "metadata": {},
   "source": [
    "## Joining and Spilting Arrays"
   ]
  },
  {
   "cell_type": "code",
   "execution_count": null,
   "id": "d486c0d8-463b-40da-8a38-bba3055724da",
   "metadata": {},
   "outputs": [],
   "source": [
    "# concatenate(): The concatenate() function allows you to join two or more arrays into a single array. \n",
    "\n",
    "# 1d array\n",
    "a = np.array([1, 2])\n",
    "b = np.array([3, 4])\n",
    "\n",
    "c = np.concatenate((a, b))\n",
    "print(c)\n",
    "\n",
    "# 2d array\n",
    "a = np.array([\n",
    "    [1, 2],\n",
    "    [3, 4]\n",
    "])\n",
    "b = np.array([\n",
    "    [5, 6],\n",
    "    [7, 8]\n",
    "])\n",
    "\n",
    "c = np.concatenate((a, b))\n",
    "print(c)"
   ]
  },
  {
   "cell_type": "code",
   "execution_count": null,
   "id": "a80cd240-51a8-49d8-bc37-c2a404d6deed",
   "metadata": {},
   "outputs": [],
   "source": [
    "# axis = 1 \n",
    "\n",
    "a = np.array([\n",
    "    [1, 2],\n",
    "    [3, 4]\n",
    "])\n",
    "b = np.array([\n",
    "    [5, 6],\n",
    "    [7, 8]\n",
    "])\n",
    "\n",
    "c = np.concatenate((a, b), axis=1)\n",
    "print(c)"
   ]
  },
  {
   "cell_type": "code",
   "execution_count": null,
   "id": "9593bf6a-197a-4bad-939d-b63a7cefddff",
   "metadata": {},
   "outputs": [],
   "source": [
    "# stack()\n",
    "# The stack() function two or more arrays into a single array. \n",
    "#Unlike the concatenate() function, the stack() function joins 1D arrays to be one 2D array and joins 2D arrays to be one 3D array.\n",
    "\n",
    "# on 1d array\n",
    "a = np.array([1, 2])\n",
    "b = np.array([3, 4])\n",
    "\n",
    "c = np.stack((a, b))\n",
    "print(c)\n",
    "c = np.stack((a, b), axis=1)\n",
    "print(c)\n",
    "\n",
    "# on 2d array\n",
    "a = np.array([\n",
    "    [1, 2],\n",
    "    [3, 4]\n",
    "])\n",
    "b = np.array([\n",
    "    [5, 6],\n",
    "    [7, 8]\n",
    "])\n",
    "\n",
    "c = np.stack((a, b))\n",
    "print(c)\n",
    "print(c.shape)"
   ]
  },
  {
   "cell_type": "code",
   "execution_count": null,
   "id": "6c21ab9d-1842-4460-977d-d7b1cff3b6af",
   "metadata": {},
   "outputs": [],
   "source": [
    "# vstack()\n",
    "# The vstack() function joins elements of two or more arrays into a single array vertically (row-wise).\n",
    "\n",
    "# All arrays a1, a2, .. must have the same shape along all but the first axis. If they’re 1D arrays, then they must have the same length.\n",
    "\n",
    "# on 1d array\n",
    "a = np.array([1, 2])\n",
    "b = np.array([3, 4])\n",
    "\n",
    "c = np.vstack((a, b))\n",
    "print(c)\n",
    "\n",
    "# on 2d array\n",
    "a = np.array([\n",
    "    [1, 2],\n",
    "    [3, 4]\n",
    "])\n",
    "b = np.array([\n",
    "    [5, 6],\n",
    "    [7, 8]\n",
    "])\n",
    "\n",
    "c = np.vstack((a, b))\n",
    "print(c)"
   ]
  },
  {
   "cell_type": "code",
   "execution_count": null,
   "id": "1199a5dd-115f-4d35-9e5b-8a1ebef78354",
   "metadata": {},
   "outputs": [],
   "source": [
    "# hstack()\n",
    "# The hstack() function joins elements of two or more arrays into a single array horizontally (column-wise).\n",
    "# All arrays a1, a2, .. must have the same shape along all but the second axis. If all arrays are 1D arrays, then they can have any length.\n",
    "\n",
    "# on 1d array\n",
    "a = np.array([1, 2])\n",
    "b = np.array([3, 4, 5])\n",
    "\n",
    "c = np.hstack((a, b))\n",
    "print(c)\n",
    "\n",
    "# on 2d array\n",
    "a = np.array([\n",
    "    [1, 2],\n",
    "    [3, 4]\n",
    "])\n",
    "b = np.array([\n",
    "    [5, 6],\n",
    "    [7, 8]\n",
    "])\n",
    "\n",
    "c = np.hstack((a, b))\n",
    "print(c)"
   ]
  },
  {
   "cell_type": "code",
   "execution_count": null,
   "id": "5eb8c4b5-da74-48a8-bf47-e4272c73a007",
   "metadata": {},
   "outputs": [],
   "source": []
  },
  {
   "cell_type": "code",
   "execution_count": null,
   "id": "feff308c-a3a8-4157-9fe7-08ec715dd6b4",
   "metadata": {},
   "outputs": [],
   "source": []
  }
 ],
 "metadata": {
  "kernelspec": {
   "display_name": "Python 3 (ipykernel)",
   "language": "python",
   "name": "python3"
  },
  "language_info": {
   "codemirror_mode": {
    "name": "ipython",
    "version": 3
   },
   "file_extension": ".py",
   "mimetype": "text/x-python",
   "name": "python",
   "nbconvert_exporter": "python",
   "pygments_lexer": "ipython3",
   "version": "3.11.5"
  }
 },
 "nbformat": 4,
 "nbformat_minor": 5
}
